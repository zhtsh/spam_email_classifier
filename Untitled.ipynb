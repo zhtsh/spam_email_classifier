{
 "cells": [
  {
   "cell_type": "code",
   "execution_count": 1,
   "metadata": {
    "collapsed": true
   },
   "outputs": [],
   "source": [
    "import nltk\n",
    "import numpy"
   ]
  },
  {
   "cell_type": "code",
   "execution_count": 3,
   "metadata": {
    "collapsed": false
   },
   "outputs": [
    {
     "name": "stdout",
     "output_type": "stream",
     "text": [
      "showing info https://raw.githubusercontent.com/nltk/nltk_data/gh-pages/index.xml\n"
     ]
    },
    {
     "data": {
      "text/plain": [
       "True"
      ]
     },
     "execution_count": 3,
     "metadata": {},
     "output_type": "execute_result"
    }
   ],
   "source": [
    "nltk.download()"
   ]
  },
  {
   "cell_type": "code",
   "execution_count": 5,
   "metadata": {
    "collapsed": true
   },
   "outputs": [],
   "source": [
    "sentence = \"At eight o'clock on Thursday morning Arthur didn't feel very good.\""
   ]
  },
  {
   "cell_type": "code",
   "execution_count": 6,
   "metadata": {
    "collapsed": false
   },
   "outputs": [],
   "source": [
    "tokens = nltk.word_tokenize(sentence)"
   ]
  },
  {
   "cell_type": "code",
   "execution_count": 7,
   "metadata": {
    "collapsed": false
   },
   "outputs": [
    {
     "data": {
      "text/plain": [
       "['At',\n",
       " 'eight',\n",
       " \"o'clock\",\n",
       " 'on',\n",
       " 'Thursday',\n",
       " 'morning',\n",
       " 'Arthur',\n",
       " 'did',\n",
       " \"n't\",\n",
       " 'feel',\n",
       " 'very',\n",
       " 'good',\n",
       " '.']"
      ]
     },
     "execution_count": 7,
     "metadata": {},
     "output_type": "execute_result"
    }
   ],
   "source": [
    "tokens"
   ]
  },
  {
   "cell_type": "code",
   "execution_count": 8,
   "metadata": {
    "collapsed": false
   },
   "outputs": [],
   "source": [
    "tagged = nltk.pos_tag(tokens)"
   ]
  },
  {
   "cell_type": "code",
   "execution_count": 9,
   "metadata": {
    "collapsed": false
   },
   "outputs": [
    {
     "data": {
      "text/plain": [
       "[('At', 'IN'),\n",
       " ('eight', 'CD'),\n",
       " (\"o'clock\", 'NN'),\n",
       " ('on', 'IN'),\n",
       " ('Thursday', 'NNP'),\n",
       " ('morning', 'NN'),\n",
       " ('Arthur', 'NNP'),\n",
       " ('did', 'VBD'),\n",
       " (\"n't\", 'RB'),\n",
       " ('feel', 'VB'),\n",
       " ('very', 'RB'),\n",
       " ('good', 'JJ'),\n",
       " ('.', '.')]"
      ]
     },
     "execution_count": 9,
     "metadata": {},
     "output_type": "execute_result"
    }
   ],
   "source": [
    "tagged"
   ]
  },
  {
   "cell_type": "code",
   "execution_count": 1,
   "metadata": {
    "collapsed": true
   },
   "outputs": [],
   "source": [
    "import email"
   ]
  },
  {
   "cell_type": "code",
   "execution_count": 78,
   "metadata": {
    "collapsed": true
   },
   "outputs": [],
   "source": [
    "msg = email.message_from_file(open('./preprocess/0485.9021367278833179285091e5201f5854', 'rb'))"
   ]
  },
  {
   "cell_type": "code",
   "execution_count": 64,
   "metadata": {
    "collapsed": false
   },
   "outputs": [
    {
     "data": {
      "text/plain": [
       "['__contains__',\n",
       " '__delitem__',\n",
       " '__doc__',\n",
       " '__getitem__',\n",
       " '__init__',\n",
       " '__len__',\n",
       " '__module__',\n",
       " '__setitem__',\n",
       " '__str__',\n",
       " '_charset',\n",
       " '_default_type',\n",
       " '_get_params_preserve',\n",
       " '_headers',\n",
       " '_payload',\n",
       " '_unixfrom',\n",
       " 'add_header',\n",
       " 'as_string',\n",
       " 'attach',\n",
       " 'defects',\n",
       " 'del_param',\n",
       " 'epilogue',\n",
       " 'get',\n",
       " 'get_all',\n",
       " 'get_boundary',\n",
       " 'get_charset',\n",
       " 'get_charsets',\n",
       " 'get_content_charset',\n",
       " 'get_content_maintype',\n",
       " 'get_content_subtype',\n",
       " 'get_content_type',\n",
       " 'get_default_type',\n",
       " 'get_filename',\n",
       " 'get_param',\n",
       " 'get_params',\n",
       " 'get_payload',\n",
       " 'get_unixfrom',\n",
       " 'has_key',\n",
       " 'is_multipart',\n",
       " 'items',\n",
       " 'keys',\n",
       " 'preamble',\n",
       " 'replace_header',\n",
       " 'set_boundary',\n",
       " 'set_charset',\n",
       " 'set_default_type',\n",
       " 'set_param',\n",
       " 'set_payload',\n",
       " 'set_type',\n",
       " 'set_unixfrom',\n",
       " 'values',\n",
       " 'walk']"
      ]
     },
     "execution_count": 64,
     "metadata": {},
     "output_type": "execute_result"
    }
   ],
   "source": [
    "dir(msg)"
   ]
  },
  {
   "cell_type": "code",
   "execution_count": 66,
   "metadata": {
    "collapsed": false
   },
   "outputs": [
    {
     "data": {
      "text/plain": [
       "'text/html'"
      ]
     },
     "execution_count": 66,
     "metadata": {},
     "output_type": "execute_result"
    }
   ],
   "source": [
    "msg.get_content_type()"
   ]
  },
  {
   "cell_type": "code",
   "execution_count": 79,
   "metadata": {
    "collapsed": false
   },
   "outputs": [
    {
     "data": {
      "text/plain": [
       "'<html><head>\\n<title>Congratulations! You Get a Free Handheld Organizer!</title>\\n</head><img src=\"http://www.ahamembership.com/cgi-bin/check_opens.cgi?acct_code=SG004\" width=1 height=1><body bgcolor=\"#ffffff\" text=\"#000000\">\\n\\n<center>\\n\\n\\n<table width=\"642\" border=\"0\" cellpadding=\"0\" cellspacing=\"0\">\\n<tr><td colspan=\"3\"><img src=\"http://www.ahamembership.com/assoc_images/7.3-header-PDA.gif\" hspace=\"0\"\\n     ></td></tr><tr><td width=\"4\" background=\"http://www.ahamembership.com/assoc_images/red-vertical.gif\">\\n</td><td width=\"600\">\\n\\n\\n\\n<table border=\"0\" width=\"600\" cellpadding=\"0\" cellspacing=\"10\">\\n<tr>\\n            <td valign=\"top\"> <A href=\"http://theadmanager.com/server/c.asp?ad_key=IAMVQXAAASEN&ext=1\" >\\n              </A> <font face=\"arial,helvetica\" size=\"2\">\\n              <p>Dear Friend,\\n              <p>I have your Personal Digital Organizer. It\\'s FREE, but I need to know where to send it. <A href=\"http://theadmanager.com/server/c.asp?ad_key=IAMVQXAAASEN&ext=1\" >Click\\n                Here</A> and complete the form.\\n              <p>        Organize your life and keep track of\\n            appointments, names and numbers with this modern digital organizer.\\n            Store up to 100 important text notes and 100 names/numbers.\\n            Features easy to use, touch-screen technology, 10 digit calculator,\\n            currency and metric converters, alarm clock and password\\n            protection.<BR><BR>Plus you can try all of our money-saving benefits\\n            FREE for 30 days. <A\\n            href=\"http://theadmanager.com/server/c.asp?ad_key=IAMVQXAAASEN&ext=1\">Act\\n            Now!</A>\\n\\n\\n\\n\\n              </font></P></td>\\n            <td valign=\"top\"> <font face=\"arial,helvetica\" size=\"2\">\\n              <p><A href=\"http://theadmanager.com/server/c.asp?ad_key=IAMVQXAAASEN&ext=1\" ><img src=\"http://www.ahamembership.com/assoc_images/pdaimage.gif\" border=\"0\"></A>\\n              </font></P></td>\\n          </tr><tr><td valign=\"top\" colspan=\"2\">\\n\\n<center>\\n<table border=\"0\" width=\"590\" cellpadding=\"0\" cellspacing=\"0\">\\n<tr><td valign=\"top\">\\n<font face=\"arial,helvetica\" size=\"2\">\\n<p>\\nYou also get a full subscription to HOME Magazine at no additional cost!\\n<A href=\"http://theadmanager.com/server/c.asp?ad_key=IAMVQXAAASEN&ext=1\" >\\nThis offer is risk-free</A>, registration only takes a minute and is completely secure.\\nIt\\'s that easy. Your satisfaction is guaranteed because our credibility is on the line.\\n<p>\\n<A href=\"http://theadmanager.com/server/c.asp?ad_key=IAMVQXAAASEN&ext=1\" >P.S.:\\nThis offer is only valid for the next 48 hours, so Act Now!</A> </p>\\n\\n\\n<center>\\n<A href=\"http://theadmanager.com/server/c.asp?ad_key=IAMVQXAAASEN&ext=1\" >\\n<img src=\"http://www.ahamembership.com/assoc_images/red-button.gif\" width=\"186\" height=\"34\" border=\"0\"></A>\\n<p>\\n<font face=\"Arial, Helvetica, sans-serif\" size=\"1\">\\nCopyright 2002, American Homeowners Association (AHA). All rights reserved.</font>\\n</center>\\n</font></P></td></tr></table>\\n</center></td></tr></table>\\n\\n\\n</td><td width=\"3\" background=\"http://www.ahamembership.com/assoc_images/red-vertical.gif\"> </td></tr><tr><td colspan=\"3\">\\n<img src=\"http://www.ahamembership.com/assoc_images/red-bottom.gif\" width=\"642\" height=\"43\">\\n</td></tr></table>\\n\\n</center>\\n\\n<img src=\"http://admanmail.com/server/t.asp?ad_key=IAMVQXAAASEN\" width=\"1\" height=\"1\" hspace=\"0\" vspace=\"0\" border=\"0\" alt=\"T\">\\n<hr size=\"1\" noshade>\\n<font face=\"Arial\" size=\"1\" color=\"#000000\">\\nYou are receiving this mailing because you are a\\nmember of SendGreatOffers.com and subscribed as:JM@NETNOTEINC.COM\\nTo unsubscribe <a href=\"http://admanmail.com/subscription.asp?em=JM@NETNOTEINC.COM&l=SGO\">\\n<font face=\"arial\" size=\"1\" color=\"#000000\">Click Here</a>\\n(http://admanmail.com/subscription.asp?em=JM@NETNOTEINC.COM&l=SGO)\\nor reply to this email with REMOVE in the subject line - you must\\nalso include the body of this message to be unsubscribed. Any correspondence about\\nthe products/services should be directed to\\nthe company in the ad.\\n%EM%JM@NETNOTEINC.COM%/EM%\\n<BR></FONT> </body> </html>\\n\\n\\n'"
      ]
     },
     "execution_count": 79,
     "metadata": {},
     "output_type": "execute_result"
    }
   ],
   "source": [
    "msg.get_payload()"
   ]
  },
  {
   "cell_type": "code",
   "execution_count": 69,
   "metadata": {
    "collapsed": false
   },
   "outputs": [
    {
     "data": {
      "text/plain": [
       "'Customer Service <greatoffers@sendgreatoffers.com>'"
      ]
     },
     "execution_count": 69,
     "metadata": {},
     "output_type": "execute_result"
    }
   ],
   "source": [
    "msg.get('from')"
   ]
  },
  {
   "cell_type": "code",
   "execution_count": 70,
   "metadata": {
    "collapsed": false
   },
   "outputs": [
    {
     "data": {
      "text/plain": [
       "False"
      ]
     },
     "execution_count": 70,
     "metadata": {},
     "output_type": "execute_result"
    }
   ],
   "source": [
    "msg.is_multipart()"
   ]
  },
  {
   "cell_type": "code",
   "execution_count": 77,
   "metadata": {
    "collapsed": false
   },
   "outputs": [
    {
     "name": "stdout",
     "output_type": "stream",
     "text": [
      "UNCOMMON EXOTIC PLEASURE BOTANICALS!\n",
      "\n",
      "Feeling marvelous, Mood-Sensitive, Mood-Enhancing, Depressive/Regressive, \"Sweet Treat\" forumulations for the Pleasuring and Well-Being of Body, Mind & Spirit from the planet's foremost \"Sensitive\" ethnobotanical cooperative -- Exotic Botanical Resources! (Product descriptions, pricing and deep-discounted Intro Offers information below.)\n",
      "\n",
      "SEVENTH HEAVEN \"SWEET TREAT\" MENU \n",
      "\n",
      "1. SHANGRILA ZOWIE WOWIE (tm) (Gnarly Sweet Grass).  Absolutely, the most significant legal \"Personal Choice\" non-cannabis, non-marijuana, non-tobacco smoking botanical on the planet.\n",
      "\n",
      "2. PROSAKA (tm) High-Ratio extracts in tablet form for Calm, Balance, Serenity & Peaceful living.\n",
      "\n",
      "3. AQUEOUS KATHMANDU (tm) (Happy Drops) \"Personal Choice\" enhanced \"Sensitivity\" for non-smokers & tokers.\n",
      "\n",
      "4. SWEET VJESTIKA (tm) (Aphrodisia Drops) Erotica; Intimacy \"Sensitivity\" Enhancement at its finest for men & woman.\n",
      "\n",
      "5. GENTLE FEROCITY (tm) Viripotent Energization, Appetite Suppression Tablets without the inclusion of  Caffeine or MaHaung Herb or Ephedrine!\n",
      "\n",
      "6. CAPILLARIS HERBA (tm) A sedate smoking and/or brewing Happiness  Botanical. \n",
      "\n",
      "********************************\n",
      "**Shangrila Zowie Wowie (tm)**\n",
      "********************************\n",
      "\n",
      "\"Personal Choice\" Primo Exotic Supplemental Smoking Botanical / Gnarly \"SweetGrass\" Variety / Supplemental Agenda \"Seventh Heaven\" Paradoxical Configuration for the \"significant\" Enhancement and Pleasuring of body, mind & spirit \"sensitivities\" -- Potentiated; Gnarly, whole-plant Matrix  -- Paragonic Reserve; Enigmatic Blendage Mood \"Sensitive / Responsive\" Smoking / Brewing Herba.\n",
      "\n",
      "Actions & indications: Simultaneous, High-Spirited; \"Stimulation / Relaxation / Aphrodisia\" (Significant Paradise Consequence!)\n",
      "\n",
      "This is the Personal Choice, Sensitive, Responsive Smoking (\"Smoka\") product we have wanting to offer! This is the product and the VALUE that you have been searching for. This is the product that you will buy again & again!\n",
      "\n",
      "We have been in the business (science) of developing non-cannabis, personal choice sensitive smoking agendas for a good, goodly while. Along this avenue of ethnobotany, we have always strived to achieve greater and greater \"Sensitivity / Responsiveness\" & Aphrodisia within our gourmet smokables and brews. And indeed, we have. Many of these previous products are still marketed today by companies who are less developmental than our botanical resource cooperative. Even our own two signature \"smokables\" (Ragga Dagga & Stoney Mahoney) are being discontinued. That Shangrila Zowie Wowie is by far such a superior product is undeniable, therefore it makes no sense to us at all to offer any other smoking product. Quite simply we have surpassed even our own expectations of excellence, thereby; our definition of excellence has evolved. This \"Shangrila\" project has been in research and development for sometime on two fronts. First, on an agricultural level, fields for our Gnarly SweetGrass!\n",
      " must be planted and be allowed to propagate for several years before initial harvest can even be undertaken. This is how the botanical achieves \"potent significance\" much like the regimen of ginseng. Also, harvest time is limited and can take place only twice a year, as like the hemp plant, maximum potency is only achieved after \"flowering\" occurs. But, unlike the hemp plant, and for that matter, unlike most herbs, the entire base plant of Shangrila Zowie Wowie (leave, stem & root) is all \"viripotent,\" which makes this \"gnarly stoke\" a botanical phenomenon! As well, most potentiating factors of Shangrila, as well as the primary botanical factor of Shangrila, will not achieve \"viripotency\" if grown in our hemisphere, therefore; Shangrila is indeed a multi-national, multi-complicated, agricultural undertaking. However, all of this undertaking has indeed been worthwhile! Secondly, the potentiating, infusion regimen used to enhance the attributes of Shangrila has also taken a lon!\n",
      "g time to bring into potent fruition as there are many balancings of the various molecular factors involved in the completion of Zowie Wowie. We are most pleased to be able to say, as you will note in the experience of Shangrila Zowie Wowie, that this process has achieved fruition.\n",
      "\n",
      "Suffice to say, without any hype or glype, Shangrila Zowie Wowie Gnarly SweetGrass is without a doubt, the most significant, non-invasive, non-cannabis, \"sensitive/responsive\", personal choice, absolutely legal (cannot fail a drug test), smoking (\"Smoka\") botanical on our planet ... probably in the universe! Hard to believe that this product is ABSOLUTELY LEGAL!\n",
      "\n",
      "* Mill-stoned & honed.\n",
      "* Depressive regressive!\n",
      "* Psychologically uplifting!\n",
      "* Good-bye stress, anxiety & restlessness!\n",
      "* Sophisticated, well-balanced \"ambiance.\"\n",
      "* Inspires contemplativeness and creativity.\n",
      "* \"Potentiated\" & viripotent!\n",
      "* 4 � 5 draws lasts a good, goodly while.\n",
      "* Sweet aphrodisia! (Horny Goat Weed factoring)\n",
      "* Simultaneously; uplifting and relaxing!\n",
      "* Easy ignition, Smooth draw, Sweet, heady taste.\n",
      "* Easy on, easy off!\n",
      "* SATISFACTION GUARANTEED!\n",
      "* No \"munchie\" factor.\n",
      "* No failed drug tests!\n",
      "\n",
      "Shangrila Zowie Wowie (tm) Gnarly \"SweetGrass\" botanical is best utilized as a viri-potent \"Smoka\", via an herb-pipe. As is an herbalist's way, four or five draws of \"Smoka\" should be inhaled and retained. For the non-smoker, it is most appropriate to engage this herbaceousness as a potentiated tea/brew. (Steep approximately one teaspoon of Shangrila Zowie Wowie (tm) herba per one cup of water for ten minutes or so & strain.) When smoking Shangrila Zowie Wowie (tm), please draw gently as it is a most preeminent \"Sensitive / Responsive\" Smoke. Both a personal water-pipe (huuka) (water-pipe is included with quarter pound can only) and a standard herb-pipe are included for your smoking convenience and delight. Smoke and Brew concurrently is absolutely a Sweet, Sensitive Treat!\n",
      "\n",
      "Shangrila Zowie Wowie (tm) \"Sensitive/Responsive\" Smoka includes and is potentiated with the following non-irradiated, Mill-Stoned & Honed, exotica botanicals and botanical essences: Half-edged Lily-rare Bian Lian (lobeline factors), Kona Lactuca virosa, Yucatan Turnera aphrodisaca, Hawaiian Vervain (Maui strain), Siberian Leonorus Sibricus, rare Lotus Leaf, Jamaican Blue Verbena officinalis, Spanish Peumus Crocus Sativa, Chinese (flowering-tops only) Horny Goat Weed, Ginko Biloba, African Cola Vera, and African Wilde Dagga (flowering-tops only). Shangrila Zowie Wowie (tm) does not include any tobacco or any cannabis factors. Shangrila Zowie Wowie (tm) does indeed achieve gourmet distinction upon its own merit.\n",
      "\n",
      "Shangrila Zowie Wowie (tm) is not intended for use during work or while driving. Nor should it be enjoyed during pregnancy. In addition, although no factor in Shangrila Zowie Wowie (tm) is illegal or regulated, it is the ethical policy of Exotic Botanical Resources that Shangrila Zowie Wowie (tm) not be sold or offered to any person that has not attained at least 21 years of age.  All things in their time.... \n",
      "\n",
      "********************************************************\n",
      "SHANGRILA ZOWIE WOWIE PRICING:\n",
      "\n",
      "* One 1 oz. bag (incl. herb-pipe only) $80.00 (plus shipping)\n",
      "* One 4 oz. Q.P.C. (Quarter Pound Can) (incl. herb-pipe & \n",
      "personal brass hookah)  $150.00 (plus shipping) \n",
      "Also included as an added BONUS with each Q.P.C. purchase is a FREE 2 oz. package of our Capillaris Herba.\n",
      "\n",
      "(See Intro Offers at bottom of this text for further savings)\n",
      "\n",
      "******************\n",
      "**PROSAKA (tm)**\n",
      "******************\n",
      "\n",
      "High-Ratio extracts in tablet form for Calm, Balance, Serenity & Peaceful living.\n",
      "\n",
      "This Prosaka formulation, which we have just recently further potentiated, boasts an extremely loyal and abundant patronage, having been available to market at large now for a number of years. Prosaka botanical tablets were originally introduced as a botanical, supplemental alternative to various traditional medications that are prescribed for stress, anxiety, depressiveness, mood enhancement, insomnia, excessive dream activity, etc. We like to use this analogy: Imagine the circumstances of your life to be hurricane-ish. Certainly, Prosaka will not stop the wind from blowing. However, it will help to center you within the calm eye of your hurricane, so that you will better see your living and make your decisions from a calmer, more serene, more balanced perspective. Please note that when undertaking any supplemental herbal regimen in this arena, it is important to make a personal commitment to the therapy. It would make no sense to purchase Prosaka and to take it only sporadic!\n",
      "ally or only briefly. It is for this reason, although Prosaka is a very expensive formulation to produce; that we offer 300 count containers at as much of a reduced price as we are able to offer.\n",
      "\n",
      "Prosaka is an exclusive, proprietary amalgamation in tablet form which includes the following uncommon botanicals, extracts, flower-top essences and essential oils: Radix Salviae, Sensitive Mimosa Bark, Arillus Euphoriae, Shizandra, Frutcus Mori, Caulis Polygoni, Zizyohus, Tang Kuei, Cedar Seed, Sweetflag Rhizome, Cuscutae, Amber, Radix Scutellariae, Evodia, Longan, Arisaema, Cistanches, Radix Polygalae, Red Sage Root and Eucommia. No factor contained within Prosaka is restricted or regulated by law. All botanicals contained within are non-irradiated and are of pharmaceutical grade. \n",
      "\n",
      "Suggested Usage: 1 - 2 tablets; 2 to 3 times per day as needed. Best taken on an empty stomach. (During times of intensity up to 10 tablets per day may be utilized.) \n",
      "\n",
      "Also Note: Prosaka is not intended to supercede physician's care nor is it intended for use during pregnancy.\n",
      "\n",
      "********************************************************\n",
      "PROSAKA PRICING:\n",
      "\n",
      "* One 100 count bag ... $55.00 plus shipping\n",
      "* One 300 count container ... $130.00 plus shipping\n",
      "For larger quantities, please inquire.\n",
      "\n",
      "(See Intro Offers at bottom of this text for further savings!)\n",
      "\n",
      "*******************************************\n",
      "**AQUEOUS KATHMANDU (tm) (Happy Drops)**\n",
      "*******************************************\n",
      "\n",
      "\"Personal Choice\" enhanced \"Sensitivity\" for non-smokers & tokers.\n",
      "\n",
      "Aqueous Kathmandu has only been offered to market at large for a short while. However, in a short time this product has achieved a tremendous, very happy following.\n",
      "\n",
      "Aqueous Kathmandu (tm) \"Sensitive/Responsive\" Happiness Drops(Temple \"Quantum\" Variety). Indeed; a Happiness Brew from the Kathmandu a.k.a. \"Secret Fire\" from a toke-smoke point of view, if you know what I mean and be groovin' the scene. Who du the Kathmandu? Now, everybody can du the Kathmandu!  (that is, if you're 21 years of age or older) Aqueous Kathmandu is engaged to holistically inspire and instill \"sensitive/responsive\" happiness and mellowness without the detriment of carcinogenic inhalation (smoking). Aqueous Kathmandu is absolutely legal and does not contain any controlled, considered to be harmful or regulated herbs or cannabis/marijuana factors!\n",
      "\n",
      "As \"smoking\" has become so socially taboo over the years and as so many people have asked us for a liquid product, we have long strived to bring a quantum-factored, concentrated liquid product to fruition. This has been no easy task for a variety of botanical and technological reasons. Finally, we are able to say that this task has been accomplished. A \"Sensitive\" herbal/botanical awakening, if you will, as we have introduced and brought to market Aqueous Kathmandu (tm) Happiness Drops, Temple \"Quantum\" Variety, a.k.a. \"Secret Fire.\"\n",
      "\n",
      "- NO need to smoke.  NO carcinogenic factors!\n",
      "- Absolutely Legal!  NO Prescription Required.\n",
      "- NO Failed Drug Tests!\n",
      "- NO Cannabis or any Tobacco variety.\n",
      "- Quantum-Ratio, Core-Extracted, Refined Organic Factors.\n",
      "- Marvelously Potent - REMARKABLY Substantial! \n",
      "- Inspires Contemplativeness and Creativity!\n",
      "- Attitude and Mood Enhancement, Adjustment.\n",
      "- Interrupts Anxiety, Relaxes Stress.\n",
      "- A much superior product Better than Kava Kava, St. John's Wort, etc.\n",
      "- Many fine ganja virtues with NONE of the Negatives!\n",
      "- Better sleeping and dreaming.\n",
      "- Non-invasive - NO Downside!\n",
      "- Promotes Body, Mind and Spirit Intimacy.\n",
      "\n",
      "Contents: Aqueous Kathmandu is a unique botanical substantiality.  It is offered and marketed as such.  Undisputedly, it achieves \"distinctive accolade\" of its own merit.  Aqueous Kathmandu is absolutely legal and does not contain any controlled or regulated or harmful herbs or cannabis factors.  However, it is our mandatory ethical policy that Aqueous Kathmandu not be offered to individuals who have not yet attained at least 21 years of age (all things in their time).  Please note as well that Aqueous Kathmandu is not intended for usage during work or while driving.  And, as is true of all substance and indulgence, this product should not be enjoyed during pregnancy.  This proprietary formulation does include the following quantum-ratio, core-extracted/refined botanicals in an alcohol base as a preservative: Albizzia flower-tops, Drachsha, Chavana Prash, Lactuca Virosa, Hybrid Flowering Turnera Diffusa, Wild Dagga, Capillaris Herba, Angelica Root, Zizyphi Spinosae, Buplerum, !\n",
      "Hybrid Valeriana officinalis Root, Albizzia flower-tops, mature Polygonum Vine, Calea Zacatechichi, Crocus Sativa flower-tops, Leonorus Sibricus buds, Cinnabaris, Margarita herba, Biotae Orientalis, Salviae Miltiorrhizae.\n",
      "\n",
      "Usage Instructions: Shake well. Mix 30-50 drops with juice or water (best on empty stomach). Ambiance lasts about two hours or so. Not intended for use during pregnancy or while working or driving. Keep out of reach of children.\n",
      "\n",
      "********************************************************\n",
      "AQUEOUS KATHMANDU PRICING:\n",
      "\n",
      "* One 2 oz. bottle (90+ usages)... $115.00 plus shipping\n",
      "* Two 2 oz. bottles ... $170.00 plus shipping\n",
      "\n",
      "(See Intro Offers at bottom of this text for further savings!)\n",
      "\n",
      "********************************************\n",
      "**SWEET VJESTIKA (tm) (Aphrodisia Drops)**\n",
      "********************************************\n",
      "\n",
      "Erotica, Intimacy \"Sensitivity\" Enhancement at its finest for men & women.\n",
      "\n",
      "Even we did not imagine the \"sweet\" customer appreciation that Sweet Vjestika has enjoyed. Now, more potent than ever due to higher concentrations of Sweet Vjestika's botanical factors, this is intimacy enhancement at its finest.\n",
      "\n",
      "Sweet Vjestika is an erotic aphrodisia, sexual intensifier/enhancer, liquid amalgamated extract for men & women.  Indeed, a HeavenSent Treasure of Pleasure to entice your Passion, to intrigue your Desire, Enchantment's Rapture, Sweet Vjestika's Fire.\n",
      "\n",
      "The Tantra Sacrament of Sweet Vjestika Aphrodisia Drops Extravagantly Inspires and Enhances:  \n",
      "\n",
      "*Sensitivity to touch \n",
      "*Desire to touch & be touched\n",
      "*Fantasy / Lust / Rapture / Uninhibitedness \n",
      "*Erogenous sensitivity\n",
      "*Sexual courageousness \n",
      "*Sexual gentleness and ferocity\n",
      " \n",
      "SWEET  VJESTIKA  APHRODISIA  DROPS\n",
      "\n",
      "*Prolongs and intensifies foreplay \n",
      "*Prolongs and intensifies  orgasm / climax \n",
      "*Inspires body, mind, spirit orgasm / climax \n",
      "*Inspires and enhances body, mind, spirit communion betwixt lovers \n",
      "*Inspires and enhances the enchantment / glamourie of Love\n",
      " \n",
      "Contents: Whole MaHuang, Bee Pollen, Epimedium Angelica, Rehmannia, Ginger, Schizandra, Polygonatum, Adenophora, Tremella, Tang Kuei, Reishi, Codonopsis, Eucommium, Lycii Berry, Ligusticum, Peony Root, Fo Ti, Atractylodes, Ophiopogon, Royal Jelly, Euryales Seeds, Poria, Licorice, Mountain Peony Bark, Cormi Fruit, Rose Hips, Prince Ginseng, Scrophularia, Alisma, Astragalus, Fennel, Buplerium, Cypera, Aconite, Polygala, Red Sage Root, Jujube Seed, Lotus Seed, Tien Chi Ginseng, Ligus Ticum, Psoralea, Dodder Seed, and Cisthanches in a solution containing 24% pure grain alcohol as a preservative, distilled water and Lecithen as an emulsifier. \n",
      "\n",
      "Suggested Usage: Sweet Vjestika is extremely potent.  Use 10 - 15 drops sublingually or in juice or tea, not to exceed 25 drops.  Best when taken upon an empty stomach approx. 45 minutes before intimacy.  Based upon 25 - drop increments there are approx. 60 dosages per 1 oz. bottle.  Usage should not exceed 2 doses per week.  Persons taking any prescription medication or suffering from depression or anxiety, should consult with their health care provider before using.  This product is not intended for usage by persons with abnormal blood pressure or any cardiovascular malady or any thyroid dysfunction.  Nor is it to be used during pregnancy or by any person under 21 years of age.\n",
      "\n",
      "********************************************************\n",
      "SWEET VJESTIKA PRICING:\n",
      "\n",
      "* One 1 oz. bottle (approx. 60 dosages) ... $90.00 plus shipping\n",
      "* Two 1 oz. bottles (approx. 120 dosages) ... $140.00 plus shipping\n",
      "\n",
      "(See Intro Offers at bottom of this text for further savings!)\n",
      "\n",
      "***************************\n",
      "**GENTLE FEROCITY (tm)**\n",
      "***************************\n",
      "\n",
      "Heaven-Sent \"Viripotent\" Energization, Appetite Suppression Tablets without the inclusion of  Caffeine or MaHaung Herb or Ephedrine! \n",
      "* NO jitters.  \n",
      "* NO inability to sleep at bedtime.\n",
      "* NO strung-out feeling!\n",
      "\n",
      "A non-caffeine, non-ephedrine, non-ephedra, non-MaHuang; virpotent, herbaceous prescription for the dynamic energization of body, mind and spirit.\n",
      "\n",
      "This Gentle Ferocity Formulation is amalgamated in accordance with the fundamental Taoist herbal principle of botanical interactiveness and precursorship which in essence is a molecular equation of the relevant botanical/herbal alkaloids and glycosides interacting with one another to proliferate molecular communion and thereby to achieve demonstrative herbal efficaciousness without negative implication to any aspect of human composition. These Gentle Ferocity Cordial Tablets are incredulously and thoroughly effective. Enjoy!\n",
      "\n",
      "Entirely Natural!  Increases Energy!  Increases Metabolism!  Decreases Appetite!\n",
      "\n",
      "Contents: Each Gentle Ferocity Tablet contains 500 mg. of the following proprietary formulated, high-ratio concentrated botanical factors: Cortex Eucommiae, Radex Polygoni Multiflori, Zizyphus Seed, Fructus Schisandrae, Radix Panax Ginseng, Radix Astragali, Atractylode, Sclerotium, Porial Cocos, Saussurea Tang Kuei, Longan, Radix Paeoniae, Biota Seeds, Glehnia, Radix Salviae, Ligusticum, Lycu Berry, Radix Dioscoreae, Cortex Mouton, Frutcus Corni, Radix Polygalae, Cistanches, Radix Pseudoslellariae and Cortex Aranthopanacis. \n",
      "\n",
      "Suggested Usage: 1 - 2 tablets as needed. Best taken on an empty stomach. Not to exceed 6 tablets per day.  Please Note: Persons with high blood pressure or any cardio-vascular malady should consult with their health care provider before engaging Gentle Ferocity.  Also: Gentle Ferocity is not intended for use during pregnancy nor is it intended for acquisition by any person who has not attained at least 18 years of age.\n",
      "\n",
      "********************************************************\n",
      "GENTLE FEROCITY TABLETS PRICING:\n",
      "\n",
      "* One 300 count jar ... $130.00 plus shipping\n",
      "* Two 300 count jars .. for $220.00 plus shipping (reg. $260, save $40)\n",
      "* Three 300 count jars .. for $290.00 plus shipping (reg. $390, save $100)\n",
      "\n",
      "(See Intro Offers at bottom of this text for further savings!)\n",
      "\n",
      "***************************\n",
      "**CAPILLARIS HERBA (tm)**\n",
      "***************************\n",
      "\n",
      "A Sedate Smoking or Brewing Happiness Botanical.\n",
      "\n",
      "Capillaris Loose-leaf Herba is a very calming, happy sort of smoking/brewing herba. Capillaris Herba is a singular botanical and is best utilized close to bedtime as it is a very sedate herba. Not as potent as Shangrila Zowie Wowie from a smoking perspective (no legal product is), but well worth your attention! Many folks find that if they partake of both smoke and brew that not only do they go to sleep very happily, but that their dreaming life is often nicely enhanced.\n",
      "\n",
      "Capillaris Herba botanical is best rolled or bowled when engaged as a \"Smoka.\" As is an herbalist's way, four or five draws of \"Smoka\" should be inhaled and retained. For the non-smoker, it is most appropriate to engage Capillaris Herba as a most peaceful brew/tea. (Steep approximately one teaspoon of Capillaris Herba per one cup of water for ten minutes or so & strain.) \n",
      "\n",
      "Capillaris Herba is not intended for use during work or while driving. Nor should it be enjoyed during pregnancy. In addition, although no factor in Capillaris Herba is illegal or regulated, it is the ethical policy of Exotic Botanical Resources that Capillaris Herba not be sold or offered to any person that has not attained at least 21 years of age.  All things in their time.\n",
      "\n",
      "********************************************************\n",
      "CAPILLARIS HERBA PRICING:\n",
      "\n",
      "* One 2 oz. bag ... $65.00 plus shipping\n",
      "* Two 2 oz. bags ... $100.00 plus shipping\n",
      "\n",
      "(See Intro Offers at bottom of this text for further savings!)\n",
      "\n",
      "********************************************************\n",
      "\n",
      "\"CUSTOMER APPRECIATION\" INTRODUCTORY OFFERS \n",
      "\n",
      "All intro offers include a FREE 2 oz. package of our Capillaris Herba (regularly $65.00).\n",
      "\n",
      "PLEASE NOTE:\n",
      "\n",
      "All Exotic Botanical Resource Product are intended for sophisticated adult usage. No Exotic Botanical Resource product is intended for use during pregnancy and although no factor or product is regulated or illegal, it is the mandatory ethical policy of Exotic Botanical Resources that no XBR product be sold or offered to any person that has not attained at least 21 years of age.  All things in their time.\n",
      "\n",
      "A) NORTH INTRO OFFER -- Includes the following:\n",
      "* One 1/4 lb. can of Shangrila Zowie Wowie\n",
      "(incl. hookah & herb pipe) \n",
      "* One 300 count container of Prozaka tablets\n",
      "PRICE:  $180.00 (Reg. price $280 - you SAVE $100)\n",
      "\n",
      "B) SOUTH INTRO OFFER -- Includes the following:\n",
      "* One 1/4 lb. can of Shangrila Zowie Wowie \n",
      "(incl. hookah & herb pipe) \n",
      "* One 300 count jar Gentle Ferocity tablets\n",
      "PRICE:  $190.00 (Reg. price $280. You save $90)\n",
      "\n",
      "C) EAST INTRO OFFER -- Includes the following:\n",
      "* One 1/4 lb. can of Shangrila Zowie Wowie\n",
      "(incl. hookah & herb pipe) \n",
      "* One 1 oz. bottle of Sweet Vjestika Aphrodisia Drops \n",
      "PRICE:  $170.00 (Reg. price $240. You save $70)\n",
      "\n",
      "D) WEST INTRO OFFER -- Includes the following:\n",
      "* One 1/4 lb. can of Shangrila Zowie Wowie \n",
      "(incl. hookah & herb pipe)\n",
      "* One 2 oz. bottle of Aqueous Kathmandu \n",
      "PRICE:  $170.00 (Reg. price $265. You save $95)\n",
      "\n",
      "E) WET INTRO OFFER -- Includes the following:\n",
      "* One 2 oz. bottle of Aqueous Kathmandu\n",
      "* One 1 oz. bottle of  Sweet Vjestika Aphrodisia Drops\n",
      "PRICE:  $145.00 (Reg. price $205. You save $60)\n",
      "\n",
      "F) APHRODISIA INTRO OFFER -- Includes the following:\n",
      "* One 1/4 lb. can of Shangrila Zowie Wowie \n",
      "(incl. hookah & herb pipe)\n",
      "* One 1 oz. bottle of  Sweet Vjestika Aphrodisia Drops\n",
      "PRICE:  $150.00 (Reg. price $240. You save $90)\n",
      "\n",
      "G) MINI INTRO OFFER -- Includes the following:\n",
      "* One 1 oz. bag of Shangrila Zowie Wowie \n",
      "(incl. herb pipe only)\n",
      "* One 100 count container of Prozaka tablets\n",
      "PRICE:  $110.00 (Reg. price  $135. You save $25)\n",
      "\n",
      "H) VISIONARY INTRO OFFER -- Includes the following:\n",
      "* One 1/4 lb. can of Shangrila Zowie Wowie\n",
      "(incl. hookah & herb pipe)\n",
      "* One 300 count container of Prozaka tablets\n",
      "* One 300 count Gentle Ferocity tablets\n",
      "* One 1 oz. bottle of  Sweet Vjestika Aphrodisia Drops\n",
      "* One 2 oz. bottle of Aqueous Kathmandu \n",
      "PRICE:  $310.00 (Reg. price $615. You save $305)\n",
      "\n",
      "**********************************************************************\n",
      "\n",
      "To order via credit card or for customer \n",
      "assistance & product information, please call: \n",
      "\n",
      "1-623-972-5999 \n",
      "\n",
      "Hours: Mon. - Sat. 10 a.m. to 9 p.m. Central Time\n",
      "\n",
      "All orders are shipped next day via US Postal domestic and international Priority Mail.\n",
      "\n",
      "Beyond business hours, please enjoy automated convenience.  Leave your name and phone number and a convenient time to return your call.  Certainly, we will be happy to do so.\n",
      "\n",
      "***********************************************************************\n",
      "To remove your address from our list, click on the following link and send a blank email.  mailto:bm7@btamail.net.cn?subject=Remove\n",
      "\n",
      "\n"
     ]
    }
   ],
   "source": [
    "for part in msg.walk():\n",
    "    if part.get_content_type().lower() == 'text/plain':\n",
    "        print part.get_payload()"
   ]
  },
  {
   "cell_type": "code",
   "execution_count": 80,
   "metadata": {
    "collapsed": true
   },
   "outputs": [],
   "source": [
    "from HTMLParser import HTMLParser"
   ]
  },
  {
   "cell_type": "code",
   "execution_count": 88,
   "metadata": {
    "collapsed": true
   },
   "outputs": [],
   "source": [
    "# create a subclass and override the handler methods\n",
    "class MyHTMLParser(HTMLParser):\n",
    "    \n",
    "    _contents = []\n",
    "    \n",
    "    def handle_data(self, data):\n",
    "        data = data.strip()\n",
    "        data = data.replace('\\r', '')\n",
    "        data = data.replace('\\n', '')\n",
    "        if data:\n",
    "            self._contents.append(data)\n",
    "            \n",
    "    def get_body(self):\n",
    "        return ' '.join(self._contents)"
   ]
  },
  {
   "cell_type": "code",
   "execution_count": 89,
   "metadata": {
    "collapsed": true
   },
   "outputs": [],
   "source": [
    "parser = MyHTMLParser()"
   ]
  },
  {
   "cell_type": "code",
   "execution_count": 90,
   "metadata": {
    "collapsed": false
   },
   "outputs": [],
   "source": [
    "parser.feed(msg.get_payload())"
   ]
  },
  {
   "cell_type": "code",
   "execution_count": 91,
   "metadata": {
    "collapsed": false
   },
   "outputs": [
    {
     "data": {
      "text/plain": [
       "\"Congratulations! You Get a Free Handheld Organizer! Dear Friend, I have your Personal Digital Organizer. It's FREE, but I need to know where to send it. Click                Here and complete the form. Organize your life and keep track of            appointments, names and numbers with this modern digital organizer.            Store up to 100 important text notes and 100 names/numbers.            Features easy to use, touch-screen technology, 10 digit calculator,            currency and metric converters, alarm clock and password            protection. Plus you can try all of our money-saving benefits            FREE for 30 days. Act            Now! You also get a full subscription to HOME Magazine at no additional cost! This offer is risk-free , registration only takes a minute and is completely secure.It's that easy. Your satisfaction is guaranteed because our credibility is on the line. P.S.:This offer is only valid for the next 48 hours, so Act Now! Copyright 2002, American Homeowners Association (AHA). All rights reserved. You are receiving this mailing because you are amember of SendGreatOffers.com and subscribed as:JM@NETNOTEINC.COMTo unsubscribe Click Here (http://admanmail.com/subscription.asp?em=JM@NETNOTEINC.COM =SGO)or reply to this email with REMOVE in the subject line - you mustalso include the body of this message to be unsubscribed. Any correspondence aboutthe products/services should be directed tothe company in the ad.%EM%JM@NETNOTEINC.COM%/EM%\""
      ]
     },
     "execution_count": 91,
     "metadata": {},
     "output_type": "execute_result"
    }
   ],
   "source": [
    "parser.get_body()"
   ]
  },
  {
   "cell_type": "code",
   "execution_count": 92,
   "metadata": {
    "collapsed": true
   },
   "outputs": [],
   "source": [
    "from os import path"
   ]
  },
  {
   "cell_type": "code",
   "execution_count": 93,
   "metadata": {
    "collapsed": false
   },
   "outputs": [
    {
     "data": {
      "text/plain": [
       "['__all__',\n",
       " '__builtins__',\n",
       " '__doc__',\n",
       " '__file__',\n",
       " '__name__',\n",
       " '__package__',\n",
       " '_joinrealpath',\n",
       " '_unicode',\n",
       " '_uvarprog',\n",
       " '_varprog',\n",
       " 'abspath',\n",
       " 'altsep',\n",
       " 'basename',\n",
       " 'commonprefix',\n",
       " 'curdir',\n",
       " 'defpath',\n",
       " 'devnull',\n",
       " 'dirname',\n",
       " 'exists',\n",
       " 'expanduser',\n",
       " 'expandvars',\n",
       " 'extsep',\n",
       " 'genericpath',\n",
       " 'getatime',\n",
       " 'getctime',\n",
       " 'getmtime',\n",
       " 'getsize',\n",
       " 'isabs',\n",
       " 'isdir',\n",
       " 'isfile',\n",
       " 'islink',\n",
       " 'ismount',\n",
       " 'join',\n",
       " 'lexists',\n",
       " 'normcase',\n",
       " 'normpath',\n",
       " 'os',\n",
       " 'pardir',\n",
       " 'pathsep',\n",
       " 'realpath',\n",
       " 'relpath',\n",
       " 'samefile',\n",
       " 'sameopenfile',\n",
       " 'samestat',\n",
       " 'sep',\n",
       " 'split',\n",
       " 'splitdrive',\n",
       " 'splitext',\n",
       " 'stat',\n",
       " 'supports_unicode_filenames',\n",
       " 'sys',\n",
       " 'walk',\n",
       " 'warnings']"
      ]
     },
     "execution_count": 93,
     "metadata": {},
     "output_type": "execute_result"
    }
   ],
   "source": [
    "dir(path)"
   ]
  },
  {
   "cell_type": "code",
   "execution_count": 98,
   "metadata": {
    "collapsed": true
   },
   "outputs": [],
   "source": [
    "import os"
   ]
  },
  {
   "cell_type": "code",
   "execution_count": 100,
   "metadata": {
    "collapsed": false
   },
   "outputs": [
    {
     "name": "stdout",
     "output_type": "stream",
     "text": [
      "('/Users/apple/Documents/github_repos/spam_email_classifier/corpus', ['easy_ham'], ['20021010_easy_ham.tar.bz2', '20021010_hard_ham.tar.bz2', '20021010_spam.tar.bz2', '20030228_easy_ham.tar.bz2', '20030228_easy_ham_2.tar.bz2', '20030228_hard_ham.tar.bz2', '20030228_spam.tar.bz2', '20030228_spam_2.tar.bz2'])\n",
      "('/Users/apple/Documents/github_repos/spam_email_classifier/corpus/easy_ham', [], ['0001.ea7e79d3153e7469e7a9c3e0af6a357e', '0002.b3120c4bcbf3101e661161ee7efcb8bf', '0003.acfc5ad94bbd27118a0d8685d18c89dd', '0004.e8d5727378ddde5c3be181df593f1712', '0005.8c3b9e9c0f3f183ddaf7592a11b99957', '0006.ee8b0dba12856155222be180ba122058', '0007.c75188382f64b090022fa3b095b020b0', '0008.20bc0b4ba2d99aae1c7098069f611a9b', '0009.435ae292d75abb1ca492dcc2d5cf1570', '0010.4996141de3f21e858c22f88231a9f463', '0011.07b11073b53634cff892a7988289a72e', '0012.d354b2d2f24d1036caf1374dd94f4c94', '0013.ff597adee000d073ae72200b0af00cd1', '0014.532e0a17d0674ba7a9baa7b0afe5fb52', '0015.a9ff8d7550759f6ab62cc200bdf156e7', '0016.d82758030e304d41fb3f4ebbb7d9dd91', '0017.d81093a2182fc9135df6d9158a8ebfd6', '0018.ba70ecbeea6f427b951067f34e23bae6', '0019.a8a1b2767e83b3be653e4af0148e1897', '0020.ef397cef16f8041242e3b6560e168053', '0021.f8e73bdba7277d967af4d561f0402129', '0022.7241da4491c49b50c0470a3638ee35c4', '0023.b4a61a2990263e8825246e41a8d78399', '0024.771af861a302951df7630ec4ff1965a2', '0025.64d0382de54b9e4c5b4200173133b8d7', '0026.6baf1aea162ccb9a6e9f142c0715ceb4', '0027.11da06d9130a188bf0ffb2060881dbe9', '0028.54cf7aa229456fb33194b3a12a713e3e', '0029.7119e865bff73aca46681d96a451cb60', '0030.77828e31de08ebb58b583688b87524cc', '0031.af5b387661e1f58d3787ac41139106e5', '0032.f07a3f2152f2bedfc9492459c171012c', '0033.e3fd617544226dc06abf36c95a9a2d11', '0034.4be53f8dac3bd651ace83a38b6313c45', '0035.50b257408356cfcfce8cf2afe9fd7959', '0036.7ca216a105267375948e13b460d1fb8f', '0037.0c57a93c0241775d406efecf43ba19cf', '0038.f2ffa1197c969d067be4d01c26fa9b5e', '0039.5bf1ec6602c4657bac8d566604572ad5', '0040.930593a7e616570a2b63f2d774847316', '0041.af4e0891f17484c10c032f713bce43de', '0042.7ef6c72f88de15d72b1c0d9c164ccb78', '0043.2ea45c42b1ea15bc214723e142b81127', '0044.f1db2c76854ee58bc73d0c85ca6a86d2', '0045.910fa2e79f96c646f1b6c987c65cbe3f', '0046.05e8a863eaf20f90374d0a15427d9a16', '0047.5c3e049737a2813d4ac6f13f02362fb1', '0048.6dbad96d78f9dd6100a4ad2a8b8086b6', '0049.bda43370915afa1f557f7edab6913e04', '0050.fd9291b33ecd99af26da03a7d4152dc2', '0051.9281d3f8a3faf47d09a7fafdf2caf26e', '0052.40794e238104d6b01f36b0f4d5145175', '0053.71bcb179e702d98e88fd0bc081ba0f52', '0054.a6fa82d1b26c7772829e54ec41a1fbd3', '0055.b5509ace7ed62c900779c0c51cca92a3', '0056.6ac9eb23e2ef6c7e7eabc3fb0ac3038a', '0057.be5e34dcebd922928045634015e3ed78', '0058.a7c28223050c35c3a22ac4e2b5969111', '0059.b3b1b1d95976b70d9bbd6c39c6b8d5d2', '0060.877bf70a297621b9dc3bab0095f95027', '0061.20319a885b8cf6c88c8098eafd731396', '0062.b675bdb7b9e2321dfe97e48037fe7782', '0063.7823bd01e05ee0a1dda2f73f880838eb', '0064.7160290efcb7320ac8852369a695bcaf', '0065.b72ddcc517cc317f3fc1e79c3feeca15', '0066.dcf72ba90be7570f2f7edab45b23ae36', '0067.d77af11e9b2a74048c073462efecca12', '0068.f1c604a78739e4f966253d762c972dde', '0069.7173de1d2da14306c5a20e8abda7a6e2', '0070.4f269f2d783b479971f31006fe17ce62', '0071.75403094cab986a246c1e7ce3460e827', '0072.d1c080832388ae81835ca069e2efffa3', '0073.cd29b8202a4b05db3c6f0d71b72a3260', '0074.78000652dcb19856e85ff9637f0e52dd', '0075.faa4a28fdd9a82edd6d35ebb6bae3085', '0076.f565b68778786f9b9736f779489331f0', '0077.dc5578862c0e716ee82e78b0dffbc8d2', '0078.8481bc92aa3ab9d23ca30c0eaecfc5e4', '0079.083beadce354774290a4a5bc4175366e', '0080.7c3a836baaa732cd915546442c0fef1a', '0081.9d26c2d149545a1c5d23e2cd4dca1b5f', '0082.7f7858a1a7360410ed120899504c3a25', '0083.e506d3273b3dde9ae2d340cb0197a2a0', '0084.e84ff95488fab22c26801bcd5bae337e', '0085.1a80e2b1720bd5cbeb900554a5477d0b', '0086.b96641b3e0a2cf8c238976336d45a86c', '0087.dd5f3aa35f50008bf7dfc5059ac8a239', '0088.43fa07c598e8b3d272a1a00705398e48', '0089.8b3fea141f5b2f2e5b66a9f12148b7d0', '0090.314ec4268af7a3a1974d5eab84ea65af', '0091.3bdd7b578973ee005733480a8b6c9b54', '0092.a1560d2416687b2db8204c2fa69163f2', '0093.0c71febfdf6f3acbc4d0c76b777a8530', '0094.b7bf14fae9c31d0516cfe00dd9ab068d', '0095.b51416f612ac5737e0f4a5529ce453d1', '0096.0446f3ed63b550a8622c8671d8ae9a9c', '0097.39badf2fea6bcebc640bea05ced59b59', '0098.5053f669dda8f920e5300ed327cdd986', '0099.9f54be08406e67fd8944f2f1d0fbdd90', '0100.1728f45047ff2a1601d4e3ee91f26a00', '0101.48557f7f38d947eab77aefc03d0520a3', '0102.ba8679813c4b5f424fb225f09b2fb1f2', '0103.3fc5444196f4726ee138fbabc5086ea1', '0104.cbb1681451b2525d7aeec9eeb285306d', '0105.be508e1b909bae328d4a13fe898f60fb', '0106.808c5e5ed0b801f667a34ead8221972e', '0107.2447a90f32ab7642ff8309d41c242db2', '0108.e6e9cb097a3b5e37d94a7ff29bc4412a', '0109.4ccc46c546b93015aafdfc40495f187d', '0110.0bb9a36c3037be09867c0251e0fd6a3a', '0111.e10679164e671fd9211c0303af7ee9f0', '0112.b6c2ea75f9f7efcd3d0e4c43a751479c', '0113.55a6bf6a4534d447af2060b174c0d70a', '0114.72c7d2d85d9d99ce3ce268d09147bdea', '0115.41825f367f7f1efcc31e12376d82a994', '0116.4cfce953cce07ef03a0cd55ca18053ba', '0117.fbc79c02a2c13d6c9b36f9ba38a09170', '0118.4ebb343d73a83dc935197850e507aad6', '0119.98b90763eec7b4e91c06939eea2d2361', '0120.27898b8f966a9c687b1f93fcba5afd43', '0121.b475478456e52de66ef0b0fb501bbfd3', '0122.4c48475d458bbca7a14270745e452dd7', '0123.32e1738c4171dd9d70b727fd7973a291', '0124.2912ab5571d121e3b8c32c575b2526a9', '0125.1ada59664dfcb7a5a31e9820f9604fea', '0126.fc7d58812b4c004ee457355c9baf2e1e', '0127.2ac0e9f6527f224201604786789540b2', '0128.f2500674ec39065ae8a1f643c7100a2b', '0129.00f1783f1c15a77f1c5ec212f5bcf1d1', '0130.6007e5b54c03026fd924cf2d6b0b4008', '0131.b715566061ab90d0f8745ce0ac010832', '0132.bcd23223120c0be6b991ae0349cd127c', '0133.fe269b4e9538d5cb9907625c4b63dc2f', '0134.56b4bed3bd3a696ab5b271a6e37fa005', '0135.73f72161ad5758f0645151e87f5ff4b2', '0136.25b4244e9510e810f89f6570d476c0e8', '0137.015cd0ece1324c5514e742e224a77213', '0138.5bc0323b8aa075bd1e99610b50aa1150', '0139.4a3f2cb7efe7318e1ed9b698d1d4a1db', '0140.009d880f185eca560c8496da54b447ae', '0141.911fa855ce043ee41b450e6a1b0096d0', '0142.bcc958dabbad574174becaa16334a7e6', '0143.20b19246597ddb47db7da83f7a140e73', '0144.150618690d46b8b2207c8a27ca5ab837', '0145.7400cf6ab4cfe5ffeaab582c9730c656', '0146.2d301a1e07672538d669f5e571180d32', '0147.16b764c5bd3e419cc5b6d0145b2d8145', '0148.565dd83aaebb66fe284de9342a6a5c09', '0149.d59bb0d23ca8ad3a87e549d3e6172f26', '0150.69bb21344f49b27cec7373599b6e433d', '0151.4d1c8772327e44b20af6420e1d1c0a75', '0152.10d3220188413990b1deb862c509c818', '0153.f78ed3d22e441ab7bd6d006323a83621', '0154.9e065ee6214360e43b9873e39880159e', '0155.56e909508466675c86032e9f031cd09a', '0156.3d3293a5da919cf65959e6bd63feaf27', '0157.18c5e181c72acfc3a501a82907e58a59', '0158.05f321b3cb42b6b62bc8a250a7bad59f', '0159.72f1a01f64bfa9e06b21c4e778e14cd2', '0160.0040550972ece2c27ed01745f93b474b', '0161.5703ef6933a7f189ab48da12a925f5e4', '0162.4eb119208c169c5da0dc13a875cdcb34', '0163.1aff5d9dc36e51a0b43f1c31c4d5b28c', '0164.ae42a102de7318dc4876af403b6e5956', '0165.60d0c03c63a588f58ca91b791610e43c', '0166.f4acdf86d261b60094536bf5a654cc33', '0167.13f1e71a8070d4d34e65ec7a25d9e164', '0168.91cce4c84906ce507bd5e6362dd345c4', '0169.b19a689237947db7b9e244277e075edc', '0170.154c82ae0e1ccc4c9290aa1fa4de7b43', '0171.284f310dea6316d8971a18ff66a1a8dc', '0172.464b84890a849676c036baccf0f2344e', '0173.3898127723ae4ac964f41c1a555c6ecb', '0174.a916896b6119d1b8a138dfbbeeee7fa1', '0175.dd1831e0f3322282d3efa5da7aec74f9', '0176.bd5ef61e0c89ec035829f06f3fe5c7f8', '0177.fd72517a2ed2a2c29c9822b7124a8f0a', '0178.8405bbe39a5eb6c1814e3c16602099a4', '0179.dee566fc951284d1d3bd3a0fdae63f4d', '0180.5790a5f746fbfb83381a28a45889fd6d', '0181.d16658bb110eb37495081efa07319db1', '0182.6a44fa290eebac4c52eb17292623b630', '0183.fea0e7b48e16103e73462d5ee52b0d18', '0184.9006c74135af56c874879f0d45c1a689', '0185.2ed7f65beefa89e31abb4fbc75c18956', '0186.5abf85594c3b8c40a105eed1154569ed', '0187.3e01234a92697a2a414ed394ad7177ed', '0188.a7f061d0c2c0395922993a874d534dcb', '0189.01e4dc6ee1379e5ee100b4c33c9c3afd', '0190.41da72c46bce52a15056a0171b56a917', '0191.314e2f68086989044e631e347a03b979', '0192.550b44c030296255a8b7ac293f296a01', '0193.74f52046990258e5eb60e561dcd8c2fd', '0194.1f268aec480b5dcc15dcfd1b3ba5f005', '0195.9805aa7e0cec44d00677990ad4db450d', '0196.0e960d0db312a26fade743e699ac5428', '0197.59ea60c031993abdccb762f9dbb35340', '0198.62d2556d8ae158aa2b1410cb82bfff59', '0199.4596bad9aa0a3cba6d7c678253725f5e', '0200.f2cdb426806f3a924340a62789b6add9', '0201.9381ed9aa6cd60f2111acb409240a00b', '0202.e1c7980f6c8a70122d80771533795cb7', '0203.5f055220d95eaa1de71c7f24e004a7f5', '0204.d0d4480181d7f3becf6f755de8a21019', '0205.84f75723dcf7639ed057a32283048bdf', '0206.074e2d251c644abdbd8dab68d035e209', '0207.f7d2d40df256d6caea05314f5334a959', '0208.0577aa26cbb2382d8789377d351ca8bf', '0209.ce176e249d1b3d1bf97d02aaddb1ffd4', '0210.35f5f8aef973035bc4ec4ad13d717ebf', '0211.abf5659ad8e94f01551b685061f06d94', '0212.28ec74e3e60f9ea866ee8ef8e429254b', '0213.ee51a591f777be501b45101a6fe01776', '0214.2d5f01a083341062ac55f45a123f2dcd', '0215.201f7adff1b30b986939a5fa17a80a86', '0216.d46ac2cc3fa5d42e1a9b7d8b4339f789', '0217.36d91fd462703996ea8b15571a778f5b', '0218.9fc48080321710ad8478e7c1c61e4bf0', '0219.c885fbe9fa7e255d6f589b373c8608e3', '0220.1cca495dc30f98fc43adb00683029dbf', '0221.32f8ba14e3285ddafb44327f88a70aa5', '0222.160c5b2e2a80f71367b4d9a47f8f9d4e', '0223.a009cff7a913fae0e58d901e5e847a82', '0224.17430432fb67f4f3278eac9cba4714aa', '0225.80a615200726ed2da1bfd347dcfd648c', '0226.aafb7854f8f17e90f7e5e5f99c54e76e', '0227.95301af4d5382e2029db75a4ecf7560f', '0228.b83f2f4ef114c69d9ca927d1082b393f', '0229.49528f1403038d8d080420b023aa8d4f', '0230.a6e285288a40fccdbea8cf93de581ad2', '0231.1bc071b16de2cc1e2adab334be65f7c6', '0232.12e1f1709e19a9dcd8a0bc051ceeb2c4', '0233.8ee5f381dff013a0ccac9a01ac2d2976', '0234.4d23ca5049f3349529f5612ab5e2120d', '0235.3c824d680d31b3710d8f3475730dc42d', '0236.8af79b4e6416a984668d3f9c272a2822', '0237.a21d745179e22d780194543b7ad765ec', '0238.7b9b9b2e3b3ca24ae8960f03aab57964', '0239.58f51c99b02fc8b49664f15a855af780', '0240.01e0e10c03592e64df9a077f2cd56aba', '0241.f1989a8ee4ea188e90f3a5d4d40f4e36', '0242.a02f8a0ce9077130c10d33db2a16ec36', '0243.7cc0334826a0571058dc604dce04c446', '0244.82d1da61c4fd05691083eeb9886e0788', '0245.39190ace43266b978a8561863c8841c0', '0246.3422f94c01ebd283ffac23522268f3f8', '0247.98ed5d80f80da3915b5a1d10ee19c50a', '0248.a7515095844cf4106ed86f1348b8c85d', '0249.d591bcf606114a502b4d41e8f4dde95a', '0250.21660c434f8535865d04d112f8105708', '0251.f9d83ac9ced9eab63df7da2bccb83bc8', '0252.274e70cd31fb5c72b9e7aee909c53cb1', '0253.f8c6edd67ecdabe677a8f5cd082e3fc5', '0254.d40c629a02c7361e674d0d96ca130fe0', '0255.98492176173fd6951086bb7af9e0008a', '0256.6162c21da16ce179d6ed0238a7413a8d', '0257.d09e74208e9cb40c0eacbb77afa80e74', '0258.f47b7f8872a17204171574c20fb546ab', '0259.434a3208757e9738f7af6a004f42c5f1', '0260.b68400a28ee29cb2f24149a03db1fd9e', '0261.45da0560dfe8183b3433e2cf2f3a7835', '0262.4b1558b6e0d2e4edd9e8bed23afb9d40', '0263.ffa4db454754b3c66fd025e92912941e', '0264.a1183a59e4f0a71e80378d9404a3212f', '0265.84c034d3d76a3d069732c02e1101fe23', '0266.387a672eb91910a913cde6ebdf33ef05', '0267.218a528c448166d39f853cf75d8890dd', '0268.77ef28e27a9ee085646f260418072111', '0269.5a74b38284c7e9d85338eca0a25cb191', '0270.5a7d9b20e00fc24d6c929c198718f5a3', '0271.349d737f101674586c61996593772a63', '0272.c3e06e3aa72f63dee68faaed6fbaaa1a', '0273.b76b7b918548a82372b04341746503e7', '0274.62155dd02f8719d2cfd0f76671549737', '0275.42292c1f2e4d6db665ed49a551960b3b', '0276.394eddb373972d985cabf6f63953a3d0', '0277.43d8f575fabb051cc7041c02c9f002a8', '0278.11523c7a537578530720c5a697c916c7', '0279.42cd63d15451f9b7dbe750ea896ed78b', '0280.6dca279b3e6aa252197d8439841032b4', '0281.b12d42ee9c0659d41d852c277bff8cde', '0282.fd87e7b9765004f6123ebe981bc16a1c', '0283.469fc9946c6d920af042b022bd63a2f9', '0284.4af1f0641ea6aae6a9645dcbeabe95e9', '0285.c50f8a5a908e21636fe71e522c3e462a', '0286.25aefc468274fe144edb1ee788d6c999', '0287.18f9a821d67a503c0d54a2356a0f8a4a', '0288.3ae040d2c993ea997470df41f31aebcb', '0289.cb9c0595bddae2c25357ce5c9fbaf687', '0290.3dc3f5442e351aea16d027b6c5a44e65', '0291.b37f92cfbb14d2f6a43c705ef7381702', '0292.6599ff4b0c1593297dd17247919b3fcf', '0293.24bc65777fdb12d17b16e3976c1f7c17', '0294.145bbce5c541610ee520838637d2e112', '0295.27b3176967da2ccf237679a15788d821', '0296.42216a75e0256510b216eaba6893d40d', '0297.738b9e94deb4bf077221292f071de345', '0298.fb2fe4458efbd24753b011bf6db2deab', '0299.4634eee63f5808c91c2f30720802a5c5', '0300.2e30b3bffb4f2887df203c197d11e936', '0301.a1d81dfa1becbc6fbf1cec39b45c2a05', '0302.fdd70fa4825d589e4646798a785f6902', '0303.e334b6aaad7609a7613e33bb21cc9636', '0304.73bb5ec3f02f4db15750531e226b1cb8', '0305.99f57ae578aceda0433b60cb35fd4ea2', '0306.7e8d58915713dcad975ed5591b31bdf4', '0307.d7beae100d2ee2557b7fed18b6050a49', '0308.5c3218cf2a6260c6178cbea1b9e345f7', '0309.f8e4b246af5b6e995aef2cae7f325a1c', '0310.e43b2f0e48c428fa52100f29a9e0d5ac', '0311.de3984f9da9dba841ba515681fa065a6', '0312.d17a25919e7985a270c6fdee37a8f83e', '0313.6668b975a285edaaecc0aac3b36d3fa8', '0314.105a762fc4c2f6b46bc40fdbd14e5754', '0315.15b9ae14057d961ba4ccec2283b8d90a', '0316.0b7a8e1acbd09115574dc58120d93000', '0317.6db6d4e89fecd143caaf99e030792bd1', '0318.839e0c92ebdd46043e20fa8c2846284d', '0319.d519b69614d9182047e448e4d96db712', '0320.6c54ea1bb991c6fae395588219cfce37', '0321.b100345ae7b5e980f41d9c6e0ff3159a', '0322.1f9c23ccba1c0408c648f6cb0b392e93', '0323.d28819c84ee48388f5a58021028385dc', '0324.d425c24d444091807e283e66449853b0', '0325.2de3d7f6cb27edcb0bcc965b3353a5ed', '0326.703aa5be82f6586d348723b732176418', '0327.bf6719c9c1709b6da832232acb1ee97f', '0328.dd38a12b955002695e7a0ec81129b043', '0329.0479ba224116953d0c94c30edbc91b55', '0330.5bb543263217abfd949c7c2060ab0a7e', '0331.f9bcb003e6d1710da66b329d2eba303a', '0332.daed28f33b65dd9f1c91fa3737d21340', '0333.b702dbd33bcec7b614b9f223b2487688', '0334.c59bc33795d3a1b56747297a900bd0ce', '0335.fcbba7ed1ebfb6dc83ba2f65d555240e', '0336.d8d6d93ff9918e7a6b4b83a5bda3043e', '0337.9ae9f15c4dceca867140e95cad506234', '0338.b09f1384db1376a00e1c885adf9a1e05', '0339.45c8c8ff5b106eddd657973d07462c82', '0340.aae9e33fb151ae061354b8cfe9f90b3d', '0341.e8a70f3df9757b1df7d8e36de3e01b0d', '0342.16612b49bb48a41b6bdba8dff6bb2399', '0343.6e7c6e5766528e1cf49b6dfb904b8182', '0344.df8e2450d47669cc5ae2a6e2c0cce1a5', '0345.c30e766af45337ac505a52ad592ab954', '0346.99d1bb3416a43eaa05b6162d7f38eb71', '0347.0e43f8ba3aadeed419f512188e5d8aa4', '0348.3b405d7ce51b88004e6106862f9e3ac4', '0349.1f77fea2fe759b72c8f29740558ffae8', '0350.dabd503455d16db68a0e4bad24ffc736', '0351.a7381397d31e8511581dc5cd59f39959', '0352.632edfcf333b87a4994c49313b4d515a', '0353.f4c84bdca20621cd5aa9bf8d6210e0b4', '0354.297d496266df9171aace690c7483f35c', '0355.2d1f5d2164caea679047233e08a10a58', '0356.b70fca5029fcd82a09ec6b960f4920af', '0357.1dbdc4d7a9e7e290455af62c1df78649', '0358.b93b0089eb452cabfbaa0a77cb3461fd', '0359.7f80dc1df7de3b5121e43f29f0a9e911', '0360.f47b9aa1071c95031d17821c25d3de78', '0361.36332081025aaf122520737c26461a88', '0362.1ce94200cfcb544dc62bbc1134c8676e', '0363.52461bc133cd3bf0b95a4e40ddb28a7e', '0364.558e46276655a18fd2be3beb81c945c1', '0365.5351f6327efeedb441147904b04bd96a', '0366.a26fbe93fe54eeac188cb8ce2d96460a', '0367.b5b7e46c0cd3cee620aa699eca0359c6', '0368.85ad0c76c076fbb624c7adfebc928d84', '0369.7027b551cd8af46e011e2f2c53da03e9', '0370.de5338e5d218cbd21c5eab37794b3d47', '0371.9d01da72c49d57814fa8a37c7b981bf1', '0372.4350700fc8877e7f9b9f262d88c66a7c', '0373.24b5313473b0c23decb6632ca5e22237', '0374.ee8aa01327991442d06f41641b7b2fac', '0375.54d0a570b81851127b73cebb8741a2df', '0376.c0225fd19682f7ac58d090b6528af380', '0377.59c36dc5f85eeda650abcec0bf3ced32', '0378.933eac5ec9a3ef912c40c6a30a11e07d', '0379.c363b44b5543959823a61e9d7c1a7252', '0380.7479693323d404f78e18d20d3b677e14', '0381.040644bb43a533c43f40361bd1d35355', '0382.2572938f55199fad41fe22683d469d00', '0383.62511f9f1c1817dc6df14eb4912163c2', '0384.7de3630b963522fb78746aaf543529c0', '0385.86c7c23ec4e9892f6bbfa377760fd303', '0386.8c0d37a52e39414045665d969233d6eb', '0387.38b98a83546245da45d8aeb3ff4b1098', '0388.c91d0f2ec4ba6d7647a48ebe7cf2f736', '0389.1fe03acd5f135ac67ed7a7f35c4b3347', '0390.d1ecb44eef90f33245ee0835d94e80ad', '0391.e1f15b5f5a6dbbb8cde6571055be3127', '0392.2763fc795021223f9cfc870a5ce0bc25', '0393.0b4def24fd1835de40d83f2a8e43bd7d', '0394.1c86a541cac55ed69e47b32b325352cb', '0395.9974c2f067b24a73a2cd3f9d1af21e57', '0396.0922332b5ca3f934481ab4c275a79001', '0397.bdea17c7f90068a763d191914770f6d6', '0398.d44804f613ef8d8ddd5ae7aa8329c1b0', '0399.20be4fa82cc4b6342cf49fc6606c492e', '0400.bc26e5bca8b09db7b496d47715baacad', '0401.9ab0bcc81e70d6930acfefc2854a0172', '0402.a511fb74deca95f59d4eff5daa45a9b8', '0403.1e5eeaca6a82f4eeccc65c179efe2c7c', '0404.eceb4a64a9ef4c1d738782efde23c09b', '0405.ef8e0986c113ddf12faa7c1a05ace625', '0406.9f6672caace4903c3d6180f2e95a3153', '0407.3436b9e83d36200b38a97b7fa179b6aa', '0408.3e476c9b90944c3b5fccdb2055bce897', '0409.7fdf4f0f8aad0b0ad4654b10afae9225', '0410.a5e658e20b48409116fd339f5a8473f7', '0411.315b5c32101916ae2192760585b71763', '0412.a141da0849f5295c2a6230fd3ed9647c', '0413.c4ecec1b9ca5e6bd1fd9bc7fa6c29b2d', '0414.06408c603660212989180dd086b0f460', '0415.6dfea45b8aef7d6ef6a462974d61ce3e', '0416.6071df16fc9f7c45f65163f5b10a16d2', '0417.74bf147587a49c58a67490c0211f7928', '0418.c0b6aa880f0653a8cef85a9bfb1af86c', '0419.baeaada19ebce19874d17d5ef73ced0d', '0420.be62f32c2be92df5f22deacf5c399407', '0421.4df8b9eebae5cbf2d5213e2040d21c9e', '0422.cf8753c2ab03fedf1c9a2d8fb1c1578f', '0423.353c3de8f5c7114179771f9b44e70b9e', '0424.607e8523fa3516a6dc513c8a20682fc3', '0425.bc356b284544c185e4ac9e11f4ec1d4a', '0426.9239b06238f5128c209bbdd252e0fb8f', '0427.0a5cdbfdb46be2bfac7cff1cae89dc25', '0428.de24142d3236bb96f3ef6542c7dd98e8', '0429.507724a2bf64d0cfb77a9521b6e7c616', '0430.4e314d3f69d885ce2c18d2e64eb72a1b', '0431.26f19fa47fab85e813b1aba8ff6139d6', '0432.4428728444aeb681db1d4382bfeb8d02', '0433.17677985f6ef28591870fe906db93f8b', '0434.0f6c124ba411ccbf48ed5ff2e19c4603', '0435.7d06c898a16be4efbfbdef62c347ab59', '0436.e455bb708c5f690f929aa5359a0a1411', '0437.b5837ab1d2b764157464b0557b4aad93', '0438.2c8e5278416ba90daef0c4874b5f00bb', '0439.44081ab02df438a46002b412aee32fbc', '0440.59f6365d96fda96ac8b48059358e18b0', '0441.ceab9dcbd4892de96af3e38b96205f54', '0442.91893de42b92445e8dc40a3900809439', '0443.9a9e4c025d607ce0c5d103c02ca3c178', '0444.58dd409fb0fc0d853c6b9042560c6ae1', '0445.bca3c6c6a0dc8f7e0c3bd140936897a8', '0446.321425772cd75481e72bd8c30d1bd78c', '0447.a195d9d55e47f858ccf5755550258b40', '0448.5f7f638ed6f6f14736efc14439d6780a', '0449.4166ac284c694dba775d01cb7f667947', '0450.8c49e2b6003571f6fa2911c172bec2c9', '0451.91577b6958781643d55de1d239570131', '0452.3121141cfedff2994e3c2db2249dd6c7', '0453.783e494dbe429698f152a49c0ff0d719', '0454.c215b0f3f009fca9e6f019a5cbd00765', '0455.f738e592a578bdfe866563c84443940e', '0456.6902449f33fafc3cf77ec2d4e2a3851e', '0457.dc1691cbb334cc33a1f1eb3060b8e02e', '0458.0b0d38bea678ef5d832293332cba1fcd', '0459.2c0709ef91a247c38217a7f881c26c42', '0460.635d9fbb23dbfb74a99d95e6ebd44c03', '0461.7609029b07acf65f40bd93882aa35887', '0462.6b066ed01f1856371a7ca52580774a20', '0463.c5c77cc5a816139109a96702b323b6b3', '0464.9699fdf835af939a7e52e229a2d62d8d', '0465.e7cf144bbb6013653c38e838fd68f581', '0466.831f4b97805c8e03cf6630716309e89e', '0467.2c8e19f45e0110db44dcda8529f10676', '0468.0b81ecd8710adb4c1ed9920b5fd03e88', '0469.8b40f778677e8d001ca14bcc4268b41b', '0470.d5ad7286cd913b0cfdff5b954b9338ac', '0471.55f1c6122fd60d151c2c42182ecb734a', '0472.7754e8093e51b661160153403b2915c4', '0473.c16661c43da07d0a3a9baaca5e14292d', '0474.0b5f82aa1324baf9cf718849c48d679e', '0475.d5afc23cfec40c4cd65198f1e88a193d', '0476.ef07b997be9a011cba687d11ce274756', '0477.b7958d4d9cb312c16965859705826a7e', '0478.41ae16e74ab25e02113c5da21efd2804', '0479.0af91f2b2adbdfb00edf424dfeedfdaf', '0480.ac223ce8c5be563214bdc8e3af2a18b6', '0481.3a50c09230e74743965ddec5ad754fa6', '0482.b16742fbfb4ed41734f06279232dd8b0', '0483.fd69b8130b575cf7522607fc37d2549c', '0484.9c63b894f85b12f32ad5e5b97cd5c49c', '0485.4657c96dd864d02d6273cb268b631015', '0486.62b08ccbd58add2e635494c114f1173b', '0487.dfff66b5d13f537cc4535d860d297c0c', '0488.8fddac859ba93d27a041fe770be65d29', '0489.73eb492555409d2c07aed7c524845d8c', '0490.f05cd53148e296861dd5c9f5df9a6225', '0491.4d902a53799cc4c52b72c0c41367a96b', '0492.3aa3aaa0ac9343fd1aa11864e8c281b1', '0493.5517cd8d833b17156176a79149073a46', '0494.cd5e6c1b93cf9492002689b4ea2e8520', '0495.5c4fb5aab57f610e00c4d3b951216f16', '0496.397e015dabee7ac3c6e655ad9bf66052', '0497.d2e2ede58f425a59fef51395e0248b1b', '0498.5ab81a2472012da0dca18090925d6524', '0499.48dbec905e8b9da9434b9802132576c1', '0500.26e81584fd9c739be4898acd4870143e', '0501.343d33b8816a38b17fa642fbf07457fc', '0502.9e78d7d003ceeef52c70ac7e7b786ef9', '0503.5364d68940343b854595410487aaa1ba', '0504.0e89cec7d885514336483e016e07ccec', '0505.724c1270fd6c1382c93cc208c05dc9dc', '0506.8ebe39ef91080b2445bef0118d7c9b0c', '0507.3e5a5811fbfca49dc665f982e81ea271', '0508.4f7509bdf6a597ddb34f15df3bf2c227', '0509.905ad1e9516c02082472a79f474f726c', '0510.4c08a0b5d860b948679e50edc7220e02', '0511.7c59aca5d737ae0f1a94b8e08d5def67', '0512.17bff8553d7e8f6c668166afe149795b', '0513.c04bc05369ac4583d82e9a6b6ffc3972', '0514.ddb5b986101b81aa277dda7a6032019c', '0515.7c5179be4289820f5b060e1ff2a38ab3', '0516.3b4b9b147de3e2b7ee1ca08792a9d948', '0517.a379a642533f85c04e63d9f3a0813b63', '0518.def6dfc3c2204dda12270b0ca97f0fc5', '0519.3a28a99fa8dd275d13742144dc05ff57', '0520.db2ae930623e1db4c9cf60676f96c4e5', '0521.56b24a33e65cd045de37e6bec5ec30e3', '0522.19fc2c700f36b246f3e1fb0807ce03fa', '0523.ae1df35c0bf85f059e5a08b9b7453999', '0524.1276996048a3e02ffbed1e2df5d13848', '0525.e70ff5bbd69f7400b460ebe5ed77398f', '0526.615f918b4860d437577f6aa66c9b37cf', '0527.fb030532024e5534f13993d88b5923a0', '0528.bb4c2a959983406354ff8d5b8f499eb8', '0529.39faaedc75738c375b3de0c0a5766498', '0530.014c92ec73f7fcebe322a69b59fbe205', '0531.f459d23aa065d859c1cc4a6b2c19cddb', '0532.0a4c127cb659ebad1f4366cf3eb93b83', '0533.adb2f50e664e9db319a7e802c862ba31', '0534.a2b4731ea39251d3db3b433ed81b1087', '0535.e5e6e90ce659ed0f9d4063350a836201', '0536.ba3a7bb7f4797867867494246c8f6dec', '0537.882248ddfd0af3420b98e12fe3f9e7cb', '0538.59939f403bfb0f553e02f77abfb38846', '0539.6430d7b1bde02782a28fef081b4224fc', '0540.e0eb7ff6a98c054571e07addde3cc4de', '0541.ab739b149f085a5830ec76c633db2850', '0542.9a7c09acf3e7748e4ae90a48959e731f', '0543.5070e5e197736112782da156d46f6357', '0544.6498586c31db44aac98902ffc6cee696', '0545.f3614ca8b5095f9b69b7a3ff336d5aac', '0546.b6bc744eb32a97fdb4005fc1e513cf85', '0547.48bed4a66cbab49616e6d2a8f04a170b', '0548.02f295e25e8268967c4f00b24ec03236', '0549.59f3057eef31f2b8ebb02446556a3f37', '0550.8e86f9859287ac9846e3c179b29e0fc1', '0551.5bdfb0c299c60e442e39346dc08bad68', '0552.1ce63d212148c58723cc1f7150b27157', '0553.a2487df9e3ff8da0521a962e19bce6d1', '0554.54333f9154d05593aa58b146b2c717c8', '0555.1c625d1145e0bce09ed40f363b26ac73', '0556.f2a384f62a88105a5ea0dee646cf6609', '0557.4a673d945072f8ec9ef08a4366f25bc1', '0558.38c3bacad7e79fdf03dfdfcbfd19e787', '0559.2c60829e4147cdc981cf7131088b851d', '0560.c422e330f8ff3ecf8fdfb5f00e691bf9', '0561.7e0c08933efe38c91d293454976e4977', '0562.7dea96e851b897ea041ea242a9d3c119', '0563.cc76540c47ac49aa8dcbe801e8380b36', '0564.d200fee3d675d75d79f14c8308d631d1', '0565.881770e64b20fa8ee779d12aeda1fc54', '0566.97120c2bc957702e0e1606025799951e', '0567.41bb1a0c6c8c5584844c6baa2612ede2', '0568.112e1928cfa88de3901d08715fd2e3b3', '0569.ef10ce803ff212d76f9dd6148b84a823', '0570.17bb9eeb6562425ac2aee464a84f0e4a', '0571.d336e43297da0069689d70dec6ff7870', '0572.ff4614fcac266492c9c3c1a9432cbe89', '0573.afc1bc63378e7961549e4bf789461719', '0574.2059f95c47876cb8f6db440751b0cfc9', '0575.2f6d5a053932e0900b329a15c5f78e38', '0576.f32636c8fb4d4f4fde3c891f9fdee39c', '0577.7297b06fde913833e96aca4385826c29', '0578.a91b2f2cc20b7a68d5e340cac03da3ee', '0579.1220a78a48fabb67052c021782ae7720', '0580.61bd3978cddfc54e52fc52925ecb3b4d', '0581.b249b5db741f2691a42653eab71795fe', '0582.adc6095d8af63a380672cfd1e881a586', '0583.5165cf3ccd9404fade3014b0d00c97e6', '0584.f667c1b60fb4a592ef72138de5ec4c00', '0585.b4410217f9fefbb9a9c18df5a4aa621a', '0586.1babcf27c7404be5cacd809ef42fc30b', '0587.20a4cd974ded4a9d366f23106aaf593f', '0588.cb6d96aaef48d53bc690e780276d6595', '0589.8646984ed76a8df2811750d151f56b1e', '0590.163e32d267b894e61f0386e879cde23b', '0591.f533bea095d75cc4dc282bdcba69072a', '0592.217bf33fe765d8cf064a732d56a51ba3', '0593.3c0b49542cfd173508426513c02483c6', '0594.30616a68b04f216bcea0ad52073c0df4', '0595.2e433fbc3ba01f085d54b39e4b695a62', '0596.5826fb71adb141704275e2cb8fdddb4f', '0597.658c7632c57e9f07a7bc28b58b97529e', '0598.1ac8a662753f1bba429f52eb184ba794', '0599.dcd037ac7e916599160fc182080defe3', '0600.5c058c763f0c2053e70d2a6ddd5afd1e', '0601.ecc0277d1962fad8005495cd09dea1aa', '0602.af33589441908011e53b55d4702012cd', '0603.4582f2bcf4795cdd8136e04313f0c0fc', '0604.5ce333fc713b6c6f85386d8be149c1b4', '0605.0b692301193854c686d6c257203c9976', '0606.246043a69d2c710dde0e67eedb1fd853', '0607.14d2b2101e12b952f5cfe7aa92afd4a4', '0608.ee46655dde2d5d95579711e1a849cb34', '0609.2b39e149425abf7a4a84933aad236189', '0610.77f0b010c4ee1f527c40a320223e5e3d', '0611.4a47b06e83edee6c61ba37d1be2a09d0', '0612.f6d6b7e1dc1e063f1fd95991aa452d05', '0613.78f3bc8ff059d262ac436be34a962c6b', '0614.b5bf667c7ffd59fca7f26a8ca1f8deea', '0615.935b5a30e35ec46502a33a445443c124', '0616.a152505164d471a0cb84ba780c1fb956', '0617.5b8410959a7bc173315e3d59d978ba2c', '0618.a6e6cf36de8832e7f6df6dc832ebb83d', '0619.1eebcb2010962026f9e985efaf54c54c', '0620.cb5bdeb796ed52ca7474387e39462e87', '0621.feb00fa392669a54bc5602f927fbae12', '0622.aa081cbcc4734cedebbe0084f1988921', '0623.548822dc41bd6d1d7b5896c185874a5f', '0624.8461f3c63dd4843912d9f4807e7d68ad', '0625.42179d43c513cf5c4e9d9ef00e9235a1', '0626.190b1e937ba59bffd08f6acaee61417d', '0627.c9ad8730dad7bda1e1169ee00c4006fc', '0628.731724cb11140a651d8ad58451ea5c79', '0629.8a0d84ac5694ddcc8474e5a1d55b53d3', '0630.fe9381ba8a0b28e57cc0f481d658e0d0', '0631.6a6516bb19c38ae705d06f9518231f49', '0632.5a55cc359e591b1264cefa42b228df98', '0633.f47f5c3a3dc10c57366f5715ef33fe3e', '0634.2da7e83d50baee90c3c9defd2aa30b72', '0635.9df0cec793507fcd3cab877c7d7616be', '0636.e678baa8a0acb4e6b95c11f37d7541b0', '0637.2eadb44dff5eb5df1615ff5e826bc69e', '0638.70122b70a334560fdbc450b6516bf752', '0639.3462e01cf21a5b919a58b6e70e96ccb4', '0640.95f677f7c53a182c30e068eaab74950e', '0641.6608cb0a3168e2f803b29e3bcdd68c23', '0642.297a1718a1180f8419c4e4232d4c30b5', '0643.2c10d49ca3fc564fd6993c1504b7de1a', '0644.465fabd80d5659bce12a75942fc62c06', '0645.10b54fc6ea0ff6afea35a0dc440cc2d1', '0646.5b8ef44185fab30abb58d0f440885d00', '0647.3e7d91fa18377c667aedf719bc1b2c5a', '0648.35cbc1bb7547966c1171f83d2312d4a9', '0649.60e2fd87157b13643293adc15ff03dd5', '0650.98f5c18e05ccd24028b10fa7317d67e8', '0651.28519f3986ee75e6f2ccb5e51995a875', '0652.5ed46908836bacba742b337197ce3499', '0653.68f91129d7292df3acc78eb6d575130f', '0654.e2ac2ca047fa228203d83f0f094cc529', '0655.62691c84d110fdfa26e8579cd00c1a68', '0656.dd2af7ab5d99adf717056893adb12a20', '0657.277ad7f9191a5cb65e5e9f6c303de296', '0658.0e24e5ee1cfb7ee361c794aa043b416a', '0659.81f1a5072ceecb246d133ec78a8e33eb', '0660.72cd510cc3e2813ce5fa531d7cc31440', '0661.123776ef7c55f1119daa8f77075f77cb', '0662.edbb54c8f940c4cf54b4a61e930691d7', '0663.202ef7d7fb966db47f818a7b09b89b0e', '0664.0d4d48964387db0637509ad10ee66763', '0665.92e4e88458a94d0f02cfa34985127107', '0666.d26ea575aa017100f7caa40a0462fcc4', '0667.9e0b1ad2888b8d638be9d486637eb445', '0668.d9eabdd9363513f9740355970eff7ae6', '0669.2d5135216a15406b161ca553a4612b2b', '0670.4d4f5d10e1bcf26a5438defe1188dc57', '0671.ea82754ba3b836e43d376b32c07b79f0', '0672.a8927156ce344160530dc0e918a42472', '0673.1850e124a4ef3beb85071e67d7f8bf6d', '0674.491042298959b1aed91c95ae2beaece2', '0675.6af6c3451a0d2caed7a332366aa3ddd8', '0676.80208e9973e3ec09a0377e1342c0a3a5', '0677.16c583f992f1c13c9f2eb2aa58f84214', '0678.98548de034832af64015d60cec0d69c6', '0679.0395351a76c9b311808536a2bfa5961c', '0680.7f29d3e313c7bf2b543c6fa48b43e77e', '0681.a0c682a61d47a58820ffa73d5555f3fb', '0682.d34b905308dfbc89c0175ffcd5646113', '0683.782e26a57d2ef6f0d8f9e82b658563e0', '0684.f0f0e8e9d0c203b93278c58447e3ce88', '0685.1658351aa8cc515f74fb3eee7418d143', '0686.be9e16843bcf570a9e7e9549f770d3ac', '0687.e47c95556602cc66337c90bc82efa66a', '0688.0c95af46930f4b1c6917030045619a50', '0689.0b105c87d5d0ac5638013457882d917b', '0690.d6ab63f165b36f3bac2873fec24a797b', '0691.bdcd311a789b4002c5f1afd663aaa1df', '0692.06fd7c0113c3a271483073ec9f102c53', '0693.34e853f55e9434e84268d25d2f0a6f91', '0694.81370eede2be95453ba67195c8619c60', '0695.938b36dec489bf6860a534c70f5853a8', '0696.5115510438ad02471df930ada920d7dc', '0697.19351a0b5670fb30cc1a2c9eed90a26b', '0698.a99cb214459f43d26a20d34eec3f0b45', '0699.aa5a19152162e3fc22bfd5ec60973619', '0700.5a134a606e773c40b71ec59a599e61ad', '0701.d1b59654f45ee3ccfcc3c6fe257daaf8', '0702.3612af1b8e5d8fcb512f20e4340530a7', '0703.3654d01671685fc22993eae582a55152', '0704.f62f0ee295a7f648249c8104a8e45843', '0705.1830e9bc42a6a72f3bb5806dd9e09e5c', '0706.ef90d85cf26d95101f9f5071ac457a81', '0707.bf65d1743592ac78606c57cea2908866', '0708.fe13d44640fb0f6e7d9d6a50c813a01f', '0709.fdcec3f216a4caf2a548940569372d10', '0710.3005b6bc245758d98c9a9626c1de69a7', '0711.27203d4f43e71f7e1ced0cdd7f8685c8', '0712.b34faf400b5f68d87b2fb9e83b4c5e80', '0713.cef5181b3dfde07e06fd81c8cfc7d39e', '0714.7f83c20969cae40090108707e0bd7cef', '0715.6209671b4aec7159b71320b0c462ce8e', '0716.ce0270837e944df9396a45d6389d2225', '0717.211b19b47bd1c85001dddbe5768d79a1', '0718.68f8a85adbdadbd8959876992d001c5c', '0719.078bfec7d10d50405c5213fdcfe069f4', '0720.9b70b163d69018e7aee73cf86459265d', '0721.9798746ace52b039545cfcb5dd5df9fa', '0722.8aba37e84c5a58cdfe72fc9ed03089ae', '0723.e326ddd50487b33418a053b67df5ab5d', '0724.789e078e8d5286dcb7da0df2f47e6886', '0725.2c1c01215a3c8c4936f8cfea181092d1', '0726.b9cf1bbdedddc254ac0a78e9fdb22a8e', '0727.a398f36f56d924dc775138b61dffbfb2', '0728.7d37495ed88e5edd68f2c868e451b68e', '0729.70d1cec4f8f949fc7ef64fc3ed85f950', '0730.9570ee3b6bf144198297b23bca5044e9', '0731.59e8a707586a8b3cfe89bff4024dead7', '0732.63667434e8712ed16361596f40c468ed', '0733.782a236e90e0e7a55b3c67be6f7bef23', '0734.7dc0b0b5f6fb1977f0a146a44c4750aa', '0735.2739927d718aa07e0f3c1c32ee9a11e8', '0736.0c8647e849c1d900b6af3a6c7024752d', '0737.aa298505cb31aac78d0dbf229fc45fb9', '0738.1a5a2f7c0b47ed1c9f7038706e7d5d01', '0739.88b6bb31404ad7f4802e4002d4e6ad66', '0740.fb7c09644e29a443a4effe8ad0ccfa2a', '0741.4a16993a679f825b18b571c6356fbcb9', '0742.65f3bb623bd6a6e49a9d1e0f9ee66279', '0743.11737315524334fda4487c948caab0a0', '0744.8148cbab42e9b5a4f31f22017b3eccc4', '0745.3e54df3c4f199b6b8aed76eefd11c660', '0746.eb20a810f43c9bd9663c0da5e553ccc4', '0747.0ae2c1995e3f8c30bd2f69a5e51196ba', '0748.b144313155aeba13b5eda936e120daae', '0749.63721d934e13093d300263cb31da380b', '0750.afa51a5a148c9744496447cf28d7483c', '0751.58282452f1adc8ad703ddc4cf12c2e37', '0752.17c76022e66852f8a3cff5745f5937d4', '0753.45965735008c580a773f99eada080a27', '0754.3228129a4d3d1cd84b1577670488e72a', '0755.c0a93a818f6d7b78583dfecb6a2a5ea9', '0756.9c7d7bcc51790af9b83192fe8d7f1f85', '0757.c32bb650e588ceb29f2256b012caabae', '0758.84f1c5bbacc2184d06eb79e4c3a81552', '0759.063f18d8df64aaf029d8d9925828b52c', '0760.15302b8ee38651c2da6e4df6a7358c98', '0761.e0096025fc83e5704a05d505cf96cca5', '0762.4b7d2ad34203e8192af660707ba52ef5', '0763.5760c74ddc97ef3acfeb25509fc1a85e', '0764.ba8f49f7a4dd4d9a9bb28e5c96e46463', '0765.7dc679a77d756d8404d793f18d307ffe', '0766.41207e11478fa4b0f4747f635e0542c0', '0767.da57f04c8030dce67142b9480e532b30', '0768.42d3db0f0b763a75183afd06f5db8ce5', '0769.3925a280a492a9354ad0ab9e338412cf', '0770.2133e3c539e404d26e8278c7f44fab07', '0771.56f1377225cfa1461304bce68e892600', '0772.f6e3d3c433121335121efc42f2d81aa7', '0773.e1edafa86a1670e9515d4d9c1bb288c9', '0774.cdd7992b853cadd1098b09224e74c728', '0775.380d5908cc272338fc163b1d1a748e8c', '0776.a9eef2414831a611b294174f440c77ea', '0777.5c0e911c29651cdea8729a23d3d5b203', '0778.56a343fa82239badd7e1b750c5963d7d', '0779.ec05ef8309cad3fd18a806c11c812bf1', '0780.a3cf52b9eac79db4f3d95e1735261df4', '0781.cbbfe78e21c332b56c7e3630aeaa9585', '0782.03d024d74f36ef492a9d8d5de300fb94', '0783.0d6a8bdec2d44f848cebb2e00e930f1a', '0784.ef6fd2c8cbdbfd6e8b95db4658190bb6', '0785.87d89ef541ee6678a7ec3e7009bebffb', '0786.c64c284e8fb2b88945969afd14bc6d78', '0787.38cb6e76b84f342ff95c30c099848cd9', '0788.cd3f2ceda8c91bd8bcf537a7421605e6', '0789.3dfa0525c97f1a875fc55edcbc71422c', '0790.bad21961212b5cfb7d75bf3c45c840c6', '0791.0b633957da3fa40b511d8e56ad877722', '0792.aed10efc4504d5991f7894ffbd496ab4', '0793.d39943e77b6404bf634356296c94f409', '0794.cf41a55933ae8896b668864d7b57b177', '0795.6f8b4da0f06a9c055fc527562fe92330', '0796.8d8d5b4019a279811294da009a57ba7d', '0797.b6a29c752d725a91f6edb2a46fa21be6', '0798.120c7f5263021bbdf183e1e304ef4a44', '0799.eb9fe164fe9541253b4ab806626ab171', '0800.ade9f54d2342efc6cd3ab051eeb6770a', '0801.d432213b6f824b0542ce97ae154a15c8', '0802.ad16df843d76e5c7e04b7515dafd6202', '0803.87956a6c8c2637ad52cb670a5385faf2', '0804.7c961dbb9d03dce55e6d4330a7de92c6', '0805.f275674c050884c5ad02c1b6fac94e30', '0806.2eae7f9f133274ed400a215174b7de1d', '0807.f71b636c06421f0cddb167eed4c0be82', '0808.426e30e31a3d3fab634e31e8aeb30c34', '0809.371aae7cab194e25613d5b4b2cd8b6ea', '0810.0b45692b95f22dd7373a9f464e96a518', '0811.ec8f54c9328755f7208f3ec1717e60de', '0812.6169d140cd30064a857c2e3ad20b31c2', '0813.9c59b6b0d4e221ca29d576cd2f170f06', '0814.1d2d3dedc0e3e216225f4af0e9323fb5', '0815.a212f32e210b815e2663ca5fd624aa58', '0816.b3fb75007d4e83784b06dc8202028bbf', '0817.bcee0d97a59953c5e6086df74d4ed665', '0818.c7f83ef6692e7bcec3fc31d04880f51f', '0819.337934ad4a28fb473915e323d3866edc', '0820.28def4e42460f6194152556fb05f915d', '0821.479ffdea3cc5f259f453afe16dd27e4a', '0822.3ebf2e0f82aa0195233b0221d665410d', '0823.3df96732430857f696c452a05d7cee94', '0824.87d1cb4a849c742b78ef5f51aff82935', '0825.50304b4fb153c18166fd8e9244659167', '0826.082e92a79a15aa7f6dd5b85a40327abd', '0827.33652ea92e79ab2149c188646b4ae0d4', '0828.244d3a6c6cef70fc0025906b05b069ac', '0829.8d4c26619530e36bfb855f5afb08876c', '0830.36efbaa51125bf5c1697fd795b3a26a2', '0831.0162ac7b4cc1c62fb35803bc4e8db70d', '0832.e4325e0432c958e4cf5a36fef3bf8573', '0833.8b8a773585ed6039efda26f9923a2913', '0834.36dab5acc512c15f3d6840b44e958b2a', '0835.21423890177aefe5eae8d27d8f18735d', '0836.249730de164ba4999f1ab6ec2d3cb2d1', '0837.23be7a8b5000203fd4e9fba1574d9fa3', '0838.4f78deeabc13a2826a0d6c9c86236f48', '0839.12075b1a4eb499ff6a0d7fd0e9d776db', '0840.fa01ffae1e9fef46ad0044b265fc6667', '0841.c178b14279ed5f5f9e5be2abac186b3c', '0842.5d790576a819e435b41abe9c0af61ec5', '0843.6e5323ee268f72a690f5e5af60643e73', '0844.6aab9e4919f6524f88591d6ef1e3f445', '0845.eb2eb66b172d250b0b35f971bab702c4', '0846.c64497babd4cafa18571fd484fd44e9d', '0847.00a64e95e9b26dd792571a8213a90c78', '0848.ef1b9b43e194c1650d7722ffcc7b20ad', '0849.84e6b16e331d3e5bcd798ca0f5374624', '0850.37218bc58cdc1cf2502010a098c77965', '0851.b7c6fc9da1800afe4eed1a0807dbdccc', '0852.cab2623799815a32681d15c6c82a41c5', '0853.79c912aba9155510575bfec3b8123f8e', '0854.6fc80acdb73b0ab60c3f316f646c0546', '0855.5b51f55bb80a0889f3d7071b99f8cdef', '0856.53c342f04272fa2b9c1f63829301e96b', '0857.c5290c6dee60d45314e519678e96735c', '0858.23f1e5976dae32b0061a6e206aa73241', '0859.c5de7d55c638b365941e5077d598ff6a', '0860.891fbb986b6531d3390a1e9035d571e1', '0861.6d286bd240426caa250c29aae36f9eab', '0862.91f1d92f60d5789a201c14f2034bbdaa', '0863.3de076f8a3b5f011d630dbefbd371694', '0864.5814f29d8b4689b925cc4179392bd341', '0865.4b2110ced3bc59bb5684c5ecfa980dd1', '0866.e437291998aab90004d6cde6eb85ea18', '0867.bd08bc5bff86a732422082ed7861416b', '0868.a7f0eab61f87e815b082348fe914b86f', '0869.3974462c46476759fb788a0b354a0f3a', '0870.e7254d91187938f2f0b2fa1ff117f822', '0871.79be1926ade2b8fc591f9f51abf66224', '0872.b39e14fc64a28f30b5c413d51ed9dea1', '0873.bd6a6b2911a0dedccee495aaf0fb248d', '0874.f17f5355a2abf8cb83fb09069c9460bc', '0875.990a5210c2586a027e13b10bf9d3e4ae', '0876.22140b6b06918d04fc07c3d992a6b846', '0877.62f5636ba5885d1b92423169c83a35b9', '0878.24186e5267a8ec179a2e07f2da013932', '0879.267af96ab014056d029ea42fd1ecf2bd', '0880.6aa461d079bb0762af5c94d9af8487ec', '0881.316c03b1dbd637537a4035f8470c6c12', '0882.1fc35ed593366d26e06112250d18678a', '0883.1c07a9bc574c386fbd893edbb24ea4e6', '0884.f4a7181c5337229d1e70c587cbae9567', '0885.edd07a1946446122321ba10a01eda39a', '0886.a901020854d0c42772ba10e45212ee82', '0887.95cafbddb7fce33aada0e9d9bb329aa5', '0888.a8cf27198dd5b8612b47fe3f8f19266f', '0889.19010d78004033878d170ffbcd3b1053', '0890.6f5adc9f03179475957e05f5f37cce57', '0891.44f5cad6f0dfa66277e1a0aec55e7bf6', '0892.b0cff6bbd5818574a0cd15913ee16970', '0893.535c68823a7692562371ccebf36fb7b7', '0894.9a873eed71fe3121571bced96155d76a', '0895.22cf8120994972bcbe9125e842cb27ff', '0896.cf28f52e82954eb5d05ed5f17df4262f', '0897.c0fe033806bfaf60f935e01aec04eec6', '0898.7ae0747c5a557c5362ba43b0fbfef22c', '0899.1f868150b365a5f407f46f908fe879e1', '0900.b7895454aeb2924c3d6aabf1dc5d16dd', '0901.9f7871c3213d421e802debe94f33b09e', '0902.056094d922ad63d0d84ad331469a3b37', '0903.8b54a580db644a9a23934361d5173610', '0904.281bae2420e1d4491270fb4ccfe7c4e6', '0905.2460d014dcdcdaaa26313066df702677', '0906.2e604cc2a15e9f2a68c302861ac42ec5', '0907.f0d5881329abda19ea946cf5c2e15d63', '0908.ed1a6d5d837cf45b48c47dfb105607e9', '0909.6e3ac55814e0630adcbe7e91f131e18c', '0910.1c60142bded401b4c9921b2c48600619', '0911.dcc71630eed7821469e4c26e5b768aee', '0912.7951bb152a4106ceff12048a818491a3', '0913.40f91b03e40a8c45819dabbfd5dc8158', '0914.77308dfba976d8491bad00bb7e616166', '0915.50f33ca8972e7e8be40c70edb7c4be73', '0916.69d1ff308a747f25c6ffaf7a6004dfb8', '0917.d223f4992983dd7eda98b30b60356046', '0918.2de8c6d8251d30c06be407bd701bb412', '0919.7cc4e3008c6788cc7675d1662ea4df75', '0920.cad45fa889324a42667e6da8d3a8006f', '0921.5a4eee7f38a1451abb6054901280b699', '0922.a8294319249f0b1dc50067de2cf937db', '0923.62f8eb57510330d6658ea55e5d7277df', '0924.82e1631cf6ff85106c0d301b99b4e523', '0925.c1066ea70b0e714fcea10b379e32d573', '0926.927a96948e055489893b88ba752c7fae', '0927.3fda95ccbe3f7818f1dfebfddeb2af66', '0928.bb2dbf50d5b36b5f621764e2ed1cf417', '0929.78a3fcddf914132d873019c8925b0669', '0930.e6b90edda75a110d7cc7335c110cfa1c', '0931.4b656b6718d863aa88ee116bd3fa0d1b', '0932.13ae6a0c179018c3e955c626b48fd069', '0933.60c6d3ae44d1762d461652d5d0ccb285', '0934.e85452a78cc528b9b99dac7ae0af5d82', '0935.69777ef80c3f27b435944189c6f07bc0', '0936.fd3d57ba85e83cca7b17ff92667a05eb', '0937.48b048dffa327b97d0ca68cd19d254ea', '0938.f0908eafe6ec23a6f3067e2f19432fb2', '0939.dea3b07c7536e3b74578ba6f878dfcba', '0940.459f634086ae8d4e277d7e9281406685', '0941.1277e2e301e3e7663705ffb922215395', '0942.dde76db87ad1670783cc76def075f6c0', '0943.8e0d99659137e5ae2a5b47a557029095', '0944.17f20b8ad4ea51e366873fa551ad20da', '0945.1a86d4f67991ad5793a17ba1863edd17', '0946.eb5e7c2de78b6fec81e509923689a7a4', '0947.9c6bd8643ae9c4b42fb7292840103704', '0948.5631ef817c7329bc8773800c1664b88d', '0949.1cee872e94767b14f2211bf240ccb459', '0950.11a0d8e3ec6c9a15acd578868f7508b0', '0951.542debe6e20315751c6e2c9bdedff85d', '0952.6f0f3423c7dc865f508bb35e2cc1bf8d', '0953.31be50aa4dfd43d0f597afe9968977b7', '0954.fadb0b68f0246b3aafcc1ff134ff1065', '0955.aeb04c1ac6bb728a6561da1da8b73995', '0956.fb35140cb684b750a0b652251bf9f7df', '0957.5f66d7beec0698b8ff48735f2477c7fe', '0958.f564af86e1a1c10e2f7428899c8543e7', '0959.2ff04e46681e4aa8f3be0f186d6a408e', '0960.ef7ed4755c4f2630aea5bf4074829bbb', '0961.06496acb4b3a9db5434d7c68ff5376e0', '0962.2fb2ffd2e80f2dc290149d36a47cef24', '0963.5c8f4d192ae6da76be5fcf3d63a7124e', '0964.d2bb65180b5827292fc3e54a44a02fdd', '0965.ba396065e5cc872d89cb197e4773f372', '0966.20a99be33fcc43b63c8b082d9348ee02', '0967.4e58795717c8348425fd06d48c7acc9e', '0968.0be9064c59a1e2ff57a88a6254fc5c27', '0969.c872e57098d18f1588a9e0b1307cee42', '0970.f10c0a8d0caea18d4fe49bef77099b7e', '0971.0442a60e9294a07934b67f751cb1177e', '0972.58234e68337a7a333ca40560900f82d9', '0973.89427fb666841ff5794e403f199002af', '0974.12d5f785a949c7cd9c0c81a34a370842', '0975.e49c2453f33ce748a8d9128708ce0a81', '0976.3da1d276c9603bdf777d80e0e74ec148', '0977.d0e3f4e7fd0a8c2bdd26888af1ca3a0b', '0978.3abc52be262e3631f31cd4aee5a1b901', '0979.d3eaa275a74abc971eabaf1650d97bda', '0980.50625dab89ad0d10dd3f37a4e13bafbf', '0981.c8d50b71ed6245f895b58c29d60c09be', '0982.3949b69b4c7d0ce7b5baa3cb1075b965', '0983.c68392ce03bc95afaf1ef76360ee0a88', '0984.c155c04486f51644804c5e184a8e2a85', '0985.1325fda30e2108d0b397796b11234f85', '0986.1e2f19247a82ecf9458801167232ee0a', '0987.4ad8a98bfcc3968dfae0f8c4f1821d2c', '0988.0743b9293ec2636dbc6065acd9b646fb', '0989.5c5812e631227a1a0873bc3fc9455c10', '0990.7c68a426e051d8f04aa42d1c2d2e6cf4', '0991.f273a70df275a44e46f4544897eaee23', '0992.a7884a746d675de27a0ca535685e8d6d', '0993.e9b2fa685c22a3f2977985514c78d9e8', '0994.744ef88f9e8a7c41eb69e25950a8fc41', '0995.9298a05fd3411fb40a7c3b9768b72438', '0996.a6ea93af44bc21fb704aecfd1bc4d57a', '0997.df0c214721243248b9421e3c0ba9e453', '0998.9b9e34483f3588514be24dd97961764b', '0999.693cdb369d548fedfd9ad794b8b6b882', '1000.348e8a82897b05d584de019f4dd5c7e2', '1001.6d9880fcc649355d3c7faebf01c61d42', '1002.e8313d6b4c83d4bc3ae6c1e1ed210b29', '1003.c7f304574ba9fc075adee3caff7d770c', '1004.5929fd886f8e9544a98c383b41f554bb', '1005.aaca009bb6cf75da8456c570bad6ad08', '1006.ab21b649d018df12f9f4c5691be621d3', '1007.b3eb1e8894835634935873cecdb4e845', '1008.87e9d3ab2ce099480e2704aaa5cbd493', '1009.7c9b90533c1766f51b93cb4c940d7317', '1010.1bc4545387a6a526b351a330b4aca16c', '1011.82f644586fced13704dd79e22c3d8fb9', '1012.71b3b80343e48636bae04ff93a4446bf', '1013.8355d120301841c6b601bee02bb4c14f', '1014.8262a256b8f2e481dcae966b0c5088e8', '1015.f399ba43c22e3fdb1a22261714062cbd', '1016.f520486b0e8f1428af9a9379139fa8a8', '1017.d946df144440633b63b4df3fa3c6082b', '1018.2533f2c820fcf490638969e5504102dd', '1019.beedf67e23635b02918f624bae1cba33', '1020.7fdf27321484091bd72c08886ab53262', '1021.3c2dc9fee94649133426006b8ae4ac88', '1022.73ab70b91862d709897cfe3dd5bb22a0', '1023.909ebf9dc802a8f97b0d722ad443dd42', '1024.2ec2a5954337a9a35a3c169caa5d947a', '1025.77dcf4ff92802ab3af94b9516d25b02a', '1026.b2ee7b3cb90365641e465cfede58a672', '1027.35033a975b9979f1a2eb34db590b32ac', '1028.a139c4ec44f9dd8286a8333d934ced4e', '1029.cfdcc9c1ab54e77b18da7164b324178a', '1030.9a38ec315e2e8926085a560e36f977b8', '1031.cfbae64b0894abd4ef88ddbf253fa704', '1032.725446990feeb941bce8a383943cd2a2', '1033.4155e06c0fb104b96ec6c5d656264fa7', '1034.30d39e880274b0ebb59462ddfff16880', '1035.a3cdb2fe04945379483b12640bdb19d4', '1036.8c6e8c189738f671c5fd1cb2b1791317', '1037.1285e23706448e51cb9be399cd0546ed', '1038.4a0af891d4474c608eb6a3ffedeb8ada', '1039.28e0f6b0f1e09bbcebc01183bd3557c4', '1040.0975203bad39968cfceadfcd68a9242b', '1041.c96194d26968c693aca4f4ef5f4a6a61', '1042.5089423fc172a53a687d43ad6b432caf', '1043.701d8a6b948c0e1406a85fc621497237', '1044.69004045b2942eac5b0136f672626f7a', '1045.d3795766f46aafeb8dbe1375fad0ca5c', '1046.06207e3824a4024e41215defe29e1ddf', '1047.816db4421a9757ddbb0acbe7baecd0b0', '1048.8944cf897b72c824c5a144378cd0c4b3', '1049.dd8e9af1e92bc41d998cc4159e5588d5', '1050.d80975f7f6f0f55faea4dc84c938f415', '1051.cf81a19208b703f18497a0d6fedb1f13', '1052.8051605033d37d59b100fdef7dfc0ffc', '1053.d961ccf25520c4e5cd4bd25b5dd08647', '1054.4f64b125bf2f8a6657780878d455a859', '1055.d8032f77bbc5aab8f5a9b75cb4652e06', '1056.40e105e66c28374d4fffa209a7176959', '1057.3f02467f2419b7400e5afa8c8df961de', '1058.f26006b375cfbfb03f4903683f585808', '1059.5b0713200efcabb71c7005b32e726a60', '1060.f4a2a100431a65ef190bfdeae5a044b2', '1061.88a372affb7c0cadfe3062af414ff7a4', '1062.aa014dbebbc0ab2df502e9a03f140599', '1063.1efa0c16fac1c545a6cec35f06f38d2a', '1064.cc185e02744782aa86371b064d602e62', '1065.966bd4583cf8a6dcd4d8dcfe20120041', '1066.45693bec27d1b4b1651e236bd4366cdc', '1067.b872a9f6853971d7190007a64d60e381', '1068.3a4e8387265236bd326736c63dfa1ce0', '1069.7e96836785285547e3c01a6db4daa9d0', '1070.08b260e66ee072ebac13b66969730352', '1071.91f54390dd8c0706ed1b657fb0598ba7', '1072.f4f42529de5e15b3a123e5ec89f4dc49', '1073.3c644d088e1e9201208b906f0f062c48', '1074.3f586c8b4870fb60157afbad2e076b17', '1075.3de216ecf7ce7145a20445d504976e2d', '1076.da788224ea4526c1e8e2a5840c9acf73', '1077.5967a2892063a3470f32596403b095aa', '1078.f47613951afe10b6b663ee4e16816072', '1079.3d222257b98d7d58a0f970d101be3ad7', '1080.8b94422c246c5503b91521d41d552bdc', '1081.8c0f0b598d40adc80393d5d049a2a1f1', '1082.9739a457291bc5f545b370052a6da3c8', '1083.cd4daaf03a683446a6c47fdc2c5eda7e', '1084.c773b581863827faac61d6727562dc54', '1085.868ec696162f19a3a6b8993b1d675c5d', '1086.b51953361efc50df363334b72a566863', '1087.512badc5c555eb050c83ceb7faef9b61', '1088.3386ac349cead5b5be4f4fad8ed998c1', '1089.8c0c02d20cf78372808b29860b4e406a', '1090.9fda543ea022ae10968dd56d2c710b9d', '1091.0bade8676340d304cae87dad02efa8ce', '1092.8d0dea0481c9364381de6277614ac9bf', '1093.b1db4ecf90ab3a08c60b551311c47ed0', '1094.01d0cbf9f63dd83cdae62a98ec351d70', '1095.60cfb65a74ce7c100cb31a7fbada7520', '1096.1ed72c081c54694040d74a28a7d0d8fd', '1097.8c06e645fdaab234454bf0b72217700d', '1098.0f56b798157b9bd933814ba687e722f1', '1099.dc3a681609f628b202e6c832d16c0d4a', '1100.2a253a3a1ec54d9c7d452ea00834bcad', '1101.746ef58163a737e92d65d20b0e928120', '1102.25a9175170413ba941d49db2e99ebd0c', '1103.e4d34070786a4d46da1061628bef2b57', '1104.9ade312a3932dca487c70d8c4ea81585', '1105.6f46ad31778d293c889baaefab4db271', '1106.e8f11a2a435c86f57edaf08a726bb72a', '1107.7f3b20213d2397c966dfc7defebee2e7', '1108.128f9f0247b131505281874efc8e02f8', '1109.50269c75e11405ffa85a38881a36e166', '1110.607e74a3949cd6e4787031e0164f09ff', '1111.682637cab441c4614d42314d8c82c2c6', '1112.2e9833f8ba14f5c8fb76c35322ed4a8c', '1113.13231f60c358f003d7a4ee9c678bcf66', '1114.3ee361561ee25d914e377dd8473a9cb6', '1115.e88f46679ef431c8b88cafdd3d21b8ac', '1116.e30f22bbdea56cb1ba244a559564ddde', '1117.571c1399a9b49bf25062fcd2242d72f1', '1118.41f75976258428a527855201ced28007', '1119.ce22f4a2ffbc03cd2625cb10ba561058', '1120.bec3610a9fcdb3cf5c74d9e60bfbfa1d', '1121.51f7e5e557bde451a6b36e527211ed04', '1122.0306e263408d376f3abc5eddba544a59', '1123.bad0078427c9876eb7986cd7e9000553', '1124.ca18e9fe0618bbac33ef2156d047cc7d', '1125.32b3964c09cb6a90f69b0631171283e3', '1126.b707ed79d4930e8b4fda1eb0dcd5add8', '1127.1b3f0a69bea37c4e0a04b66ebc841196', '1128.03b2776407c0cc561ab9fa6bb46bd9ef', '1129.50af16cc80052d1d25f28edcd3d1f439', '1130.17bf22bf823f2f45dca52f9933300160', '1131.7f31a18433046205b44e6b46f9677f9a', '1132.44b959af317d959f6a497675f9df6444', '1133.4b5a4ac1c2bd770e63cc85059145ebe1', '1134.cd5158f0c8d2078b13d01514414e3e74', '1135.55ab9518e8b987f67ed8b5b85e8543e8', '1136.b12b9479134d3bab39dd5101720b062f', '1137.3724caf191c2493a4754198cdbbd62c0', '1138.f044795ad01dc8592e1571539f800719', '1139.44ea8e749419ab215aab3810e4deea83', '1140.58310046747fc9cf38a43349d2461870', '1141.42ab0fa28e1e4653f538879dcf15a368', '1142.a9639f4250d907e182cf4e3a41e4b636', '1143.aabb3e2c8b41d8aa5f02c1dc00a0a8a2', '1144.105b5e507aa84b76d4b580be8b0bcd90', '1145.34a6c095d84e586da2b0177b7914882f', '1146.bf3f0043f371245c3f6253361acb3156', '1147.744811b2ba3a95401f70b17e9fade217', '1148.78b528d4233a8f6f6e43fdd6e7e97a53', '1149.68dbf497c1a8748757b6acc50fb74ed0', '1150.7c0819a67445e3b16a94c43e003d74db', '1151.29e4a84f607ead7d55a50aeef2c3f574', '1152.743d812488a852f6a39a5f32b2a651be', '1153.7b47e0e617c7b0c1e9f3acc37588a890', '1154.674eb8b1b601caf93e93010364a5a715', '1155.08c63446a38f2603d099ae25aff92c55', '1156.526d3b7c28d6e06d2672f8d9058d5e93', '1157.c9a61837e0193ee50609b6412cac5bdf', '1158.99fa7ccbe31c36e259370ffbb2789c82', '1159.b8870925b809f91e1940798973103a81', '1160.7ee82d03d42b984ccc3ec82e26077e95', '1161.9bcd69bccfeb05378e3e36fa62b16f7d', '1162.0ac7999a1814c6e79d6da0f6fb8ec301', '1163.3ad31ba9c55ae030d3d708b5987f889e', '1164.4f5726c74bd69e322849d54f54a646fe', '1165.aadda731590fa41de3e8c5926bb5744b', '1166.8a9dbee6ac67226f58a80c0993a700e2', '1167.9006901f5178e82edffb4f9167f7c586', '1168.624b64b63fb0dcf81b58856f0618c3a0', '1169.b4991cd8416f8f9c29bf9e5359f667f5', '1170.c4b2c469732c9fb5366078ecfc5c5823', '1171.0e43e655cee3e8aa703995f8f929b9f1', '1172.bdc831d97e06b2539209e0ad04e671e9', '1173.097a84308fc696d14a7063aecfe489d2', '1174.92cf3d9c75add5883005eae0732c5a85', '1175.64ee4ff0daf4a24fff53583ad2648bc2', '1176.5069b991bdfa80bc965015a7a94c3a4b', '1177.4c55e4b4a905e15e392e4a001f06ecd7', '1178.0bd8c8c1cf63d08849c504af3535f635', '1179.2cebdef3b31479afbfdb2c230046f84b', '1180.9d441ee49eef8ba99c54ff8ec4ea9096', '1181.e94c4c98963c99b42be08be341418d57', '1182.3156d66c268869ee74f080a7c7523be8', '1183.54b599ea32d753071ca44e55db7fe85d', '1184.152999961bd0606fb0dcb6d6f95cc96d', '1185.b83ac460b08616796da67d3bc57b76df', '1186.fcd93eee19319006fece61d0d3a0bc13', '1187.e5fee75dd86128e81186369567522f61', '1188.1f6d5c1960b4d2d50e9745073559284e', '1189.e69e458af7eefebc70d658dd2e6d23df', '1190.99eaa82bada000ca0ada9512a3f590e2', '1191.f8b145ebabbd42450c292e448cf44f15', '1192.1d7f09a0119d74789f1918f9c02beb45', '1193.8805a7218e81db9893ee2b704d9ebeb1', '1194.ee628dd00ae3eea31232d0e78a39c9b2', '1195.4cad51ea61eee58c9b4496ebba828692', '1196.38c6bb13ea04559ae8d2cc19219d1ac5', '1197.d2b11de4c8eb13e1fcc1d444665d0d1c', '1198.b0a1f43fd2c1b88883e597b6446e8ab1', '1199.5ec73158a8a2f5c74523d8eb88871653', '1200.9409eddf74ede560b5e33ce381d9a00a', '1201.ecb357d3156544c58b58b4552635629d', '1202.f08961f34260e8c17e28d788641f21c5', '1203.cce79b97ab6e3ebbd6861b40ea6df234', '1204.952a12e8daae26a03acf5f9c8e08c113', '1205.f9d66868c52039f7a147d9e2b4b05e1f', '1206.c2cc53dbf20904a052845fd3db08b072', '1207.8c832e207c141f927b0810c9ae5ce857', '1208.2be266a0d4e2e967a79be90d6210a9c2', '1209.8d537f01328f65ebd018e0e4e77ebc10', '1210.9cb04a991a1fa7e2c6bd49aa89fb9ca2', '1211.84b0b651923557c12187ec32ed8d5c24', '1212.b8a6ce9e2f0d2075ace38710d356c7af', '1213.b121b45b8b82aab9b9c203d3bc49e384', '1214.1a66983fafc885a13fb7301e76d9af04', '1215.9f79476eec512247f66e7fd9ef3b41c8', '1216.95e5ecab7fd902419ab5b4f95ef0d4bb', '1217.df546955abccc6542862dfdf365d4d0f', '1218.190735ca00def4ad757ea5786115f832', '1219.c4cc23fc1dcc1809a3dc65c58fc51d65', '1220.e6eee9362673cdce393c0e2570328f28', '1221.a0bef61f14f60b8a74f76f6a20651731', '1222.c6701f56a4fe6d8e66e652ee35a6dc75', '1223.6f20be4e92f37aaa7117c0a30a19207d', '1224.7917f240eb278ea2028d92515d8c3dbc', '1225.4ce87f5bbc885a3801a23cd692038c2e', '1226.7d2cdef974037d299c744b765e792641', '1227.db607f1de371e44ebc4bbf08ab036241', '1228.0e851b082d2c4200347accef882549eb', '1229.e662c283c2f313d577e186c1712b52df', '1230.55a8eec81fe610dade9d896627eb8703', '1231.9a7db322df8f2bdf4eeb2d589cb51e34', '1232.2e3d43a305269573c1d4bd6bc0b6b103', '1233.f19ee9e6ffb986dd0dd2691401e237ae', '1234.30168dbefeafcbbd7649c9153a182482', '1235.c0f0d9e39895355effd9a5f3df1ff4db', '1236.4f668a267ed4bfb3c9038c638ee7258b', '1237.4bb6dda7449161c5c971565261b5bf22', '1238.af17c6dc01076c3f5fd80b0aaf13b70a', '1239.4ac4f511de904aae73d8d5ead6f7fd70', '1240.cd4dbc60dd0c19e65f2e36f098462793', '1241.7bc7f4b48ba3328fe2ef672da8c9930e', '1242.570c92b17b81753d832ac94dbd8f4b4e', '1243.e8761b4169cb50de371e2bfe83dd4b0c', '1244.00a547243dc2054b271e9a8e1ca6f577', '1245.2e33632f51f5c7cb7a0620decd151eab', '1246.30234e4c9aedace42e5472e1a21aaf64', '1247.b5d92ac3d2ae89f0edc14514ca366207', '1248.8ce46227810a3ac37f9fc83a21242daf', '1249.0ce204b14c6f28907f57045f57ecdfbe', '1250.d091586ae91eafbabb9c3dbc556697e6', '1251.6ea8eef15987f10def40abffda965da9', '1252.01338681a590fb6bd30ef412a98a2993', '1253.fb48d5c703a0ab8144c54d42db32c641', '1254.d6a2581736fbaa0dec1593effdfc9af4', '1255.471b16ac442ca5fd6e94eecf29582676', '1256.53bfb1e9b31d6cf24a29203610bc28b2', '1257.955825e253f61831ee071109a66f0fe9', '1258.2cc28fb57d46ea73e9b1842f2c427e21', '1259.d92f1723cffd8ab2d3987feec1904dfe', '1260.ed1791f5738995cd9420a9fc169be0d1', '1261.edad140fb507fd35411ae458b009c39c', '1262.6826573e4fe12221d02721aa9817da24', '1263.b8e6ea5b6f483ce15f2194bed93b6b29', '1264.c8e0a9ae674a3b16ef93c8b41013d1ee', '1265.44012a15af306a59078f2873b92a855f', '1266.52a2bf88987e97b6f4d5a743e353d50a', '1267.3641b74038e9f1bc91bbf8318572ffd1', '1268.0a4d5ea5ca61460fc95b01dff4224767', '1269.7820a9dc465e4d9eb8b2184d98fb9b3b', '1270.d5c74ed6ae742bd031a65859f584f024', '1271.1af7c90a1459165ff18d621de40239c5', '1272.812e1f9e9143c336f6a351d8abf6fdc5', '1273.eb9f0b877dc669691c45314b5b6ff605', '1274.a44315970d569047925df38e03c62d4e', '1275.7f5370e380b5cedb37bad38bb1ea1484', '1276.833510ba5d9158c1172f5edf1277d41c', '1277.3b713b4f04b00064858517857347bcba', '1278.d6395388e0e11e622c6c348603c4ef74', '1279.66eab31d61b430bc9c4a11511b965e60', '1280.542b6637621390bff1378f93bbbc8f6b', '1281.a9eedbc574256d332af3e15d2dc8fc0b', '1282.e55809fc9341e2e88ac96b58a7129c82', '1283.15624a2ea079397d2638caa74f8bd17d', '1284.bacf47285c3f6a514443b4d013d5736a', '1285.b9998969053e427bd4c4c0c6e68518ec', '1286.02bd8e853e68affa8f7d5fda314b4bd4', '1287.afc17883053e6731bc1ee67bee4ceca0', '1288.9235f568fa35fd2fcda2c067543fbd0e', '1289.84eadde1bbefccfa683dbe80e2a7b9be', '1290.29210c521e898f200036c204a65ebe00', '1291.971dfb411b0cf9d2536772d1f62e3a4c', '1292.2f4d5b454214579535ccc3831f2fb37a', '1293.10d897dc42804bd393c7ccea0185dc6e', '1294.13f4a38babc2d7f26fc0f6867694cbd4', '1295.0a074d85f629ec018959632659ee31ee', '1296.7a96b5d20d551aa58e3cd3c404b4e2f5', '1297.1a1fe868f3533a56ec611d93345d65e7', '1298.d2696bf43cfe971dae857c2d0946ad20', '1299.072df7fa1fc07de40459983f730b82ca', '1300.1205d98fa8824ba6fcdf0b04f68d4baf', '1301.7d4abb56d43695d968aafd6f15f5bbb3', '1302.cf60285f99cfeeca015a2c1a02cfba61', '1303.b8fb03a2de8615f9287086ccc71a4282', '1304.10546e3c5e1352134ff26c0e49f72864', '1305.079d27bad970916d43f450d17afb2be2', '1306.3b683083387258330ff8d33a8bf36aae', '1307.e200557eef5893f75746c1876b337152', '1308.f86cade0799b6d8cf98818a1bc598f7d', '1309.a63c188095d5f70604ec9c3a5f96ce0e', '1310.2e2ac50f5a9535c6727c5d8a44f0ebda', '1311.1b2aa5b1599ab89a91f09ef1f1dc9989', '1312.cb81f191343dc4f26a8a601cf73d790f', '1313.921e45a5265e4d5d55f1245fe4399824', '1314.b6bab34941436986743c446720b95d75', '1315.ba15a1eb74df7bc386ecb05e9ded5809', '1316.e019de5bb870ed83dc036c657cc4ca32', '1317.1f1768dfe09568d0096b0bca8987e467', '1318.d5b97eb2ad5aaa5b11c2c1ea00c34194', '1319.58000a90a0ce3ea98762d31df028af02', '1320.9e1add26a777cd027f1c9cc94d4980c8', '1321.a524e96163e61358635db777ca978d0e', '1322.7faaa22a10e2eab022719a868f587686', '1323.b8406cf8686ef1e3c1ac2ffb69f6ce40', '1324.23790be4ea2123dffefeb4a363035788', '1325.eaf141388f8b499ac522747d674f3e6a', '1326.5f4584fd2f3f2d4a4b0989b7d5c7963f', '1327.732de5c513bb352139c28a17740f4128', '1328.cccf5939c5844ebccd4f7b4bdad42e63', '1329.e3ef761ca36621fa1095cb6f942886c9', '1330.2e2ec961c9022cd26a555e4779726a05', '1331.6ad39d03e006435853139ea69757b8f4', '1332.64cca4cfc08e86b88c4974237e7c2a5a', '1333.e9f5229e15c55a75e02a92fe42324bce', '1334.2c9c592fd955e975f86e536b6ac5cadd', '1335.57112a05c5a5ba633707ed3fdecfd88c', '1336.7ea005648426a4f5815e0bb42230a595', '1337.eb38bf81b8a24991252e451208c24ecd', '1338.6656824f5801ca79629b3374e834ad04', '1339.57de97732c190bf4575276eb054e0e79', '1340.763507dad3b921f972640d4d76172f7e', '1341.91bc30d50566e71807217c8977f7a793', '1342.6770473802a7dc7ab14a212f95573c15', '1343.c5ead41a4483bd3732e42d52c9163d24', '1344.c12652263fc21b75dd4298a3d1bfcf53', '1345.df3d6d8a5d9e6bba6484fbef2dae9102', '1346.e172cd7f334b27ed0aeb288ca6436f7d', '1347.b74ed7bb44086b2b4721bce965ac8273', '1348.79cf2ab14db2301670710f9d1feaddda', '1349.d05ca7b269c99915562d3e448f7b8afa', '1350.e386afc23b51f446e2f6779c1ade0a68', '1351.c176f7e5d80492c34cad40bc9e939012', '1352.dde8603b55106a1e7fe9508e972b24d2', '1353.bd9fa1be6b135e4aea436dc7957c7e37', '1354.0cbd2821c28f742dfdcf33ffbfaeebac', '1355.787c1831282475833fed423595755d11', '1356.14e3ab9f37daa13ce7a15770017c4863', '1357.c307e11b21bba14e568cd03731de0119', '1358.d784d0be4e4e9b4267e6a1165929b762', '1359.a4f9b2b4bbae9e1d2ab34ba5fec9eb35', '1360.18758d232e8b6937d5d62ce0e0aa2d8e', '1361.3851fdfcb5a5f99e2e47fd8150641280', '1362.0a5bfcffd711edd195f14820b0677c44', '1363.8c11ccc4af2f95df4bc78e6dacd96a73', '1364.679f0da47cd44783dedd4e95bc942b27', '1365.83f365382e725776956f137a4600117e', '1366.200cc41f250f28147c5db07ea933f26a', '1367.924aa29f6473628504527f28ec2fcf3b', '1368.3293e84198b7ac13250a63da9437e2e3', '1369.0df084ff7488653baa03642c485c233f', '1370.394569ba936fe18d6d9f2723e8c2d99f', '1371.163cff388de55b3d4f3ac817fd8a3dd9', '1372.b25e5803cd96db85050c5c31ad3d58c5', '1373.1be55997fc239abb638116534d32e94a', '1374.58a88abf493ddcd871bafea6b40fee7d', '1375.2a62b057a9e7fa1cffc53cb60af4cd32', '1376.460393676b2c5ba43650cc2f2ef6875e', '1377.b6f9379076911dc30e73da8e76893923', '1378.12eda7069e9d8a08ba37f0e4679f23ea', '1379.8f1e63f3902da72388600d360b8579b1', '1380.c3103ee67e5faa8447f8bd57f845f58d', '1381.3c5527db01789ad42005006ac2ed2fcc', '1382.91f90e365d7046c57789061a27cf62cf', '1383.4e6c2c19a9c9ff985a966f06ea87ed76', '1384.0791f1d9a72262517deabbf25a2de75a', '1385.be576b43bd3da84b5752402ef0acf1d4', '1386.bf3a96041aeac7950ee23a553e1fd186', '1387.ed6c5677ce998a2c37e43f3771c088d7', '1388.48788e5ee763c1cc1320a5bd2fc41ea4', '1389.447a639594555183f1643cb44d9f8ce2', '1390.6e72b8ce6b837d6072790479e742fb4a', '1391.9cf584eba8880793c405082f2dbab06f', '1392.e9ab29c0a3c14e8bba5e057e7af1c2e4', '1393.5464ef1fa4caa53c28737e607e2bee31', '1394.3ed871ba71edd281c9dbf0d5db738842', '1395.923c820448824387b21877293d3d1462', '1396.70a22c019be6a7cb4949e015fedb8bf0', '1397.75ebdbdb545c2376e9869203c0c612a8', '1398.02fd0caad73d10ee02aebd13b761f135', '1399.5ee3b9902af076cc63e0c4e612f99ba0', '1400.2e82a3803e51f420c6398d963052469f', '1401.2d453d45aa06dec5a5a98bba8d81fdc5', '1402.e74c8db27ea79025c2afa3b7298d8ebb', '1403.344e5c5b7eb1469d645c1840552a3bf7', '1404.13ba0bfb3c92baa1b877b04c8da350c3', '1405.d33d54d33d52ebf10870baeb7a03999c', '1406.8be30026528bc5fabe63b16b834d426f', '1407.883b440a7cb776b7ae2ee632f4244cf9', '1408.c202263092b223a607078977ed7aa6c3', '1409.9c1ef3088d2c1f8b9d458f0d516ce435', '1410.8a6f57da7baff41f04a9d273a8dcf8c6', '1411.a455fcdcc40a1a29551cc0153a9450bf', '1412.ef6317e6ede59d84a07d10de6891ac37', '1413.2d82c3f6a31f15ead58a64ed3c122f71', '1414.c9aa0ebdc370411948a0c8bf4a7e6b14', '1415.92155ef4a4f97a787d636892dd1a0219', '1416.651cdba6e04f9c3593f6d634a70312e8', '1417.cc31f571d364ed7214cdcc48917f97f4', '1418.5c36d043127ec0c29964b54b5ba4173c', '1419.21567426907fe2711bcb2cbff50a46e8', '1420.6954e3e5e7c772dc859c47d42ff4a085', '1421.de48021cb7ef96adfb4ead44c1f0f37e', '1422.c9ae8a81f72163d979f52510f5efb82c', '1423.e988ffdfe0c87956e90f32a59aea6d9e', '1424.99bed488956252e02c4ec7ff578c42d5', '1425.7ed3569c34399b07b158eaead1c85cc8', '1426.f6c783d5599675879265d4dc80fe0776', '1427.db4dce8eaebc4a3d836d2328137c7ac0', '1428.5b9b341ac8488e65419bd551ce99b23d', '1429.3c60313af6a2a5c79bb97e06855a4af7', '1430.340721c84f45f79eeef6fcae18c82f20', '1431.dbd1ebf9ac8e49dd42b0ee206a8d309c', '1432.0b1b8088c9a4e04cff33f6919f340402', '1433.164926797999228bbd4fae986a02ae4d', '1434.a626ce397e7a295eea36a996cdaa5f40', '1435.450895e9e4b9c337afe2e04809840143', '1436.b6274330d7d8fd92eb9cfc2f999555cb', '1437.8bf8819fa24490f892b73ba41821d950', '1438.d20859908f11db2377bf6829f79066b3', '1439.6ed10d0d0a15ece643b718880874a713', '1440.d7c632e28e33a2bdfd9afd121319277d', '1441.8344939e17984af793af15791dc9ffb8', '1442.08dc076440caf003ba9842983b8c9ed4', '1443.f5558679d8d2abd2165d96149a4de59b', '1444.9c769de9af58bfba4b3e6b0ca034f2b8', '1445.57f9856f348cda1656331372731701eb', '1446.bc3115f3d75b0ce0461b74a9c136831b', '1447.fda5fab9b91617921e5b7d5097214c6c', '1448.deb1e7a1f52da85e25ff1462d4f87089', '1449.2dcf4336cc70654def986dda89e9821f', '1450.c0ce160e1b285899424541ccd82b71b1', '1451.64eda615fc56b4bbfdce6291a59c12f4', '1452.81f3e3d1b40f978cd3c0125e7020dd17', '1453.1089ed990307329cb4527b6835b2259c', '1454.88f9d20d76cccc7f1bde4e4d0794b69d', '1455.6e48dfed80732a341f02ac33d5f93378', '1456.c3d6fc8d95ff2e649889cefaec7920f3', '1457.8bdec7ac0e8bbe2ed09f7863a3807312', '1458.41929f2d84553fee75ee83a78d735972', '1459.74fc3984acd4e3e9f00e77f599d2fe27', '1460.8ad306210b1538d37993a51b69544e5b', '1461.7a96cf16c999d9db5e0cf0369203866d', '1462.ef8fdbd441dade85c95fa014b058b896', '1463.92f97ef2ccc550773ac1ca0fb3feac52', '1464.1bf98a5939c5dccf46f3e7c482e7e906', '1465.1bb092b8dafbc6290d3884172d0d49c7', '1466.f7d9619d0f8ed31c43b8311a11472db5', '1467.59a3ea5497660ce75f4b6c3d794cdc33', '1468.b214bf3ffdffb1c95702580a58ae9aea', '1469.792c1b929baaf14e1572437347925cc0', '1470.31e4ece4f510b5b908162fe1f1904ef2', '1471.2aa0881a829097828a279ffd6ff20ed3', '1472.817651cadec68cf13d9b23d336825269', '1473.e93e78909cb4c5fb6092e767671be761', '1474.3de55dbbe581bcc06d4f5e2aa0f7b8c3', '1475.e7844d0026786e6b2828a0434860f7f6', '1476.003708da8e0f35d91264c7aa737031a4', '1477.c0b267d577c674023fec3244f351df06', '1478.493c4ba8cee0986a8cabb3953a40fb5b', '1479.1ef8029a7d0ea41d3032b6174793a35f', '1480.ea8e1a4bb0cfd66e9f04c4f3c1c3379e', '1481.a18fd231d1a79f6984910a05780356a5', '1482.75a9c57c2bd53175e33ee6ed037400fd', '1483.0e8f2eee9641c6af54fb45495cb65018', '1484.b12cd10a9234dd4c294f93ba7b3944d4', '1485.466b9731651b090d2ecee034e696cda1', '1486.1ff97d5b7b97423fb1ec74f6a54fc225', '1487.0dec4dc8ef9439d54e1605b2a526e2ff', '1488.6694aa49b517656806a631deeb8f89a8', '1489.d724933540e63e324268925f6c803361', '1490.e80cf700ef4de2385ada6ae149e7498c', '1491.2e82a3803e51f420c6398d963052469f', '1492.fcfeff3d31bfad092220ca731a40c05e', '1493.0e19ac93ca8fe935323151417bc2e959', '1494.adcdefb394b06836cbb548c4a93ee76a', '1495.965bf18408e31d93d3fd256d2c6e8b64', '1496.c48399a0c3abb60acd00322bdbb97565', '1497.82b5d123cc0c3630a6ecd3d0eefe7c08', '1498.578d31b0aab137aa9d79b455a6def5cd', '1499.37d7a1b89dcf94a9b123ad584c2fa149', '1500.2e6e497d8947d6125050b838efe4cf1f', '1501.5c83f8ccf80ccff0b82b04a8e09d69ec', '1502.1376704c3bd9c110fe3a5d0768745d91', '1503.f1fc48f16902a097113fa60aaeb35245', '1504.f77b2dc9ad8c875d8edc67b180e2f878', '1505.7cc0d1e500937105c1503d63bd0b5161', '1506.df1d0b609d034c834e290e7e3732e392', '1507.381db954fc6fe8df9646172b53db92ad', '1508.334b2eb6c70ba66605ebefc97924e7b3', '1509.dd0b9717ec7e25f4adb5a5aefa204ba1', '1510.ce7b07a2114218dbac682b599785820d', '1511.de6a5fe900081a0492fb84f6bfae46a1', '1512.97da4f8a986b55cbe1f81bb22836ac58', '1513.4ee4b7db2ca10b3f5ec512d26bf8b3f9', '1514.e01ad8fa7bcb36e969c838578051d684', '1515.cbcae309928553721fdf49cdf98541db', '1516.d12eaa7e292c15107171b0eb39ea40df', '1517.14cf0162b6bf5274305b7b573a0c3a82', '1518.94c41662e1101b46c74bfb14b84b34c4', '1519.6074b997fafe25f524f2e2334f7ae45e', '1520.227b74e7890079e47c5c8890d64c1383', '1521.692de69e480a819f6d32578f93fca74b', '1522.3f4e272c9d12eb60b890f0dd065e650b', '1523.59e3f881f7536e0a90d98797f6c509e3', '1524.d18213f1cf68518e719dccd3717e4255', '1525.861d32759ad2bdac6817645a73d8eea7', '1526.084c29eaad19c537fc8dce129ec30744', '1527.3fc7d5b03f0c34d1f51a55a0e10b8026', '1528.e2fa148e32e3c975b3afff6959c2ab6b', '1529.e1a0f5092c93eec245ee211544e6db4b', '1530.fda9cfd3e1881b3e8c823a35b618f897', '1531.fe3474ea8fb4195ac74e644161f47c76', '1532.7629e5bf068e857d0149f49caf32df6f', '1533.cdca6023330291efad8880619bc3c68e', '1534.9422e1b77d4239d246fc1d8a79d62d07', '1535.92d5d08b41907f13b4553115c772506b', '1536.9f465603a58bf6390c7edbfb78f2b62f', '1537.61e8d9ec6d8fe200987abca9969c2afb', '1538.a7f206a53de6097efc0cd3165202e406', '1539.3492ab4db8fc4cb31731e0eafcee6839', '1540.e6859a3f2b7d4347f84df81b2398ae58', '1541.1c5cac401a046fc68ba4594692631a41', '1542.a5fda7c1725c3f9715d2b0c858ad306e', '1543.d8b77b54627b605a9be40ba163b6dd70', '1544.011827fa2f89828e83bae7f6995576df', '1545.f12974e0310c366731631a0a62980b5c', '1546.2bf79dda9e1450d2be84ab65f5c3ca6d', '1547.5a820118fa0555c1c9735e3f2cde4b7f', '1548.009504211e34b42d8b878b5c5aec5926', '1549.929f73150d87a253b519a286d3dab77e', '1550.bf1bd1651e108ceb8637a006d6861789', '1551.8d00d37ef39bf157ccbc2eeeea811ece', '1552.397ac9c4693e0e39de3c115fe7ded51f', '1553.057f1ee3da7c975523f475fc0c4fae71', '1554.879f87b39484ac517e0950eeb5f7e0e8', '1555.52c8b37d4f76bb274a73e2b6609e9655', '1556.9649e5e9ca6adb64eadad468e458ab1b', '1557.ca393b0c2ccca10ee02981cf20cea52a', '1558.7f77f46b6272f003f0b588f6a0eddceb', '1559.ed17f96c32605795f5d5f88af0c79093', '1560.7e2353b8cfa54eec7a467743eaed5afd', '1561.b968a0929d29009dbb76603323c1862f', '1562.6aca6138ec917241b64782a98697c17f', '1563.4869bc6713ad6960f9b607c03dfa1c23', '1564.8631d760e58b96dbd506f4bbc0a020f0', '1565.f6d00c2ee66b5687a153affd23870524', '1566.513fb571511122853df82c890115f8e9', '1567.eeb0beaf2f749c8281d93d1536cce247', '1568.dcedec6fe7d15916774846928acd2872', '1569.5a4e7eeca40257722ccbe4dee1d636fa', '1570.a0b2e109e4f244de9538fed3b472f1db', '1571.5cc089d07e3c447b7be3a24b36fbd07a', '1572.6b71d37ef29a804f1b0b65b90eee0d0e', '1573.2fa3928a9828d1c51517565a833b9f18', '1574.b1f0d9b40506000be4910e25a7c3ac3c', '1575.b4d0187663f37a4c6863e4aa2d594444', '1576.9fc27f643c41595b2801b4b7962bd6c0', '1577.da07880d399d5552771d328aea473928', '1578.0c18da688c1ae54f27a3a4eb27d4005b', '1579.2b2d92136109e10122b2af311a414783', '1580.108304b0d17fc6c34436e63e5f30fc47', '1581.c8719428ba4a8c4655281826b878ddd0', '1582.ea28e13144adb7ec8718cad39728984b', '1583.11883906b08a91ecad2910a1e5d869e1', '1584.bb777200011a887b5e7cbc0de0f84d64', '1585.82fb57152be63c79b28e68ae0ad319d9', '1586.f2032491ca27076af18575e9ab78abcb', '1587.846578886a749978ec4a3f8cc44d9424', '1588.61ee71063f18d59f7c0326aa48ebec99', '1589.5459ec44404ef9d0258edb476622bc45', '1590.8d27eaf596403ade34f593db10eb8f28', '1591.6b6ae63033581aaf40cb6a6d08da2662', '1592.e024e5de503dcf463bad5cd5c8c64210', '1593.de7504b4655691f11b3e807e42a2b82c', '1594.f552f47fa01a4ca29e34182de6f0cca7', '1595.fa533692bb0d635d6d1219663ee0f82c', '1596.313021ceff8185c1fad0d2d8d9e2342b', '1597.e85265a0da41a962b316d117548bb3ea', '1598.d9a96d6e7aa7c5a7001cf43ec39f44f6', '1599.1f738c1f2512f6179f1d94e2949cce00', '1600.7d1caa5855ff06f37269178401aff693', '1601.e586e85a3d75cc48f9b913f244d52632', '1602.a6d0709065f52668e973ba89f32def7a', '1603.c0963552df600d961b960f710d6ffaa7', '1604.051f662e3490b712974e5af2cc90043a', '1605.95c19e87a7c394abe0e459ba511935e5', '1606.3dc1298108c79723735fefb01991f22d', '1607.d2f250ddf3a443a4a10c5ea9825da694', '1608.aeda79b0cdb36bdde6d6b275b7484a89', '1609.d3849c49c9377d824b5ab007f36e96f8', '1610.adfdd3cbb3bad46220490cf0d9c26396', '1611.e83818d7655d711bee3f320bd19e6f6d', '1612.17083808deba0447726df856cbb574aa', '1613.19c5758c67f8ba03cd7412c56c979390', '1614.6923314b59e82a205ba3f227deea1d59', '1615.bb0721aadf9f170a979323adf11c22d5', '1616.cedc09d67c941d1541cf598e0007509e', '1617.75b61ae83ecff7b45a80cac6cc8c9192', '1618.07459a459f6163e2dd40cbd207ee6ba5', '1619.cd1eb30a6bd51a230fb0bc79195ad18f', '1620.4e348b4994896c22848d0b7bb8e8aedb', '1621.e0c43e18cb0b93910128e85a0a0a936f', '1622.91772e8eb2efcbfe9ee14aabaaa65a2e', '1623.72d038c7896dc6d5b1ed6086a4ae2872', '1624.d73f5a35be403b0532263e72ccdab448', '1625.08690a3d25fcaacc8929c31657f85c8f', '1626.3c8c730d8741c9357da8984dd1057665', '1627.6e01ae785063460c6a1227465ae3c85b', '1628.fed40c4cb72a87d6520ca377e2c4df23', '1629.a65b12c5ddbee4016ecda63b404149d8', '1630.f16808d817c720df2c97122c2c62d4a2', '1631.83be0168863d5e67ce580ac556150ed2', '1632.eda28ab249a9f3dcad3f7a343e6b76fb', '1633.c1b90a09ff40266eef2b0b60587a3881', '1634.272759499861b548d69fb7377157ea79', '1635.52b59f11291134697f3604f9dfd72080', '1636.5583afc73885e3bc8d4e6ce1bb31c90a', '1637.d9ae62cb17b80f3ae47d18a6d7100c51', '1638.0ac4bcc3695f59f140556e976cf76443', '1639.9abec21910adc16386517d83c04cf051', '1640.8be9ccf87265637007623bd28edffcb0', '1641.7555c5920365e6315e3f20d83211d558', '1642.c4eea2387cc6850b5e1cb84529535f8b', '1643.6376ec92af99da9b90e5a3ab60f9fd09', '1644.ba26918a1837fcadae2327adc12a797d', '1645.60a80c94ae8fec2ef1f1ef0915445400', '1646.b241667d03a7ff89619c30cbe2f8dab2', '1647.e868de6866be80866e13b1660d95537c', '1648.feab1eecf41d21e438b3658a5ab15f80', '1649.00d75963b0db438a7f492b59a5395fc0', '1650.3d76995e778ef56fcf4ff76b02d485ed', '1651.8a77b2ea51351288a9f69b23aa5ebb26', '1652.d6f822887fdfa0d184c6303d28b97acf', '1653.19b45239333519205611b669843294cd', '1654.1ed94c5f40b704e5b4977c0c595a31ee', '1655.7a0d7700a207ef6f66686f94b02c7a8f', '1656.2c519e6e148cca3020e50c723bbc200e', '1657.41457c98e0009a99d917acfbc8f229cd', '1658.5668754ea9f7c62c42b2555e0ca7cdac', '1659.e94135f919552d1bc8bf35f0a84b483c', '1660.f4b2e5b394c3aaf2589c49c205ca05d7', '1661.ea88a58a5adbb42b5f456544688849ad', '1662.70a7a270f3adfa3fafdc01a05c200fef', '1663.3cda52dac479d2b668e3410feb916e38', '1664.e67aee25046de6fd0243b8c6fec81c5b', '1665.46bc87071ff202b6f0c37c8a4b6a42a4', '1666.822fe7bdc3780066edfa4847f6399477', '1667.aa251c5e7789a550ed91cdacb0d58649', '1668.c077f4f038fbdccf01f1d37a3db6f2e4', '1669.4bcc4cd50bc3d03cba237953480ffefb', '1670.da702de4cb6dce6d1f62c93bc30e71ff', '1671.a2d7c7639df071620b481223ecab75c2', '1672.2c743f29bd6260387b1022d586513d02', '1673.be7fb2decb75d04a65ef85f30f678060', '1674.af90d09c58aa2dba5ee593c8ae3d8c70', '1675.550f474e8aea76f79d203152aac1767f', '1676.63b01735cee30cb278549725c0955728', '1677.0a982c2dd05563772b84243adbe8a720', '1678.a3c22194f3f334941d900a4bbf249f96', '1679.b783b8e80886ae5592280e655058813d', '1680.e01cc177beb7bc063963c40e12599d57', '1681.b17d16768d9543099dd7fe511f14ca9e', '1682.35613b5e95aa4cd78a5537bae6351bf5', '1683.f2844e0cae274ae1be662d38631cd0c8', '1684.925bdc970b65949bf11a0aea4a853b03', '1685.cd6b27de2307413e47e0212f8d4fc9bb', '1686.4b992ea5041794476920fc2199b18ac9', '1687.e69fa74557118313b26108f91a9cd6fa', '1688.e2ef9f60c860b46bf3afcf1178378c3b', '1689.5a669baf8c4fe834e29840d6e6bfd443', '1690.0b46c8163c389f96d88717fcbe93684c', '1691.dc18b18697ac2c2d7e5024eb8be84ecb', '1692.56e3001bcfb5d947babc892cda37ab3d', '1693.7f09ce3481097bd97b4962a24068465a', '1694.597f15f5a0b581adc3126199cc7ed066', '1695.647eca914347c9a615c5a1bd1453319b', '1696.7e22fd3302271b7e8cb745edb9254c71', '1697.d4f2eb98768cbc4c3600f6ca68e7ef03', '1698.53a703c3eabf4f1a547ffec14e09405d', '1699.de71400a0100dbf05e05230d7e422a29', '1700.5c99dfbb4caa577151e510bab9e018e4', '1701.39d6d3507aa62320295032f0c0e4435c', '1702.cbf24a3d72463a352831af8e23b02cc1', '1703.7c5ad732db66343c7c8c05b7bc66e811', '1704.98026ace6376f17790b5fa811ed10d34', '1705.d042ec093f873897ebf5146274dc2a20', '1706.7b84ac072540d25d70de818843a1e921', '1707.5c6277e057c0b3238b03d60de3109e8e', '1708.0c3b6a8fbd582be37cb1fc8438a3ed84', '1709.beab5cca12dcf10c94ed9ce7f8951444', '1710.d0eb0dff243846772b43c3b6e377b2be', '1711.eabd48daa0f2d3949b60908cd93fe9cd', '1712.ac9408d8e56446c8bd0a917aed234b87', '1713.3572d2093ff4f9c24db5cf4a7a9a7ae6', '1714.da964dedb8592fbfd3b07819607def62', '1715.7e47339df52b3d0c131273f1c58ba4eb', '1716.fabf67851c347abee56594b9873b2d9a', '1717.788ae3994073913e51498a96cd1d3662', '1718.dd3ab0a21ff132982fbde9b8712d5258', '1719.2b32c9b1de123d4084f9555e8bbfbfe1', '1720.b17e78a9a5d7145aa8deffc671ace997', '1721.2f654b5e99867bebf86ebb0280fb8e48', '1722.0ace94ca1a8eebbca0c096f2bfc89cc3', '1723.b0f1f64188b8bac77aacad3b27b749d5', '1724.fd2c1f2000f8b5b8042872435656619d', '1725.4b7434da4269db27bd237dde1d03db92', '1726.dcd76e312ad123a4882c12b77f0b92c3', '1727.42ebaf7a8a31234ef70a9066b1579592', '1728.cbb5a97d679712664e7cc3025d05c1ca', '1729.f1819fca167a26d35e31087bf27324f8', '1730.2092a2c5a1de432db582fa62cf7e254e', '1731.5dc6289341b8bccf7a1b7b976f96e005', '1732.f90c4a8e1ef88d4802f7fc139a85fc13', '1733.95212a5ae78a283bf7282d310d7731d7', '1734.8ce5e8ddf445f56cb18afa778b07df0b', '1735.767c727c118916606982501980deb249', '1736.9ae2cf6f768fe1d218ddb61cea78e523', '1737.159f94d09e451f53a35a8b03ea5e7dd2', '1738.7ee140ca2744c34a2ed33de3ceecb016', '1739.07c82f37d072bce96820af0bbef80eff', '1740.cd9dec755fc9e6d819137b8e0111e031', '1741.1025c8d81a3ce398f65fb401537214fb', '1742.9ebb5f33ccd9bcfb089d758b7523f0c5', '1743.75e754f7e80ce9c9e26898513069d35f', '1744.af4f10c1dad2aea2637aa8cd093adc34', '1745.6e47b00b04a6f2cb1cf9c5c86031132d', '1746.e3c2e047714a395c583f80730acd3762', '1747.77c7add87dfb454c2bcc8ce9f60482bd', '1748.f61b77d47c074402d1ee5976e9a4fd7d', '1749.6943600e0de67c472ee13c9f14345e0f', '1750.c5afcba50538a5f49d6e261f6bcfed40', '1751.7758ab9d9eb224bcb73e0e8e803e92c9', '1752.5bcdd9205f59d95e025a2896a38ee2bb', '1753.f51bd31e8f0e63be278c22d7a4d2bf10', '1754.7cafcb2d9dcaadd665afabc65c267f36', '1755.864cc509960bb627696e65943038856e', '1756.b13797de35037c4f26356e89ba3f9fb1', '1757.ade7f371dd3f7c4393baf201b803755a', '1758.c3fc45d31d7f105f7baa0d7617f71402', '1759.705cfa5ceb056324fe8fef48d12754db', '1760.a57fd76dcafe47299543685aa2387d32', '1761.eeb706ce24cbbf2cd21648a4781a1464', '1762.1d4646886358156accce640171c77c1d', '1763.2ac623f4f429bbe90824fa535e73b558', '1764.1393ea887720c777d1429b07fce98ab4', '1765.4257318f87e53aa246882d00e42c67d5', '1766.16e55768065036480deaa72ebb3bd8d5', '1767.f726e854a4f84a55fa0961e65c372e8d', '1768.e849ebd7ee95f02a6f4d937acb7575e2', '1769.531649d2c834408569b5aba7d5b2b9fb', '1770.4aac42588f98c49a6d4c39c4e65d3387', '1771.8880ac0caa45450bea484d7e9cafdece', '1772.d4ebf95243e3b22d80ea63a1f2be06cc', '1773.2f86bbeac16f343c0c9e8d9d363cabb2', '1774.572d5d58699f0b03e959bbdc6ee14e83', '1775.dd744a40e87e0715cd0153fef3a63a99', '1776.6a0570ff6d45b717e0b6352d8fbf7ad4', '1777.6bb054bf786bfbfeacc78dd1918ffbfa', '1778.5e3a4fdad399e2557d6921d7e938faef', '1779.b1039d148dbb347b468973dc6bfe0319', '1780.35908078146d2d19fccf8b786aa83cf7', '1781.8f5053b1fda58d8224b0fb4827413912', '1782.e027f2af78c05f8498f09d7979cd127d', '1783.3c26c587b4fe3b681981c38f90593e02', '1784.0e74974631f665395f5e6b01148b4bee', '1785.aabc3014dc8e7bbf3748d1e1b2afbf56', '1786.59383d91430d9cb58e7d0aa4e25b1320', '1787.94ca5ccaec9be05c252bf32961a86a3d', '1788.26beacaa0fa03cb6199c57b8a99a2852', '1789.146b27f3890e3350b0e596b42e18a985', '1790.305d7c2b4c83864ca868937855ad1b27', '1791.77ff25da8e59d16dfba5c708a0cf3b69', '1792.f3dfa7db118b7738bcdaa1cd81a0f1e2', '1793.c20b0ff2930d9b36d7aa70e54939d12c', '1794.6057cf5e982869286b4742cee5639a4b', '1795.3349a6670b58d2a39307e87ae0012294', '1796.5f6c04f93ace9da3b5f9e0906ba608c2', '1797.5bae1500a6c23344cde8b81dd95a2dd7', '1798.5914721a121b85cfdc0e39bf4b4e8970', '1799.70dc9da58ada190c2c66f34986636594', '1800.75f57c5146462b574d13349e5c0c4bcc', '1801.906dd11cca6bee22c6843afb597c87a3', '1802.235f7aea351e2aa201447c134468f723', '1803.03a577fc11e0a5121098e0dc83c97d6c', '1804.a28b76746a64d3d352375a462f4f8404', '1805.3a7add5306fcbf4ac7eb42c57c125e85', '1806.db99848ddb40f4d5a0694557363c7250', '1807.7f2b82a41322fa94c43a0dbb75472ff4', '1808.54f25b5c3ce8b81c56da0ef6693c5ffb', '1809.582f22e10f4f792eb0efe0499d37db30', '1810.46172a3da4e739c7b65a3b3aa3869e9d', '1811.49621617c6fee0551ce210e30094898a', '1812.f25ce16131a4a1e9b4eb4e04f748509a', '1813.c86ae674674567c5779cfb7a30385e45', '1814.95d3ab2beeba9b96666d25c09de2143f', '1815.c20d5899b4b27415389a10cd4f400019', '1816.7e6c3f51ab4a45f60fbb0968d56f512c', '1817.822fd92abf93a33969943a291d819fdf', '1818.30f57f8851044a464064eec4c938963d', '1819.8e1547062c811ff9b62183ad65bf4ed6', '1820.7b6864b6307973a30ec24e69fc4a466a', '1821.049911b67a0ff546e80e2acc6bcbe6ff', '1822.a401ddc61fc3d89fbaee70ea107a9956', '1823.edac63c7227d89192cc41c922d689d22', '1824.33f28d80618a37469e4530603d6f8b5b', '1825.d77de28865080535c4e108eada26ed24', '1826.26284dbbc6f595fdc9c388008e5aa72c', '1827.9dd46d474cc33df16c9443ac6759e679', '1828.80327e3b2580e1e277165899b2532871', '1829.1c598ff775a4de81c391eb9bb738d0c9', '1830.d6713b65baf275582be556a87a824dd4', '1831.0bbb7ccf73587c7f02655596e7fa6477', '1832.01f5d745e5bca5dcb35f0f863f4b0bdf', '1833.3d930e2d4968f325cc6a773df09e8969', '1834.48b91fabd8e14b220898d3daef4ff0b1', '1835.6c654f95a549a4f09daff21def44f511', '1836.7b8c9da065dd15894b0c6f851ac461e8', '1837.e1c6a4364e0762f323cd69d23e030fc8', '1838.d038cbb36f734c5ddbb023d074711d10', '1839.c66fbc9c72afb9ea062537d3635d1d6c', '1840.0adb46c649c37f8f26c46c6d1b0d8d93', '1841.780eecf7f0db1db00bd0a6248de51260', '1842.f57fcc3356b4c910af8ac2ce06d7301c', '1843.22ff82ab4b9265075924f41abe0460f7', '1844.2a15d667c53727befded94d9b526afff', '1845.e5c02ab6101d2a7759f059da0e6385ca', '1846.07f7f47e25de2b8f08cabfc5ef3e3709', '1847.add31f8a35fa0fd63e70eacd58c82a44', '1848.46a467858b1369e9513a8a369a67a70b', '1849.06fb7b96d18dae121abb94e8a7624f4b', '1850.147241797a056a32e99562b240ebb283', '1851.69dcabe5a5fe6ffc5e20522e4c5477e4', '1852.da79f6e9c4f07174e5dec173c9481b99', '1853.73b4d9ab83de83ae58707c8bdcda0fc5', '1854.bff303bb4466a91b0f88491b207e8ed8', '1855.a672617b99187e1c4029bc33a4e8a596', '1856.ae52e350b9847d6f5c6ca350c4f4eacb', '1857.8fbef0589564bb19c088156227772fb9', '1858.51e8b76626231abf27c682904ee4b4c1', '1859.0e8cedd7ff0e281e2da6e6c40fd177a8', '1860.994c77afc8d6fb072d8b95ccfdf09627', '1861.ace2433031b3ea150e728b34850cdceb', '1862.9f36557559ed64908479a42411c17b4b', '1863.bfe819f6abc823642064dc200a54be39', '1864.c7392fccbe84e3e6b16a41a95c949d52', '1865.103ed197a77666a8d52b01727e8e46b5', '1866.e473fa8286a321cf128ca40407cec067', '1867.fd43077a27b6e0bff531d55a475902ca', '1868.1fef6580cc8a54d91796a011d44e3ffc', '1869.7e629f0611df5503ab8608b3cfd9def6', '1870.b9a604aab752c128a6361cd2860fc959', '1871.a36e311004ce012e7e39d64f12082bbb', '1872.2b63f04638f3878d95641f0194baa501', '1873.ca66981e04ecb411738d47442a3aedaf', '1874.465e3ebd33979810b218e99812b4cb72', '1875.dbed554328b768bf307fecf3b4491ce2', '1876.820a9b50a434d9a0a0578ee542ad78a3', '1877.3b830d0451dd084e5c125436ac07871e', '1878.0c34817869d72b7cd32a8f3ebe79c272', '1879.cf7e58d9357d945a1d7381703b70d91a', '1880.ebecd898b60abef68261b8ae5b05a198', '1881.7a4b4e4c68a852fb5fb5876ec76899ab', '1882.b2b08c2869320b81591f1ca1f710b6a4', '1883.c01cf3c82533724234cb1e6ae871027d', '1884.a20accc905fb9492bee347165155a4f9', '1885.e0fe9e7b4cc8d708983598de04545ed5', '1886.bfb82bb59d7af53e18c36ad736c7d99b', '1887.884e4c55dd2c7579be9b0986190a1426', '1888.57a8696540933098cc8c8235542bf042', '1889.07ff07f84507a0b2be0bd27b091736d8', '1890.ef9fda5365db0f817f62d6934b14ab77', '1891.4bd1b844e2c796506ae9f3181c14cfcf', '1892.82c1d57eff76129d5883976011d79bce', '1893.f4e1f04673f39ec1714ca2e3056684a0', '1894.feeadafed8d22fbefccef31f2a2eb74a', '1895.cb9fb06a3bc791664ca52cef59045bee', '1896.4dd6d65470c53453c52754a130999d10', '1897.91a261359b5537a465fa0164ec1d95c6', '1898.ef7d61da92cc8da0b91e45162d4ddaf1', '1899.008dec310f96f23c34bd577427554cf3', '1900.73b47a5794b96f4bdf4fc4cabee59637', '1901.5fb290d69c23e53e5e299ad81af93e8b', '1902.3954c84ea238973e581494170bb9d1d8', '1903.c07e63d841ecc3071e93d8ac71798661', '1904.2eabf76b86fe83b4c5617fcf41b42c79', '1905.69e96a22bf5c104ac4f0964ab31cf82d', '1906.edfc03da8e4c420d9ce26428eb6f7149', '1907.511fe95273f35d03c3262d815daacc4c', '1908.030d5fb106c7bbbc9491f92d9b64fd64', '1909.97cbba56dde3e037c13ff2911be560fd', '1910.77a21facb4e83b48e206ef2c8234562b', '1911.bcd8913fc0feb8f2a32f80d1498d3718', '1912.161902f18a1cf85c3bf422b88ee40d0a', '1913.7cd33343ce0d77f610058bb8d3ff6863', '1914.d2230228f70b1889cc9e23ac921bb969', '1915.893a0df57d80ba1af2d3af1c591ea66b', '1916.de9bd1f5764cf1615cfdfa0d7ecffeb1', '1917.ad9c0d9da9c49cf27bfb916fb6506594', '1918.e1d8a7c0bcef6834bba337b0d13078ba', '1919.cf8a285d68ba4ce64b50b5b463a80808', '1920.3a0ab24e273f9a6f48d2168575425fcd', '1921.fa34fb56fd0a04ce46ac71d176e6ec55', '1922.b0fed0fd3b2a0044158514836a172732', '1923.c70122426d8be452477bc792e6ae4a95', '1924.d7349b933e38f743e65b39f648ecae1e', '1925.7a2a85df917680fae73bb7ea68c0027a', '1926.015beeecce2dc9c81309671f1f490f0b', '1927.40edefd2f8ca788645da340d2e2a1502', '1928.3a8d4a589532c26762138d711aac81f0', '1929.fa582e5442852bbe2cf2e0ff990bfbc5', '1930.0965a4aa5ecfe3ab06526520f7eae63a', '1931.40262a40ae79c16da33681e3c718cb90', '1932.e94c6220cb5e6a61437ac4ebf873b68f', '1933.f9a004de32087d7b8c150135aff4f42d', '1934.8e30ec46365bab9766f9d4ad5bfc88f8', '1935.323e3a0e8b8ecafaf86e9fa18db016fd', '1936.8cc99e560c5a9d5a45dda7015adf539a', '1937.fbd8353134542a7443e2fb57c78995e0', '1938.844c886b9cc04763e6c2c9a6c8b88c0d', '1939.f619d25a4c8a6f451c28382f0ad34373', '1940.a50f7af9a2b291721d17dff887604026', '1941.a36b85a4d1e7b2898662ebb36e7c1072', '1942.ba8554a3a929a4c9a42c0a23bebffc82', '1943.d1cf11c72e02c4c94cbd3a4b52c71ff0', '1944.44e0f13a1592901884bd9b1c73c1023d', '1945.da4e2be4c3804460bd43c2ab2aed19a8', '1946.4cdca8955809890336b02e8a6b5a9b1e', '1947.711930fb110762620017cee7cdb93a1a', '1948.b8e3e5fc7ac3c0b862d066125e5d7129', '1949.fa3deba2ee6dbc2f045da7f283ad3a3e', '1950.6efb69934715d6e12d3ce0cb4e8e4782', '1951.c2e97ca6bd086d1944332980c1f64b65', '1952.7beeb7601f319d44e09f2830ddb58c51', '1953.cd45102de667a9e4d0374f45875c91a5', '1954.5e99943978d64989611d5bd4814126ab', '1955.29f186d81a38a1a4a249c7d84182bb90', '1956.c5282d8e2280070c5b5230239de77d0b', '1957.0fd661cae9ba750c8d2005ca5f5f2075', '1958.2e664403f1d45b88d08abed4ae1b5c80', '1959.27ef2109bcf0f706c42a4977db5f0dc8', '1960.0b9004a526b1841630610c2baf33ac85', '1961.d8777f629b1de74809f97f94180ffc00', '1962.2fde400b715a0609b9f2150026168da1', '1963.314e60fa6f1e6559eee98d1b3b21a6d3', '1964.bfbedcb42affb489fab7fd9f85c1522f', '1965.974ec59d9cbc6bb705f5c3907d6a5b24', '1966.a6ad55fc6cdaf28e047c333dd5a55b7e', '1967.39e72b1ec8530a135486f51b91c5e9c9', '1968.f87084e6892b5184d7cb629bb2b382f0', '1969.08d3334c15f2c9c6b41676d715d78d8a', '1970.43fa8f1222f87f472c94d1c11cbaf36e', '1971.1967681a51fd3f560ba230b4f1f010e2', '1972.e109de76776dd3dffa5b5c34ae93b531', '1973.21f4b99039d60b759d1bb452dd5f6b46', '1974.add969b0f792d9e31605097f8c1beaf6', '1975.a7abcc87330dc1705f587b11d38d4cca', '1976.e5cc37d360e7f0720c6bc1a6f658c11d', '1977.28fbce6e72a12724199a85f34bc6e238', '1978.9e384f828b5c1d538c7758ffda11e3a1', '1979.3e2071d1c381de05d3395a56623f39d7', '1980.09dbdd823733ac23a4adf89d4fc03a95', '1981.2482770c04473ab0060a30b04366cf37', '1982.896a7f0768d957cb97d487b7c4525683', '1983.d260d5a28ff1ef0d9c81e1a509d6d99f', '1984.5c2851a21ec8effb64aed38a4d535616', '1985.3eca383d64f3229f8d70bf6f344b2d95', '1986.8a619b33224fdfd6a3209a84e95c50f7', '1987.c891203fbc1f19431e30d96928aec430', '1988.d2374814cd3906436597e3499bb02e4c', '1989.703a765c5ae445a62fc39596da8cb7c3', '1990.c01dffa98f203ef507e25ec37f4c413c', '1991.0deeba11c7b0fbfa76f73e385fe60956', '1992.3e5d0678bc7aea746e1303b40f3bb961', '1993.27048515acdeabc66b9013c97649df28', '1994.229d82d8a3ec1e099e6c8904faaaa32a', '1995.fa031be950098e730d0c0c1cbaf756e7', '1996.ac27043b68b6b631fd03b2a107b3854b', '1997.3153cb4a5f2bc8052891b6d9e8bfceee', '1998.25f428334e65c83e59f238ef6e90ab85', '1999.44b34d72c70aad76e23e7e11169894d7', '2000.f5754a180fc6394657dc27921f88aaae', '2001.741b26ed34a4c4c1a00cd13fab78b174', '2002.4aee6e78ce794e84f44ccde11f46fd4c', '2003.cab84732937d71e57c872ab3c97893ac', '2004.026ca4acaa07ff5fd9a5512393cded81', '2005.f95c773a32ba576c1da3324820a33f74', '2006.65d9202fe457e8c8eb1510926632d148', '2007.52f6b2592f14ac82581df53aac6bfe68', '2008.104cbf95bca77edcf27dd90b2b74b1b8', '2009.9f155332772871c05e2b980a153ff31e', '2010.7f0408659307f6d8856726681ac95337', '2011.9604a6dfecb37414590009d7c0c04f30', '2012.d580077db083dd3febe9ead582869204', '2013.97a746151eb8ad69fe4af5e3598ebed0', '2014.90d4717c17eb5d162dd7230a1576b4a5', '2015.b96ad514add8b5a601830d8c9d776cde', '2016.822832b4cec1368c373fb8065cab6d7e', '2017.4a2785d252ea596ccb66ca45428a8e87', '2018.92f706785305106c82198f4df443cb30', '2019.c804962e51245b7ec2353667b9171d7b', '2020.453860b261d8451301e6eb518938cda5', '2021.adcaa7be43b7bdc9828ada336c0eb7ec', '2022.e161d62bc9d2e571e432b385a906097f', '2023.c2d30553247c5cb1e90f72d3333cae8b', '2024.095702af0ac6e07d7dd2027da62b800c', '2025.d02c808f704b98db9eff4b691ad7265d', '2026.4cdce207eed54f4f6dc9e6a83b1de237', '2027.aa2db5ca652b0b600b96fb82387ac9f9', '2028.376e3e27123560237f00a7936cc8de05', '2029.5b449b4f31033db259423df004da2e00', '2030.24e53d05c56b58c3de6ef15c92140c10', '2031.81bbf025232d0d1f70571c9169091565', '2032.898d3300f0d3d3011cc030aa1cfc24a6', '2033.913c874ffe0179b83d8a1579bb712c81', '2034.84e8945b5bf480a2ebef1961a64b8060', '2035.716c26589931a6f094b535608e33e9c1', '2036.6d6802d956648b98383d9188257a364f', '2037.8eee0e6738beed8805727cca45c8b29b', '2038.326b26998e0dcc010ec7f808225903e8', '2039.8737172ff7a6577876bbdcd440a2d7f4', '2040.d3f0b94750bc5473a3c103ad037bbc22', '2041.4b394c6659275d7d2a0b8b9b1c997d8c', '2042.82efc2a52ba6bb772d106cea75485b08', '2043.17d3228812a027a1ffd1c5170b184178', '2044.44bf59ea8589daeadc7af5f5c4d7827a', '2045.23236c16f102098247b10ca305a9a6b5', '2046.3f95a61d81925dfddbb0fb1de0a1caf4', '2047.4766cf419e857e8607dd61aa15a7ab3c', '2048.9944a591b5263dcf5726e0217314f029', '2049.b39e5d6c944e14add62b71862b2f2d41', '2050.24cc1daa8d252a81f59a09e8f69e9c71', '2051.e7d9645f8b4b87954a4445b9129a7ca5', '2052.26af2a75e1e49e4ce02a01912ca86601', '2053.f61808e7e505202075cbcdb4fd4ef532', '2054.0bc74ce9eff995567528d17ac987f506', '2055.bf3873bdfb04c1fc4b4e88f4794f8260', '2056.0fd1b3fc03eea7295b13b1a8ba785ce5', '2057.678c692b49b657abde1a5fcb861dd37b', '2058.223e1c8e29bf95617ce84cebf836351e', '2059.69f72dcafe2f8c1b4ac35a6903c3ce95', '2060.1eed50ed5c2474a737bf37d43d713ead', '2061.19ee158fcad270f48386e9a54e903dac', '2062.00a15e0970e59bea61ce471713af3f34', '2063.33de33891adeef24bbeead70e9682bd4', '2064.a4f725da0d1875a96c4f76bf20d71283', '2065.9f67df3ea0e08df6d36c0b6f927bcdcb', '2066.dce0718b87da2153138f0037c89fb38a', '2067.eb3f787db4153ba2097300731731f1b4', '2068.2f532eee36ce04932cb6293ae3ec41d6', '2069.b54234bb10a912c9846378026d37ece9', '2070.812cfc32f3b181d9065454b27aa7c498', '2071.fe91cbaba0f2ad7c725d9614721e7ab6', '2072.373edc9b20518ec3be266c31352e506c', '2073.c141c0e2fb130f861a8eb1414d297b08', '2074.f3d515d412b9afe36b37e9e9fcaf1614', '2075.711e8f761dd164a7bcafc3ab23c96735', '2076.d720d451d160dcc43087eeba59c4be71', '2077.eba992ea7cedb65c1fddbf9ea01484f3', '2078.9bb650992dad02cef6105da91f7cf807', '2079.d44062f5db758e44fa38310f27074b05', '2080.ab6696366fc705cbf1519da0d572e988', '2081.25b324be67de8e843c9e090654758cf7', '2082.a64b76ffad320677e6f8143c56205455', '2083.9698454f238754338c3355e9ff95c422', '2084.94bb62299cb34413917b4d85a6fea315', '2085.989d3abd458840ebc7d859721a34c40a', '2086.4fa0d1182b0415c0ff3ec5313f2612cd', '2087.0bfbd54693a9c1b9898c96b430865d13', '2088.fbacee82368061cab3866a7db4795b32', '2089.3ee44b35315e3e3c58807d125acaccd9', '2090.1cc5d751bc6c360a07a2a9660359a549', '2091.1a1d629678aa1ab8953772a2cd006183', '2092.c0125a6072f052e3096698b85fc3d1fd', '2093.0be5ef6832d49a69e18b527d837607e6', '2094.ab0de9fdfde7eadec0dd1da6d27406ff', '2095.c0d4fbeea4942b5c55a59655694bdb9e', '2096.8aecfec50aa2ec00803e8200e0d91399', '2097.820c6aedfb66c0d1f181f002e9177fc3', '2098.9d58021c6b424395a17fabfc0cf0cfca', '2099.f02255a3e671b498c68e6c282292dbe6', '2100.df0d7bf93b86d3cb7795c3dbd3f0200d', '2101.c893f322ac6643c10615dfb3c466041d', '2102.3e4d0d62c48f88848cae23194ca6f859', '2103.9b9673343881a5e554364e75ea4ebb33', '2104.1e0b700ebc0d9500c4aaea23a9bd8c10', '2105.b5a33b8a9bb69d17d1b2201aaf5978b2', '2106.dce3a5c38eb0d3ad8ef8a2e559cfd0fb', '2107.ae8483d56d7013224420396c93b674d1', '2108.58ad8210efb0029659fbbc41d939b414', '2109.094078fcb88b4e1fa5eb9fc67ba998bc', '2110.65f419836d97dbaaa92c441995a69264', '2111.f1d55acfddf3a3b55f3d68002bf4cebe', '2112.6e75ea06b30797027470e19c65ecd4d8', '2113.b1a292a55bfb009ad4b70518d7399249', '2114.00889c19a33dd48d42bb15c030be21f8', '2115.ba420b4ef9804b32f45c15c5337b0436', '2116.eec6976677828cf9e6cbad4ed700dc00', '2117.d0ce36a8b096fff94266db762fe0dc7f', '2118.760801b1fdfbae4456fa81a7c7316e2d', '2119.68048d777b01f6dc75cb7aa242abe4da', '2120.81c9273dfa6150205f929cd334593818', '2121.a09b948bed54d0075b93d57f85b7df1a', '2122.687e20ef89e6c2fb7f6a3ce98970de3e', '2123.434d5b6c8f3e861ae0d04a9db749e734', '2124.6a0ca069f77dd04c1cb2a24df9a3f59e', '2125.ee1e93366c2199584cfbd4cbb353d918', '2126.44971810848293faf930b319d2be68bb', '2127.215dcd2e641c5baa6ea7d056ebd3461d', '2128.c2c0ae4f6f228da05bb9694ee864946f', '2129.3d86d3c841fb61e241b77634c774c7fa', '2130.195623b2a5a8f7c796ed92d031471e22', '2131.87a32fea62016d67931fa6138ad51748', '2132.559afb271ce8b31e8e3a0c32e668cbbe', '2133.d3d4f15eb898bffe360f99678d9cae2c', '2134.6cdd3f522ea2e84ddbc75ad2d594b3a5', '2135.bb604c195ad3bf3e2875f889ab46f39b', '2136.a8504a5e292f715028c581ae28f1186d', '2137.0f7a7520bac29f7b0f65a8f44350aaa1', '2138.e9ae7c69cdbfec0ee85fe0248fbdbd69', '2139.9ba6145b574aaa5184fbe919d9a64fb4', '2140.6fbc988095074138c040158b12948483', '2141.1297ad634fdb16e4272387250a901f5d', '2142.bfdc73e4caefdf633f73be997633533f', '2143.8852188c7d3ef07fd9f73b8da822f7a6', '2144.5f8c751957529e6ad26a7514434bddf0', '2145.c986f253379064227829b00592359c15', '2146.c87b60b5d82b08ad158555b96a042b7a', '2147.45f983522c770a6d369e6a992bdc2329', '2148.7cbb3ecf9ed0bfffb85941e87f49e501', '2149.0433d818006a650f384c28b22a646b5f', '2150.3878da48e45c808f8de1a78afe8e68da', '2151.a6512282aa9e19567fed4acac9b7273a', '2152.d8dd8a2810797c245f91ae73868e72c8', '2153.f903e3e2bd4778389eded3c8337b5bf7', '2154.0949f10e9c0050803f5e324f72641e80', '2155.9febcd6b448dba76de404c1c57f8d239', '2156.be3e49ec0cd70317cfd27ec8e7d0a9b4', '2157.f89b3083fea3eaceabba7a30ca82369a', '2158.2eccab8fd3dc9b3e333e83c0bf550210', '2159.5ab12cc141927fdd9fbf5f9d17bb2533', '2160.51e6e82e73593cb2317ebea3b7301b65', '2161.044851c0caf13b43b3c1ba4acee6ea8d', '2162.98dd059bc733c48b26e52ba59cdbe574', '2163.0ccb16a07546a6528885233e0a7ddfd3', '2164.1a46ee8b5542d762cb2f364fe48207ae', '2165.e70044bb021cbe032cec4c24ccf0c78d', '2166.1b4ee93f256355cb32c60aaddc07e90a', '2167.9588865b97e81346cee53865b19d559b', '2168.78d5d7b3c85d3215edefae196a24bb30', '2169.8b7b5f65ef9511d96214e3648d3956b0', '2170.78c282a5e417d6d231dc75aa8588ebb7', '2171.a86d3fc0e0dbc1d4a829381e554fce82', '2172.356c6cdae52c866f32e0e62ab082801c', '2173.23722932b26a06491eec963ae3531df5', '2174.ee8fcfba2ef21c8cc97429a9f9c31f2f', '2175.5e6bad4f0f6bc954e5883edc34a0e22c', '2176.71c9df46ed8e77885083e1b9bb7f6276', '2177.e47377131d2204e0b6830211bd69ac40', '2178.c8c32c1cb7a548e58373aff29aa074ee', '2179.8f1ee5b4ce8900e6d9992fa232c9286b', '2180.88d59369ba5887b4261ed9ab2d7df389', '2181.3f950d2c7e806d81476ecbd529759d0e', '2182.7ea62c1f7694f7f4a9ee9d189bcf3155', '2183.ebea6267d5822c2f0c3f82556ea3c438', '2184.a85600551a54fe5470c755feb9062027', '2185.5721c1192a54c646cdfe02998e5fbae3', '2186.9dc59321a95e53d5e0ebaf3524858913', '2187.0759738c28fef69687d1a732f8860ac4', '2188.1443da009610f008935853cd3473f1dd', '2189.c5d8814f90dfb50e7798be9c8b9bf2f8', '2190.bb3a7c01cc0fa4d7e2cb8237b593c570', '2191.7e6d60764803b91bc8811ea198a3b80d', '2192.8b18ba01caeb845ee9204b43cd7e8dd6', '2193.8220cdccae38ad8e4984999416bc3c92', '2194.146d97c64662ed368e4476b97c8ea5f7', '2195.ace9e44f336ea7ac2d1286ea79524058', '2196.398bf8908844f5f3beb83f270f4bc198', '2197.ee9a24fff312f9634690428c61a9503e', '2198.161bc9ce9471f604149d2468b2bc198d', '2199.443731070c341a3a2d676304635c4978', '2200.866fde44a7d7ecab7c0cd1d8e84055fa', '2201.eefdaf79beaca1667b7067ebbf9df781', '2202.689fbd0ef569291fa197e1a31abfbb77', '2203.eec5537a68a269c41b4a81fce7237e0b', '2204.10ad821cb53a4ab7f04e6cce9a711874', '2205.de62f007c5cc4e08cae87d1c81b24937', '2206.533117a0e7f5c975be45c7ccdc006d86', '2207.cd15ad8e0e79e05ea58995dcb9d84eec', '2208.77129b5469360a31de10a9f23fd7a64c', '2209.81f0feff96d3c780aeaabb787fee38c1', '2210.fa8009fc379535ff811863bbf3dcac4f', '2211.36674c8f8ad0cccd398909c857bdde50', '2212.1f18dd012ff40c3be511acf583b72ad6', '2213.6647ae93f71723406e93a6dc306114b5', '2214.d6f07108378ad8df9560f54e148dfd4f', '2215.a3624a6a4e9a63e73a4bece8302538bb', '2216.bb6066e5acc2a423eb7515a665dc1a64', '2217.901fa53ad7732a9244462d73f7ed5f5f', '2218.4627a0ebd744927f2957e7e014fb82fe', '2219.a6bcfc52346ca02a2add2951167549c5', '2220.47fdcb48672a1f836c88bb76344fae46', '2221.13e25582abf522bfe1afc5c9ad180bde', '2222.21412f6d911e6718ab62011cbc6d9eea', '2223.87c179a36eac549816ca5abe8e0eba2c', '2224.07aac9706fc57ce094f3cd93cb05cd0d', '2225.5ff5d55de3cf9742cda5d78cdffd1ced', '2226.e9d405fa9921c5adcce9436a26f5bff4', '2227.977581980ae66fba8552097d6544d7be', '2228.6a8e7296030921e6cc2cdbea41212577', '2229.ddcb88c6c7abcd2920def23ab4624e0e', '2230.c744cb0709d0a4d920d4fc5145a072a4', '2231.e445a726e4506b0f12a314345e57f4a0', '2232.e830a09abb3c2ecb8cc7f23318165903', '2233.08aa00540e1347de9a335cc8aaf10c80', '2234.2aa8e92a3a3cef678437167df6b0afec', '2235.2c1ba5a3c31ceaf711a04c69a5ee5647', '2236.c7f35929d21a2a8b4a41dd13d756c964', '2237.7c66d7087e2196f48a007acba2d43d9b', '2238.419d4e0abe0cf364cd6d518c0ae5f3be', '2239.cc8e1bac692f0485c46475711ea6b0a2', '2240.fd1d72c726b2e17528622fde97fc0377', '2241.5343e51c03105bced01939170c94c51d', '2242.4898246a5209d99655c6dde581123e64', '2243.513e9282cb2d858393bc959ff81100e6', '2244.deb30a1b3567d250bf149bd1515529dc', '2245.25e219cc9b0bca96b5169a2cfba03934', '2246.b66caa903ee41f0f8d81281f1ab1bd8e', '2247.56a0de186cb216277810d65d4abca57f', '2248.5b6cc51b48ed4726a95d1c4d65a30a43', '2249.8cb268b72e28cb7a5ff8d500e6f332cf', '2250.48c181d56dfe9e889beed80e50a27f15', '2251.a284a9922dc539519f276a4cbdf59a9d', '2252.922a618f1b375c6392e72b0d4c61e4dc', '2253.253c06a52eec701a5f77c89f712f0ca7', '2254.9fd6598139ad233102f3924882f53d17', '2255.463dc21974a72556359d2f902e0ee54b', '2256.192fda174ac98dde837f5e2651bb07f1', '2257.495361f7bad7bdd4d5eb0224bc6356c3', '2258.4f25aa8ad2f15bf052ed996d40bca9a0', '2259.4f15b8b9bb88d4e85e2a0ba552ca65ca', '2260.4c998ebf55883e7b7c67b23e5f3be3ce', '2261.db40430b71ffa3e8f18a564181567788', '2262.e4636c98650a8e9b6f53c193cbd5180c', '2263.cdbea6cbb8b91203226eeaef8b251ad1', '2264.df776aafd5a6ddf82fb876ea512ce0fd', '2265.5429651f195f0c499f4998af2eb8c36b', '2266.eba4519c860f5cad28d7219603c262aa', '2267.816224149ebb21f829d9e39f8ad00f4e', '2268.f54fff69ebc455812e62859d5b305a6f', '2269.30cbe052ffb57936e490009a23adf3eb', '2270.dee760d3f688f3a97ccdde2da3c5c863', '2271.b2af80ed47b6d1559aa437a52f6757e6', '2272.9b8411be19d932252fc3a66478f556e4', '2273.87495068f6ba1084d30befc2913afacf', '2274.a2455971f8acebeacaff3d948621f9fd', '2275.4f027f6ea3b77c8691bc80bd28d14159', '2276.8457c2cba3f53db0d700d967cdbea65c', '2277.481836b537d072e0a7f4374797dae6b6', '2278.4b1725f297a28cc4201e126b5cc0802f', '2279.3ed61b76cbe29d2ac01fea0a1c524d6e', '2280.0aad1f9125deb948d309a1c62714fbf4', '2281.ce69a29fc23c4a9990ccc723e4da6898', '2282.0d102fad2c79a83bef590c669666f298', '2283.d3fcca4cc0478a5b3cc83334479e703a', '2284.878bd0c74c3210a9e3d19a80297ef938', '2285.c1d506666044a4903f107ba8c7e58d56', '2286.ec772b2f3090667fe82120b653bf3d87', '2287.0b1fb73371b1d056d6285d88053481da', '2288.8ca5aa3a562f097ada2a1c13796a0c65', '2289.aa88bd333912e409c55f38542357f2a1', '2290.e1d0fcd64ff40f42e222a9342cb9c822', '2291.3560a8bef18a21ce572bab2c364571d7', '2292.280a5c73c09974136e1f31c118ed6b2f', '2293.d029729e7ce15981e1ca2e7bf99aeb90', '2294.2611a5cba9ad4cec5dc2a5c749c6238f', '2295.e84ec70f3e8ec47c77536f28d5b9c92d', '2296.9d1646355d75f4b2dcdd497200c8544c', '2297.8d74f69a4188439b893c12936837707d', '2298.4cc2b00ffe4157b63358fadc3dfa689f', '2299.c928b7bad131d78430d84f5518fc6c59', '2300.29824392b05521ed9b3fc5f9e8095613', '2301.12cd963ea74e881168b6bb865dedb892', '2302.8d02dcc517d6da5c30cea81337abbb4b', '2303.3e767f2ef515f1e64c67026c5502a57e', '2304.50a83c8fa470ff996c268764133b19e7', '2305.52534ae9c6df39a69aec3fe839d8d4a0', '2306.286dad51732ff19316bdef986cab29f5', '2307.1dad26fc0f8a86b6ba5c8bcea78e1002', '2308.8b4818fe0a951cd1c03cfad294778951', '2309.79490ce6b415bc4e9326f3e2e65874f4', '2310.5c05ac6e4c2b473ef5dec9fe794ec853', '2311.bb14a70f28038ba499c3deea13275460', '2312.2fa61e6e4c98cb8bc45ae247b144d8f1', '2313.bb42a208d00004e3e915fbb9e098585d', '2314.4f54d12d0312c809a8f2d0df56f89982', '2315.6fc3d0e44b9f9917184b5e578217cebf', '2316.2d6bc229796fe7a7dd725fd7211374fe', '2317.16836d0298c740b64ec1d2f2d834dcbd', '2318.150e3ecc4f38db3099d332e2f364a571', '2319.ea6f1029883040d12f7355a83cd0326e', '2320.a1cdd2b0e2af68c83d759ffc8b4393d2', '2321.7945011d4ec69fdf731ebf38e9d2c1af', '2322.328fddba2b90d953cf0f8bbc92176c65', '2323.28b476aaf8253812fe4dab4c3ec7b06f', '2324.65b1fb56947693e7618b40f57c49c61b', '2325.cc16427dcac808a8d7e9c7aeaa6dc684', '2326.73396f0421612c54d1c9727ed953582e', '2327.99f03eb7cff9374e1748636eb160c385', '2328.da7bcb9a3752151e475ed0b137f3e863', '2329.f1f6996036dbf14d6388fec63a7c8ab0', '2330.854fdf89bd1ad6013aa5188ca205f6ba', '2331.9c7939928702d2df3e4a435030e24191', '2332.d3e1169779b1313070c82de262c30635', '2333.4632abb5df000cd505ca4516b2dba0cf', '2334.922fa276236eebb7adc8732d7678e7e6', '2335.3d993d80cc19564416e607f82b4a6422', '2336.a6a6cccc3cda00f9a557856368dce284', '2337.f9b3f7fca5d81b0c44d65c8963974f64', '2338.619a3bb68933a6e1ae01ea6fdd0e09f9', '2339.156bc9a5abab7543af15b23d02f1196c', '2340.40c9d3c3940d1c4a9ec570ce144798d2', '2341.23fc100bad93aab582c5fe870225bac2', '2342.f3a2998bb86db89f22971aceca333a98', '2343.7c59e6951b7e6eac7cc58941604cd63f', '2344.45d6efa4dcc957ef888b88e5017e850b', '2345.f7e1e6af67f433af40d8f153ee5fa446', '2346.1939a40fba00b400341fd09b7c8365b2', '2347.044af29d1e9948d73e546402899ed5ac', '2348.b469fe4ceaaccf4d14322d8323eb2740', '2349.3555a9d44c166a666e2708d576dbb163', '2350.e336f35efb4d1193ec7ba34e8093e182', '2351.d418f84c3f3e02133b0ce67a243ecff4', '2352.9ef6a72d0d08983801d7f050fc243e1b', '2353.20ff0a748f861a24c0e3ba224bad267a', '2354.3aef377f043267a660f4795f3560507f', '2355.00eb81a74e130b74f5252af1cd45897a', '2356.fe4338d8a23bb7fcf17a95b425a119a2', '2357.dcb44bf1756c182b251234780db37eb7', '2358.5fbef21d157da3cf529ad0b1773fcbaf', '2359.180792e98777a31826a0cc0214e7e98c', '2360.d6c0de8e2c018bdb6b99eae690d87e38', '2361.5af7754ab0b6fffb139ebc6e063f2b2f', '2362.7000c27b1ff8d8539c46fdfec032d708', '2363.33946657f5bd53e8453bfa83b58746ba', '2364.3e4ea188baa5301f26758bee4aeeae57', '2365.3213a2f82f944bdc6faddf9fad3b32d3', '2366.eb6da43296b0a8cadc1068709857d55e', '2367.4c7d1d3b8b2f0467a4ed5e9ef5f17980', '2368.b0434248d8b7f5b7d4c0572541f37832', '2369.490b37114daf4bba803abe57c307dfd2', '2370.798d5a7c04b417c51bc86de7509e4503', '2371.ae43ed9fd99265129afac0caecaaedfa', '2372.8c8060e5f9bff3051ad59484d4145ea6', '2373.477bdb5654c00761f3131016a6c4dbcd', '2374.7c47a12739991813706251d0de22bc79', '2375.5faad60d386ab68428e38cb8d24e2c67', '2376.9d8ac81ad1e80c5baa1237877eed0899', '2377.f6c4df0e5b3b3b591d06ab0a47f0d74b', '2378.afc0668317b786ef363f8a166455e91a', '2379.a6b19b663f5329208f357b7851c197b8', '2380.106606551f4a5c1e0065eeb0f3a331a2', '2381.b2da2e96c499fbf2c4cc0ff9491cf337', '2382.58498a8689b84bdf430e14fdb44bc128', '2383.eb56138ab20d3747c95e7e0dc4e07158', '2384.835c56e56932e88a89271d2d13df9a8c', '2385.20f2c233c24c8e31a1da9bf12fa382cd', '2386.756b3e8e1feccdec0e7b480e9e923147', '2387.84613a387b02e64a0950ebd372630739', '2388.71932ed900ca758c39d3d0dce82d4e36', '2389.af658dd4bdf389ab5277f39579e0310a', '2390.0f7b7d202c0301fe0c19b45036e5018b', '2391.40efcd4ee4a50355cfe8a84c327122c1', '2392.e264d42be089df7d12fae209d04595f9', '2393.9ba2bbda6af818512632047ddd5aea4a', '2394.cda81aa093088e4a7d1619d62fe85e9f', '2395.670f023abb4c213102c48d9b2d1963f5', '2396.8126a8ee1ebb7fe484a5709f96192b02', '2397.9491b18b38e40aa651c7ef9b6291222d', '2398.28b39e53d2a685ead6f2045f6d7b121c', '2399.8815bb6c714226c9a83ad8d743d7688d', '2400.49e310283d53c6a1d475fafb88e0e424', '2401.4e7aed94d1a109b0b98f0d9e3f5fbde7', '2402.f17c22d527836faa1f808a37f22f1b46', '2403.7fd62c5d5507dd023dfb3141b4d84602', '2404.7f57c938107c071b9c390ddfc23719d3', '2405.6e9650560fd0949f45dfa090e2588fb0', '2406.6c1c9cb7a7c4ef856b8890a99866dfa3', '2407.c9318bb61b808a141780fa5067d53a05', '2408.9d2e0a6592738da2aad3f0657d436895', '2409.b8bf0affa6c8cd49157e7c845b2d15ac', '2410.b2e5de4ac66ee4a16dbe5dc08e804e4c', '2411.debe2dcb9f09b73d42f985bdd7913bb6', '2412.07ac8dd0d5031b11cf24b9f8949fe5f0', '2413.da7ee8c166b4ad01e4fca703f80bab01', '2414.9762e257ad9e6b6633dba8432ffb90de', '2415.28f9ed10a01fb7ff5dbb400d3b2bb00a', '2416.77fd4434a9abdaed5b53307fa16a7e2a', '2417.ac9300f260df31bebda16e48e81ffa41', '2418.6ac869fbb6afa9c38fbcf48e1e49ad3a', '2419.104f029a2c2f3ddb0c756e7dd26501da', '2420.907cd1772df173393e1df5c1f4364a9c', '2421.aa75fb78c4f596e7ee91808fbdc34ab8', '2422.92290ec1e364f69c42ee8b867601b9fc', '2423.fa4019d241ed7886c8d138565751930e', '2424.ef94e4767df08bd382aea26ff29774bc', '2425.9cef8b6162d888cdb9d7af1f21e788f2', '2426.ba29d4b97bc1e42b7b12f678cf41d981', '2427.2e44be16705ea1d39a01befda3915eb7', '2428.d0ebfd677cd78292f198d292d4cb61c4', '2429.ba3172b8bb1849e4ef208584b4fa51dd', '2430.07f067ef6e156d06699718e8927d58d2', '2431.73b1c36d5c643ad44e91562f4063c197', '2432.16b94633e0023cece6e08a08effe7714', '2433.a058c43e5eb916e0c788dd9be2678fbb', '2434.477cbb634d8dd2ee4e697f479fa77b24', '2435.1b197d20c88b19fb1ea4c3c51bdf9980', '2436.6d5122b7964e63cbf7b656d21bb77c50', '2437.35d0ef84e97135b9bbc945193344c307', '2438.a99d09c02269744f20cb1ee2cbbe2728', '2439.c8c3aa25791710ac30aaaa49cb276f12', '2440.041d0de1683ab08bbd1c626e7d0d3beb', '2441.8b6ac53af9cab970afa13ff99ecaf8da', '2442.ba0f88eeb7387e4481fabc6cb31d1b30', '2443.2378d372705c7f64f101b68e6d7a0b5a', '2444.825099d851d45e7c2b34e197d6812323', '2445.631e9fa95e78d7f56fce09a4e6da56fd', '2446.34e896282d23f593971bf47f5bb1ab0b', '2447.e93a9792f68b12cbc322eba2353b3c8e', '2448.b0f260e47f1853702da3918968a3588e', '2449.d06b13a245cc7eb0f5bd7ae0b4f3c2f9', '2450.4eba9e73d4d29b754a60647748c9a2d9', '2451.1ccaf9bc09a2b8e339f02d21ac62f437', '2452.462af6aad417a792d50847cddb590f90', '2453.3c30230578edacb961366df72c6fd2ac', '2454.927f352b226246d7bca7badfc2d7aa50', '2455.a8172ce70c990c52ba73c2f2cb17b5f2', '2456.1b028dbafc21c1169e554a1ca612743f', '2457.5fba5a23aa428e3201526f7c978c88c6', '2458.dc9072428527f92ea8b938be335b3621', '2459.f9df87daac76e5eab06b4afa37b3921d', '2460.8a782dd603bfe327c2f7adadf590a094', '2461.20f3b1b3e7e2bd1bd6a016f9f09374d3', '2462.5ae37f6f0ec68fd1c2dbcec70b6413c9', '2463.4120f7bdd5fe52177c1d78f371b69c76', '2464.0c973fb4c6105b3cdc0ce5c786ed6b0c', '2465.2586b48935009c0fcea80ef5d89f4e20', '2466.4c6ca64a8fb037e9515adc98486a8146', '2467.5c3cff250c85a50dd75b0b9e1ffaac3f', '2468.897a44a9936163da20ab13ce60d5e153', '2469.1135462b65bc58a05522e86383b7943c', '2470.e2f55eaf9c7aed2b85c4b4ca65781d3d', '2471.9bc6c0ad8e1151925d35ad52c6667d62', '2472.2f502e69b5201834c4e02ac0ea9c6be3', '2473.2d70d3fac740804c6a280009e0418f13', '2474.e7fce1af310d8b7a2c87dfaeec71c172', '2475.8572d77868481d0fe409eedd8fa6d443', '2476.26c155346386cbeb36ea1c539b294be3', '2477.9b5f251639293269f0980399c10a70d1', '2478.d8deadfe2c1d046587d57a1b03fff346', '2479.a918c490f758e2421f35b66077f2699a', '2480.d652d7fb8b29ab26269aa5668f3e0035', '2481.03fe35f728922f8cf6d9b69771da462e', '2482.67146ca47d2cb5e4657d54c66bf68a69', '2483.9eb471e8645403dda2bd70c08b463faf', '2484.634d1d98cd2c7d4ae85bc5413c399c44', '2485.0d0140da769ebe4de6c1851fb7017352', '2486.5801c079150004024c1e2a0a21fa4521', '2487.68761726d5f3f00dca1dded48e089e68', '2488.8e2706d02807ec4fe59ebf7aaf77a1e7', '2489.b76d126a6aef85219a4ac8d6df5f4963', '2490.f03277d54faea3974942b3213f38268f', '2491.7b6a8fff32b29e04a8638dbb67cd85b9', '2492.a60a61ef3280f7b68df65d4d7cf3afd0', '2493.67725941996521d187945dfaa2f19ed4', '2494.ad5de9e5dc49e51155a6d444e772b671', '2495.8adeb962ec89dedb809a2a314b8a9fef', '2496.b8dd0beb971f9a82a8cdebf562f8dc1f', '2497.0cbb23e8858a0e33bcf2cf6fe158deb3', '2498.462ad5291e185d0288f4a70313e3cfe0', '2499.6fc4e078d141a24f3a81bc4936722fbb', '2500.231666f4f5641227a17a09ba77cd5c18', '2501.36311f6ceac129fa31540555ffe3cc97', '2502.1b59b45ca1fe56edf35ae8a398636806', '2503.43a0b463302d0c595b9829dda18245fc', '2504.9fc1898ab2a75d2d9e9810318bb4e90a', '2505.550c8b2240659bb8bf54b17edea4a96b', '2506.7acaf086619d33409b90223fe066589a', '2507.e7c3831cab3bc377bd62de9912c076f8', '2508.c2a4352b3d889e87d3493e5aff6b571c', '2509.96e57ee2a1f9741a7d09e431f59bb049', '2510.4de2705ed127d2de3f3b5cd1b8043ba6', '2511.1982adbc74d9a84a5ff8db7e7c722028', '2512.d68f3adc32f665ecaf1d096a83d78aa5', '2513.753d70e90eb4759d73d67ea6b9b12617', '2514.f2c8376ccb20e0255fd97cab426f0c3a', '2515.177e746c09892ea4c2631adcc62d73a7', '2516.030f0cecab78d582f6f5be58422acf79', '2517.2dbd54c3580b5fb8e12dea4d876348f3', '2518.9c2a50b66e91110fae3c27851e9ec1dd', '2519.4b5c7eea59a27b30bb33503d1be85950', '2520.554ec4788bbcc1ed13c453719c8d698e', '2521.8e5616c36de4145286f63b8ddd50f429', '2522.dc159c06c191406ece1b0fc98a352bbe', '2523.7b5518a502b8a309e42770179d71626c', '2524.c06019b7e085875e69ff55f43defeb83', '2525.9559a3f0d4d17d33379acdf5bf356435', '2526.7ff8826a8e943eabf68cdcbb4c29c8bc', '2527.fad44667449822628022a95a7cf83ac0', '2528.8b6dd74e9b8d04f5f1338bcec51b0b11', '2529.c3856b9d7d098309eb71e3ed1993aa31', '2530.31d1d0691296d715441ab4e2890d3780', '2531.8f40eb6fd94f9e48d56f6374ddc3427a', '2532.8b61e23f6e94d8b2303554395d0374e5', '2533.ba0ac203656046766a368dbc29cf36a6', '2534.2804e0302718cda7783689fa2a6d90d9', '2535.4d4a1eed6617e6df7c1a5d4ac7d368a2', '2536.601b538e15f39aaac0e038cb860ae762', '2537.2769f2836293c4c9105e6a89fc14fd8e', '2538.e3f596927fd5dd74ad23a0792a449241', '2539.466ecd08a54bf64e857522423a33108a', '2540.9527f844d218311f91ec4d87fd2035ca', '2541.892b976061b9ea684b9b3009d0b87dab', '2542.1a940f58e68fa8a84a3f83e30a624e8d', '2543.1fa39c8b86bc5ae84b837e8c7ae3717d', '2544.1a95794a767c776e71893fda91f59efb', '2545.6ddb98905ca38f1dc76e5266427c0574', '2546.dd6480d3f87f7d525f797d17ac1a0bc8', '2547.18ce2b2d4f757e70154b5c8cfe6e684f', '2548.b2259f104edd1ecbc9dc0327df387147', '2549.d05fe143eb28d1fb19fbdc39781d5e34', '2550.963956a866a2e00b3d5b353ecc9216ae', '2551.3b1f94418de5bd544c977b44bcc7e740'])\n"
     ]
    }
   ],
   "source": [
    "for sub_file in os.walk('/Users/apple/Documents/github_repos/spam_email_classifier/corpus'):\n",
    "    print(sub_file)"
   ]
  },
  {
   "cell_type": "code",
   "execution_count": 101,
   "metadata": {
    "collapsed": true
   },
   "outputs": [],
   "source": [
    "from os import path"
   ]
  },
  {
   "cell_type": "code",
   "execution_count": 105,
   "metadata": {
    "collapsed": false
   },
   "outputs": [
    {
     "data": {
      "text/plain": [
       "'corpus'"
      ]
     },
     "execution_count": 105,
     "metadata": {},
     "output_type": "execute_result"
    }
   ],
   "source": [
    "path.basename('/Users/apple/Documents/github_repos/spam_email_classifier/corpus')"
   ]
  },
  {
   "cell_type": "code",
   "execution_count": 106,
   "metadata": {
    "collapsed": true
   },
   "outputs": [],
   "source": [
    "import re"
   ]
  },
  {
   "cell_type": "code",
   "execution_count": 107,
   "metadata": {
    "collapsed": false
   },
   "outputs": [
    {
     "data": {
      "text/plain": [
       "'i m ok thanks '"
      ]
     },
     "execution_count": 107,
     "metadata": {},
     "output_type": "execute_result"
    }
   ],
   "source": [
    "re.sub(r'[^a-zA-Z]+', ' ', \"i'm ok, thanks!\")"
   ]
  },
  {
   "cell_type": "code",
   "execution_count": 1,
   "metadata": {
    "collapsed": true
   },
   "outputs": [],
   "source": [
    "from nltk.stem import WordNetLemmatizer"
   ]
  },
  {
   "cell_type": "code",
   "execution_count": 2,
   "metadata": {
    "collapsed": true
   },
   "outputs": [],
   "source": [
    "wnl = WordNetLemmatizer()"
   ]
  },
  {
   "cell_type": "code",
   "execution_count": 3,
   "metadata": {
    "collapsed": false
   },
   "outputs": [
    {
     "name": "stdout",
     "output_type": "stream",
     "text": [
      "dog\n"
     ]
    }
   ],
   "source": [
    "print(wnl.lemmatize('dogs'))"
   ]
  },
  {
   "cell_type": "code",
   "execution_count": 5,
   "metadata": {
    "collapsed": true
   },
   "outputs": [],
   "source": [
    "import numpy as np"
   ]
  },
  {
   "cell_type": "code",
   "execution_count": 6,
   "metadata": {
    "collapsed": true
   },
   "outputs": [],
   "source": [
    "a = np.array([1, 2, 3])\n",
    "b = np.array([4, 5, 6])"
   ]
  },
  {
   "cell_type": "code",
   "execution_count": 7,
   "metadata": {
    "collapsed": false
   },
   "outputs": [
    {
     "data": {
      "text/plain": [
       "32"
      ]
     },
     "execution_count": 7,
     "metadata": {},
     "output_type": "execute_result"
    }
   ],
   "source": [
    "np.inner(a, b)"
   ]
  },
  {
   "cell_type": "code",
   "execution_count": 8,
   "metadata": {
    "collapsed": false
   },
   "outputs": [
    {
     "data": {
      "text/plain": [
       "array([  2.71828183,   7.3890561 ,  20.08553692])"
      ]
     },
     "execution_count": 8,
     "metadata": {},
     "output_type": "execute_result"
    }
   ],
   "source": [
    "np.exp(a)"
   ]
  },
  {
   "cell_type": "code",
   "execution_count": 9,
   "metadata": {
    "collapsed": false
   },
   "outputs": [
    {
     "data": {
      "text/plain": [
       "array([1, 2, 3])"
      ]
     },
     "execution_count": 9,
     "metadata": {},
     "output_type": "execute_result"
    }
   ],
   "source": [
    "np.transpose(a)"
   ]
  },
  {
   "cell_type": "code",
   "execution_count": 10,
   "metadata": {
    "collapsed": false
   },
   "outputs": [
    {
     "data": {
      "text/plain": [
       "32"
      ]
     },
     "execution_count": 10,
     "metadata": {},
     "output_type": "execute_result"
    }
   ],
   "source": [
    "np.inner(np.transpose(a), b)"
   ]
  },
  {
   "cell_type": "code",
   "execution_count": 12,
   "metadata": {
    "collapsed": false
   },
   "outputs": [
    {
     "data": {
      "text/plain": [
       "(3,)"
      ]
     },
     "execution_count": 12,
     "metadata": {},
     "output_type": "execute_result"
    }
   ],
   "source": [
    "a.shape"
   ]
  },
  {
   "cell_type": "code",
   "execution_count": 13,
   "metadata": {
    "collapsed": true
   },
   "outputs": [],
   "source": [
    "c = np.transpose(a)"
   ]
  },
  {
   "cell_type": "code",
   "execution_count": 14,
   "metadata": {
    "collapsed": false
   },
   "outputs": [
    {
     "data": {
      "text/plain": [
       "(3,)"
      ]
     },
     "execution_count": 14,
     "metadata": {},
     "output_type": "execute_result"
    }
   ],
   "source": [
    "c.shape"
   ]
  },
  {
   "cell_type": "code",
   "execution_count": 17,
   "metadata": {
    "collapsed": false
   },
   "outputs": [],
   "source": [
    "c = np.arange(12).reshape(3, 4)"
   ]
  },
  {
   "cell_type": "code",
   "execution_count": 18,
   "metadata": {
    "collapsed": false
   },
   "outputs": [
    {
     "data": {
      "text/plain": [
       "(3, 4)"
      ]
     },
     "execution_count": 18,
     "metadata": {},
     "output_type": "execute_result"
    }
   ],
   "source": [
    "c.shape"
   ]
  },
  {
   "cell_type": "code",
   "execution_count": 20,
   "metadata": {
    "collapsed": false
   },
   "outputs": [
    {
     "data": {
      "text/plain": [
       "3"
      ]
     },
     "execution_count": 20,
     "metadata": {},
     "output_type": "execute_result"
    }
   ],
   "source": [
    "a.size"
   ]
  },
  {
   "cell_type": "code",
   "execution_count": 22,
   "metadata": {
    "collapsed": false
   },
   "outputs": [
    {
     "data": {
      "text/plain": [
       "1"
      ]
     },
     "execution_count": 22,
     "metadata": {},
     "output_type": "execute_result"
    }
   ],
   "source": [
    "a[0]"
   ]
  },
  {
   "cell_type": "code",
   "execution_count": 23,
   "metadata": {
    "collapsed": false
   },
   "outputs": [
    {
     "data": {
      "text/plain": [
       "1.0"
      ]
     },
     "execution_count": 23,
     "metadata": {},
     "output_type": "execute_result"
    }
   ],
   "source": [
    "np.log(np.e)"
   ]
  },
  {
   "cell_type": "code",
   "execution_count": 24,
   "metadata": {
    "collapsed": false
   },
   "outputs": [
    {
     "data": {
      "text/plain": [
       "3.141592653589793"
      ]
     },
     "execution_count": 24,
     "metadata": {},
     "output_type": "execute_result"
    }
   ],
   "source": [
    "np.pi"
   ]
  },
  {
   "cell_type": "code",
   "execution_count": 25,
   "metadata": {
    "collapsed": false
   },
   "outputs": [
    {
     "data": {
      "text/plain": [
       "array([[ 0,  1,  2,  3],\n",
       "       [ 4,  5,  6,  7],\n",
       "       [ 8,  9, 10, 11]])"
      ]
     },
     "execution_count": 25,
     "metadata": {},
     "output_type": "execute_result"
    }
   ],
   "source": [
    "c"
   ]
  },
  {
   "cell_type": "code",
   "execution_count": 26,
   "metadata": {
    "collapsed": false
   },
   "outputs": [
    {
     "data": {
      "text/plain": [
       "array([0, 1, 2, 3])"
      ]
     },
     "execution_count": 26,
     "metadata": {},
     "output_type": "execute_result"
    }
   ],
   "source": [
    "c[0]"
   ]
  },
  {
   "cell_type": "code",
   "execution_count": 37,
   "metadata": {
    "collapsed": false
   },
   "outputs": [
    {
     "data": {
      "text/plain": [
       "array([ 0.,  0.,  0.,  0.])"
      ]
     },
     "execution_count": 37,
     "metadata": {},
     "output_type": "execute_result"
    }
   ],
   "source": [
    "np.zeros(4)"
   ]
  },
  {
   "cell_type": "code",
   "execution_count": 38,
   "metadata": {
    "collapsed": false
   },
   "outputs": [
    {
     "data": {
      "text/plain": [
       "array([1, 2, 3])"
      ]
     },
     "execution_count": 38,
     "metadata": {},
     "output_type": "execute_result"
    }
   ],
   "source": [
    "a"
   ]
  },
  {
   "cell_type": "code",
   "execution_count": 39,
   "metadata": {
    "collapsed": false
   },
   "outputs": [
    {
     "data": {
      "text/plain": [
       "array([4, 5, 6])"
      ]
     },
     "execution_count": 39,
     "metadata": {},
     "output_type": "execute_result"
    }
   ],
   "source": [
    "b"
   ]
  },
  {
   "cell_type": "code",
   "execution_count": 40,
   "metadata": {
    "collapsed": true
   },
   "outputs": [],
   "source": [
    "a[:] = b[:]"
   ]
  },
  {
   "cell_type": "code",
   "execution_count": 41,
   "metadata": {
    "collapsed": false
   },
   "outputs": [
    {
     "data": {
      "text/plain": [
       "array([4, 5, 6])"
      ]
     },
     "execution_count": 41,
     "metadata": {},
     "output_type": "execute_result"
    }
   ],
   "source": [
    "a"
   ]
  },
  {
   "cell_type": "code",
   "execution_count": 42,
   "metadata": {
    "collapsed": true
   },
   "outputs": [],
   "source": [
    "b[0] = 1"
   ]
  },
  {
   "cell_type": "code",
   "execution_count": 43,
   "metadata": {
    "collapsed": false
   },
   "outputs": [
    {
     "data": {
      "text/plain": [
       "array([4, 5, 6])"
      ]
     },
     "execution_count": 43,
     "metadata": {},
     "output_type": "execute_result"
    }
   ],
   "source": [
    "a"
   ]
  },
  {
   "cell_type": "code",
   "execution_count": 44,
   "metadata": {
    "collapsed": false
   },
   "outputs": [
    {
     "data": {
      "text/plain": [
       "array([1, 5, 6])"
      ]
     },
     "execution_count": 44,
     "metadata": {},
     "output_type": "execute_result"
    }
   ],
   "source": [
    "b"
   ]
  },
  {
   "cell_type": "code",
   "execution_count": 45,
   "metadata": {
    "collapsed": true
   },
   "outputs": [],
   "source": [
    "a = b"
   ]
  },
  {
   "cell_type": "code",
   "execution_count": 46,
   "metadata": {
    "collapsed": false
   },
   "outputs": [
    {
     "data": {
      "text/plain": [
       "array([1, 5, 6])"
      ]
     },
     "execution_count": 46,
     "metadata": {},
     "output_type": "execute_result"
    }
   ],
   "source": [
    "a"
   ]
  },
  {
   "cell_type": "code",
   "execution_count": 47,
   "metadata": {
    "collapsed": true
   },
   "outputs": [],
   "source": [
    "b[1] = 0"
   ]
  },
  {
   "cell_type": "code",
   "execution_count": 48,
   "metadata": {
    "collapsed": false
   },
   "outputs": [
    {
     "data": {
      "text/plain": [
       "array([1, 0, 6])"
      ]
     },
     "execution_count": 48,
     "metadata": {},
     "output_type": "execute_result"
    }
   ],
   "source": [
    "a"
   ]
  },
  {
   "cell_type": "code",
   "execution_count": 49,
   "metadata": {
    "collapsed": true
   },
   "outputs": [],
   "source": [
    "from os import listdir\n",
    "from os import path"
   ]
  },
  {
   "cell_type": "code",
   "execution_count": 56,
   "metadata": {
    "collapsed": true
   },
   "outputs": [],
   "source": [
    "file_dir = '/Users/apple/Documents/github_repos/spam_email_classifier/data/preprocess_spam'"
   ]
  },
  {
   "cell_type": "code",
   "execution_count": 57,
   "metadata": {
    "collapsed": false
   },
   "outputs": [],
   "source": [
    "files = [f for f in listdir(file_dir) if path.isfile(path.join(file_dir, f))]"
   ]
  },
  {
   "cell_type": "code",
   "execution_count": 58,
   "metadata": {
    "collapsed": false
   },
   "outputs": [
    {
     "data": {
      "text/plain": [
       "['0000.7b1b73cf36cf9dbc3d64e3f2ee2b91f1',\n",
       " '00001.317e78fa8ee2f54cd4890fdc09ba8176',\n",
       " '00001.7848dde101aa985090474a91ec93fcf0',\n",
       " '00002.9438920e9a55591b18e60d1ed37d992b',\n",
       " '00002.d94f1b97e48ed3b553b3508d116e6a09',\n",
       " '00003.2ee33bc6eacdb11f38d052c44819ba6c',\n",
       " '00003.590eff932f8704d8b0fcbe69d023b54d',\n",
       " '00004.bdcc075fa4beb5157b5dd6cd41d8887b',\n",
       " '00004.eac8de8d759b7e74154f142194282724',\n",
       " '00005.57696a39d7d84318ce497886896bf90d']"
      ]
     },
     "execution_count": 58,
     "metadata": {},
     "output_type": "execute_result"
    }
   ],
   "source": [
    "files[:10]"
   ]
  },
  {
   "cell_type": "code",
   "execution_count": 72,
   "metadata": {
    "collapsed": true
   },
   "outputs": [],
   "source": [
    "a = [1, 2, 3]\n",
    "b = [4, 5, 6]"
   ]
  },
  {
   "cell_type": "code",
   "execution_count": 73,
   "metadata": {
    "collapsed": true
   },
   "outputs": [],
   "source": [
    "a.extend(b)"
   ]
  },
  {
   "cell_type": "code",
   "execution_count": 74,
   "metadata": {
    "collapsed": false
   },
   "outputs": [
    {
     "data": {
      "text/plain": [
       "[1, 2, 3, 4, 5, 6]"
      ]
     },
     "execution_count": 74,
     "metadata": {},
     "output_type": "execute_result"
    }
   ],
   "source": [
    "a"
   ]
  },
  {
   "cell_type": "code",
   "execution_count": null,
   "metadata": {
    "collapsed": true
   },
   "outputs": [],
   "source": []
  }
 ],
 "metadata": {
  "kernelspec": {
   "display_name": "Python 2",
   "language": "python",
   "name": "python2"
  },
  "language_info": {
   "codemirror_mode": {
    "name": "ipython",
    "version": 2
   },
   "file_extension": ".py",
   "mimetype": "text/x-python",
   "name": "python",
   "nbconvert_exporter": "python",
   "pygments_lexer": "ipython2",
   "version": "2.7.10"
  }
 },
 "nbformat": 4,
 "nbformat_minor": 2
}
